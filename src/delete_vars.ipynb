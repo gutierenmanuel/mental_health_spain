{
 "cells": [
  {
   "cell_type": "code",
   "execution_count": 13,
   "metadata": {},
   "outputs": [],
   "source": [
    "import pandas as pd"
   ]
  },
  {
   "cell_type": "code",
   "execution_count": 14,
   "metadata": {},
   "outputs": [],
   "source": [
    "df = pd.read_csv(\"../data/processed/meantal_health.csv\")"
   ]
  },
  {
   "cell_type": "code",
   "execution_count": 15,
   "metadata": {},
   "outputs": [
    {
     "data": {
      "text/plain": [
       "(22072, 428)"
      ]
     },
     "execution_count": 15,
     "metadata": {},
     "output_type": "execute_result"
    }
   ],
   "source": [
    "df.shape"
   ]
  },
  {
   "cell_type": "markdown",
   "metadata": {},
   "source": [
    "We declare a variable to record the columns we decide to delete beacause of lack of information or relevance to our case:"
   ]
  },
  {
   "cell_type": "code",
   "execution_count": 16,
   "metadata": {},
   "outputs": [],
   "source": [
    "vars_to_delete = [\n",
    "    \"IDENTHOGAR\",\n",
    "    \"A7_2a\",\n",
    "    \"PROXY_0\",\n",
    "    \"PROXY_1\",\n",
    "    \"PROXY_2\",\n",
    "    \"PROXY_2b\",\n",
    "    \"PROXY_5\",\n",
    "    \"F7\",\n",
    "    \"F8_2\",\n",
    "    \"F9_2\",\n",
    "    \"F10\",\n",
    "    \"F11\",\n",
    "    \"F12\",\n",
    "    \"F14a\",\n",
    "    \"F14b\",\n",
    "    \"N52\",\n",
    "    \"N53\",\n",
    "    \"N54\",\n",
    "    \"N57\",\n",
    "    \"N61_3\"\n",
    "]"
   ]
  },
  {
   "cell_type": "code",
   "execution_count": 17,
   "metadata": {},
   "outputs": [],
   "source": [
    "df = df.drop(vars_to_delete, axis = 1)"
   ]
  },
  {
   "cell_type": "code",
   "execution_count": 18,
   "metadata": {},
   "outputs": [
    {
     "data": {
      "text/plain": [
       "(22072, 411)"
      ]
     },
     "execution_count": 18,
     "metadata": {},
     "output_type": "execute_result"
    }
   ],
   "source": [
    "df.shape"
   ]
  }
 ],
 "metadata": {
  "kernelspec": {
   "display_name": "Python 3",
   "language": "python",
   "name": "python3"
  },
  "language_info": {
   "codemirror_mode": {
    "name": "ipython",
    "version": 3
   },
   "file_extension": ".py",
   "mimetype": "text/x-python",
   "name": "python",
   "nbconvert_exporter": "python",
   "pygments_lexer": "ipython3",
   "version": "3.11.4"
  }
 },
 "nbformat": 4,
 "nbformat_minor": 2
}
