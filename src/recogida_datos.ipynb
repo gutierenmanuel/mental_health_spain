{
 "cells": [
  {
   "cell_type": "code",
   "execution_count": 5,
   "metadata": {},
   "outputs": [],
   "source": [
    "\n",
    "def ver_dataframe_completo():\n",
    "\n",
    "    # Configura Pandas para mostrar DataFrames completos sin truncar\n",
    "    pd.set_option('display.max_columns', None)\n",
    "    pd.set_option('display.max_rows', None)\n",
    "    pd.set_option('display.max_colwidth', None)\n",
    "\n",
    "def ver_dataframe_columnas():\n",
    "\n",
    "    pd.set_option('display.max_columns', None)\n",
    "    pd.set_option('display.max_colwidth', None)\n",
    "\n",
    "def restaurar_ajuste():\n",
    "\n",
    "    # Restaura el valor de pandas para mostrar dataframes truncados\n",
    "    pd.reset_option('all')\n",
    "    "
   ]
  },
  {
   "cell_type": "code",
   "execution_count": 6,
   "metadata": {},
   "outputs": [],
   "source": [
    "ver_dataframe_completo()"
   ]
  },
  {
   "cell_type": "code",
   "execution_count": 18,
   "metadata": {},
   "outputs": [],
   "source": [
    "ver_dataframe_columnas()"
   ]
  },
  {
   "cell_type": "code",
   "execution_count": 16,
   "metadata": {},
   "outputs": [
    {
     "name": "stderr",
     "output_type": "stream",
     "text": [
      "/tmp/ipykernel_5705/3009183269.py:16: FutureWarning: use_inf_as_na option is deprecated and will be removed in a future version. Convert inf values to NaN before operating instead.\n",
      "  pd.reset_option('all')\n"
     ]
    }
   ],
   "source": [
    "restaurar_ajuste()"
   ]
  },
  {
   "cell_type": "code",
   "execution_count": 13,
   "metadata": {},
   "outputs": [
    {
     "name": "stderr",
     "output_type": "stream",
     "text": [
      "/tmp/ipykernel_5705/2707423446.py:7: DtypeWarning: Columns (151,153) have mixed types. Specify dtype option on import or set low_memory=False.\n",
      "  df = pd.read_csv(RUTA_DATAFRAME, sep='\\t')\n"
     ]
    }
   ],
   "source": [
    "#Importamos y guardamos el dataframe\n",
    "\n",
    "import pandas as pd\n",
    "\n",
    "RUTA_DATAFRAME = '/media/tr4shhh/Tr4Shhh_FOLDER/Proyects/4geeks/FINAL_Proyect/EESEadulto_2020.csv'\n",
    "\n",
    "df = pd.read_csv(RUTA_DATAFRAME, sep='\\t')"
   ]
  },
  {
   "cell_type": "code",
   "execution_count": 15,
   "metadata": {},
   "outputs": [
    {
     "name": "stdout",
     "output_type": "stream",
     "text": [
      "<class 'pandas.core.frame.DataFrame'>\n",
      "RangeIndex: 22072 entries, 0 to 22071\n",
      "Columns: 427 entries, CCAA to CUADROS_DEPRESIVOS\n",
      "dtypes: float64(70), int64(150), object(207)\n",
      "memory usage: 71.9+ MB\n"
     ]
    }
   ],
   "source": [
    "df.info()"
   ]
  },
  {
   "cell_type": "code",
   "execution_count": null,
   "metadata": {},
   "outputs": [],
   "source": []
  },
  {
   "cell_type": "code",
   "execution_count": 40,
   "metadata": {},
   "outputs": [],
   "source": [
    "new_df = df[['G25a_20']]"
   ]
  },
  {
   "cell_type": "markdown",
   "metadata": {},
   "source": [
    "Apuntes "
   ]
  },
  {
   "cell_type": "code",
   "execution_count": 43,
   "metadata": {},
   "outputs": [
    {
     "data": {
      "text/plain": [
       "G25a_20\n",
       "2          19931\n",
       "1           2115\n",
       "9             14\n",
       "8             12\n",
       "Name: count, dtype: int64"
      ]
     },
     "execution_count": 43,
     "metadata": {},
     "output_type": "execute_result"
    }
   ],
   "source": [
    "new_df.value_counts()"
   ]
  },
  {
   "cell_type": "code",
   "execution_count": 58,
   "metadata": {},
   "outputs": [
    {
     "name": "stdout",
     "output_type": "stream",
     "text": [
      "<class 'pandas.core.frame.DataFrame'>\n",
      "RangeIndex: 22072 entries, 0 to 22071\n",
      "Columns: 427 entries, CCAA to CUADROS_DEPRESIVOS\n",
      "dtypes: float64(70), int64(150), object(207)\n",
      "memory usage: 71.9+ MB\n"
     ]
    }
   ],
   "source": [
    "df.info()"
   ]
  },
  {
   "cell_type": "code",
   "execution_count": 60,
   "metadata": {},
   "outputs": [
    {
     "data": {
      "text/plain": [
       "0        2\n",
       "1        2\n",
       "2        2\n",
       "3        2\n",
       "4        2\n",
       "        ..\n",
       "22067    2\n",
       "22068    2\n",
       "22069    2\n",
       "22070    2\n",
       "22071    2\n",
       "Name: G25a_20, Length: 22072, dtype: int64"
      ]
     },
     "execution_count": 60,
     "metadata": {},
     "output_type": "execute_result"
    }
   ],
   "source": [
    "df['G25a_20']"
   ]
  },
  {
   "cell_type": "markdown",
   "metadata": {},
   "source": [
    "Fuente: https://www.ine.es/dyngs/INEbase/operacion.htm?c=Estadistica_C&cid=1254736176784&menu=resultados&idp=1254735573175#!tabs-1254736195745"
   ]
  },
  {
   "cell_type": "markdown",
   "metadata": {},
   "source": [
    "## Pasos a seguir:\n",
    "\n",
    "- Definir manualmente variables interesantes\n",
    "- Modificar nombres de variables interesantes para no tener el codigo\n",
    "- Agrupar variables para hacer un analisis exploratorio\n",
    "- Crear target [HECHO]\n",
    "- Terminar de fusionar la target Depresion + Ansiedad"
   ]
  },
  {
   "cell_type": "markdown",
   "metadata": {},
   "source": [
    "Conjunto de valores contados"
   ]
  },
  {
   "cell_type": "code",
   "execution_count": 56,
   "metadata": {},
   "outputs": [
    {
     "name": "stdout",
     "output_type": "stream",
     "text": [
      "Value counts for Depresion:\n",
      "G25a_20\n",
      "2    19931\n",
      "1     2115\n",
      "9       14\n",
      "8       12\n",
      "Name: count, dtype: int64\n",
      "\n",
      "Value counts for G25b_20:\n",
      "G25b_20\n",
      "     19957\n",
      "1     1563\n",
      "2      548\n",
      "8        2\n",
      "9        2\n",
      "Name: count, dtype: int64\n",
      "\n",
      "Value counts for G25c_20:\n",
      "G25c_20\n",
      "     19957\n",
      "1     1926\n",
      "2      187\n",
      "9        2\n",
      "Name: count, dtype: int64\n",
      "Value counts for Ansiedad:\n",
      "G25a_21\n",
      "2    20248\n",
      "1     1793\n",
      "9       16\n",
      "8       15\n",
      "Name: count, dtype: int64\n",
      "\n",
      "Value counts for G25b_21:\n",
      "G25b_21\n",
      "     20279\n",
      "1     1541\n",
      "2      250\n",
      "9        1\n",
      "8        1\n",
      "Name: count, dtype: int64\n",
      "\n",
      "Value counts for G25c_21:\n",
      "G25c_21\n",
      "     20279\n",
      "1     1638\n",
      "2      154\n",
      "8        1\n",
      "Name: count, dtype: int64\n"
     ]
    }
   ],
   "source": [
    "import pandas as pd\n",
    "\n",
    "# Assuming your original DataFrame is named 'df'\n",
    "# Replace 'df' with the actual name of your original DataFrame\n",
    "\n",
    "# Assuming you want to change the DataFrame name to 'new_df'\n",
    "# Replace 'new_df' with the desired new name\n",
    "\n",
    "# Value count for G25a_20\n",
    "g25a_20_counts = df['G25a_20'].value_counts()\n",
    "\n",
    "# Value count for G25b_20\n",
    "g25b_20_counts = df['G25b_20'].value_counts()\n",
    "\n",
    "# Value count for G25c_20\n",
    "g25c_20_counts = df['G25c_20'].value_counts()\n",
    "# Print the results\n",
    "print(\"Value counts for Depresion:\")\n",
    "print(g25a_20_counts)\n",
    "print(\"\\nValue counts for G25b_20:\")\n",
    "print(g25b_20_counts)\n",
    "print(\"\\nValue counts for G25c_20:\")\n",
    "print(g25c_20_counts)\n",
    "\n",
    "# Value count for G25a_20\n",
    "g25a_21_counts = df['G25a_21'].value_counts()\n",
    "\n",
    "# Value count for G25b_20\n",
    "g25b_21_counts = df['G25b_21'].value_counts()\n",
    "\n",
    "# Value count for G25c_20\n",
    "g25c_21_counts = df['G25c_21'].value_counts()\n",
    "# Print the results\n",
    "print(\"Value counts for Ansiedad:\")\n",
    "print(g25a_21_counts)\n",
    "print(\"\\nValue counts for G25b_21:\")\n",
    "print(g25b_21_counts)\n",
    "print(\"\\nValue counts for G25c_21:\")\n",
    "print(g25c_21_counts)"
   ]
  },
  {
   "cell_type": "markdown",
   "metadata": {},
   "source": [
    "### Informacion sobre el conjunto Depresión-Ansiedad"
   ]
  },
  {
   "cell_type": "code",
   "execution_count": 54,
   "metadata": {},
   "outputs": [
    {
     "name": "stdout",
     "output_type": "stream",
     "text": [
      "<class 'pandas.core.frame.DataFrame'>\n",
      "RangeIndex: 22072 entries, 0 to 22071\n",
      "Columns: 427 entries, CCAA to CUADROS_DEPRESIVOS\n",
      "dtypes: float64(70), int64(150), object(207)\n",
      "memory usage: 71.9+ MB\n"
     ]
    }
   ],
   "source": [
    "df.info()"
   ]
  },
  {
   "cell_type": "code",
   "execution_count": 50,
   "metadata": {},
   "outputs": [],
   "source": [
    "crosstab_result= pd.crosstab(df.G25a_20, df.G25a_21)"
   ]
  },
  {
   "cell_type": "code",
   "execution_count": 53,
   "metadata": {},
   "outputs": [
    {
     "data": {
      "image/png": "[encoded data removed]",
      "text/plain": [
       "<Figure size 800x600 with 2 Axes>"
      ]
     },
     "metadata": {},
     "output_type": "display_data"
    }
   ],
   "source": [
    "\n",
    "import matplotlib.pyplot as plt\n",
    "import seaborn as sns\n",
    "\n",
    "plt.figure(figsize=(8, 6))\n",
    "sns.heatmap(crosstab_result, annot=True, fmt='d', cbar=True)\n",
    "plt.title('Crosstab Heatmap')\n",
    "plt.show()"
   ]
  },
  {
   "cell_type": "code",
   "execution_count": 42,
   "metadata": {},
   "outputs": [
    {
     "data": {
      "text/plain": [
       "G25a_20    4\n",
       "dtype: int64"
      ]
     },
     "execution_count": 42,
     "metadata": {},
     "output_type": "execute_result"
    }
   ],
   "source": [
    "new_df"
   ]
  }
 ],
 "metadata": {
  "kernelspec": {
   "display_name": "Python 3",
   "language": "python",
   "name": "python3"
  },
  "language_info": {
   "codemirror_mode": {
    "name": "ipython",
    "version": 3
   },
   "file_extension": ".py",
   "mimetype": "text/x-python",
   "name": "python",
   "nbconvert_exporter": "python",
   "pygments_lexer": "ipython3",
   "version": "3.11.6"
  }
 },
 "nbformat": 4,
 "nbformat_minor": 2
}
