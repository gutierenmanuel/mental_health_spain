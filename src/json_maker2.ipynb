{
 "cells": [
  {
   "cell_type": "code",
   "execution_count": 20,
   "metadata": {},
   "outputs": [],
   "source": [
    "import pandas as pd\n",
    "import json\n",
    "from unidecode import unidecode\n"
   ]
  },
  {
   "cell_type": "code",
   "execution_count": 21,
   "metadata": {},
   "outputs": [
    {
     "data": {
      "text/plain": [
       "Index(['Código ', 'Descripción'], dtype='object')"
      ]
     },
     "execution_count": 21,
     "metadata": {},
     "output_type": "execute_result"
    }
   ],
   "source": [
    "\n",
    "# Lee el archivo Excel\n",
    "archivo_excel = '../data/raw/disreg_enceursalud20_a_copy.xlsx'\n",
    "df = pd.read_excel(archivo_excel, sheet_name='Tablas2')\n",
    "df.columns"
   ]
  },
  {
   "cell_type": "code",
   "execution_count": 22,
   "metadata": {},
   "outputs": [
    {
     "name": "stdout",
     "output_type": "stream",
     "text": [
      "Archivo JSON generado con éxito.\n"
     ]
    }
   ],
   "source": [
    "# Maneja los valores nulos en la columna A\n",
    "df['Descripción'] = df['Descripción'].fillna('').astype(str)\n",
    "\n",
    "df['Descripción'] = df['Descripción'].apply(unidecode)\n",
    "# Convierte el DataFrame a un diccionario\n",
    "data_dict = df.set_index('Código ').to_dict()['Descripción']\n",
    "\n",
    "\n",
    "data_dict = {key: value.replace('\\n', ' ') for key, value in data_dict.items()}\n",
    "# Convierte el diccionario a formato JSON\n",
    "json_data = json.dumps(data_dict, indent=2, ensure_ascii=False)\n",
    "\n",
    "\n",
    "# Guarda el JSON en un archivo\n",
    "with open('Tablas2.json', 'w', encoding='utf-8') as file:\n",
    "    file.write(json_data)\n",
    "\n",
    "print(\"Archivo JSON generado con éxito.\")"
   ]
  }
 ],
 "metadata": {
  "kernelspec": {
   "display_name": "Python 3",
   "language": "python",
   "name": "python3"
  },
  "language_info": {
   "codemirror_mode": {
    "name": "ipython",
    "version": 3
   },
   "file_extension": ".py",
   "mimetype": "text/x-python",
   "name": "python",
   "nbconvert_exporter": "python",
   "pygments_lexer": "ipython3",
   "version": "3.11.4"
  }
 },
 "nbformat": 4,
 "nbformat_minor": 2
}
