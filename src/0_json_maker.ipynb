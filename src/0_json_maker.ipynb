{
 "cells": [
  {
   "cell_type": "markdown",
   "metadata": {},
   "source": [
    "# Creating a Json file containing information of all variables"
   ]
  },
  {
   "cell_type": "markdown",
   "metadata": {},
   "source": [
    "This notebook creates a json dictionary file 'full_var_dict.json' containing the original variable name, a descriptive variable name, as well as a brief description of each of the values inside each variable. The goal of this file is to ease the EDA and to produce graphs easier to read and understand with informative titles and descriptions of the categories of each variable."
   ]
  },
  {
   "cell_type": "code",
   "execution_count": 33,
   "metadata": {},
   "outputs": [],
   "source": [
    "import pandas as pd\n",
    "import json"
   ]
  },
  {
   "cell_type": "markdown",
   "metadata": {},
   "source": [
    "The excel file is the original data codebook, obtained from the INE website (e.g., Instituto Nacional de Estadistica), the owner of the data.\n",
    "\n",
    "Tables 1 to 4 explain in detail the meaning of each of the values inside each of the categorical values in the data as well as how missing data is coded for numerical and categorical variables"
   ]
  },
  {
   "cell_type": "code",
   "execution_count": 34,
   "metadata": {},
   "outputs": [],
   "source": [
    "# Specify the Excel file path\n",
    "excel_file_path = '../data/raw/disreg_enceursalud20_a.xlsx'\n",
    "\n",
    "# List of sheet names\n",
    "sheet_names = ['Tablas1', 'Tablas2', 'Tablas3', 'Tablas4']"
   ]
  },
  {
   "cell_type": "markdown",
   "metadata": {},
   "source": [
    "This code iterates trough tables 1 trough 4 and creates one single JSNON 'var_keys_dict' file with the description of each of the categorical values in the data as well as how missing data is coded"
   ]
  },
  {
   "cell_type": "code",
   "execution_count": 35,
   "metadata": {},
   "outputs": [
    {
     "name": "stdout",
     "output_type": "stream",
     "text": [
      "Successfully converted ../data/raw/disreg_enceursalud20_a.xlsx to ../data/json_files/var_keys_dict.json\n"
     ]
    }
   ],
   "source": [
    "#pip install openpyxl\n",
    "# Initialize variables\n",
    "tables = {}\n",
    "\n",
    "# Iterate through sheets\n",
    "for sheet_name in sheet_names:\n",
    "    # Read the Excel sheet and drop the specified column\n",
    "    df = pd.read_excel(excel_file_path, sheet_name).drop('Unnamed: 2', axis=1, errors='ignore')\n",
    "\n",
    "    # Initialize variables\n",
    "    current_table = None\n",
    "    table_data = {}\n",
    "\n",
    "    # Iterate through rows\n",
    "    for index, row in df.iterrows():\n",
    "        # Check if the current row is the start of a new table\n",
    "        if isinstance(row['Unnamed: 0'], str) and not row['Unnamed: 0'].isdigit() and row['Unnamed: 0'] != 'Código ':\n",
    "            # Save the previous table data\n",
    "            if current_table is not None:\n",
    "                tables[current_table] = table_data\n",
    "\n",
    "            # Set the current table name and initialize an empty dictionary for table data\n",
    "            current_table, table_data = row['Unnamed: 0'], {}\n",
    "\n",
    "        # Check if the row contains data (skip rows with NaN values)\n",
    "        if pd.notna(row['Unnamed: 0']) and (isinstance(row['Unnamed: 0'], int) or (isinstance(row['Unnamed: 0'], str) and row['Unnamed: 0'].isdigit())):\n",
    "            # Append the row data to the table_data dictionary\n",
    "            table_data[row['Unnamed: 0']] = row['Unnamed: 1']\n",
    "\n",
    "    # Save the last table data for the current sheet\n",
    "    if current_table is not None:\n",
    "        tables[current_table] = table_data\n",
    "\n",
    "# Save the combined data to a JSON file\n",
    "json_file_path = '../data/json_files/var_keys_dict.json'\n",
    "with open(json_file_path, 'w', encoding='utf-8') as json_file:\n",
    "    json.dump(tables, json_file, indent=2, ensure_ascii=False)\n",
    "\n",
    "print(f'Successfully converted {excel_file_path} to {json_file_path}')"
   ]
  },
  {
   "cell_type": "markdown",
   "metadata": {},
   "source": [
    "This code creates a separate JSON file 'var_dict.json' containing the original variable name in the data with a brief description of the variable. The variable names in the data are short and uninformative. Hence the need of having a dictionary that explains what the variable name means"
   ]
  },
  {
   "cell_type": "code",
   "execution_count": 36,
   "metadata": {},
   "outputs": [],
   "source": [
    "df = pd.read_excel(excel_file_path, 'Diseño', usecols=['Variable','Descripción','Diccionario de la variable']).set_index('Variable')\n",
    "\n",
    "#renames the column with a shorter name\n",
    "df.dropna(subset='Diccionario de la variable', inplace=True)\n",
    "df.rename(columns={'Diccionario de la variable':'diccionario'}, inplace=True)\n",
    "\n",
    "#converts the variable dictionary into json format\n",
    "json_file_path = '../data/json_files/var_dict.json'\n",
    "with open(json_file_path, 'w', encoding='utf-8') as json_file:\n",
    "    df.to_json(json_file, orient='index', lines=False, indent=2,force_ascii=False, default_handler=str)"
   ]
  },
  {
   "cell_type": "markdown",
   "metadata": {},
   "source": [
    "This code opens the two formerly created JSON files and combines them into a single file 'full_var_dict' containing: variable name, description, and description of each of the categorical values and/or missing values for each variable"
   ]
  },
  {
   "cell_type": "code",
   "execution_count": 37,
   "metadata": {},
   "outputs": [],
   "source": [
    "# Load JSON strings into dictionaries\n",
    "path1 = '../data/json_files/var_keys_dict.json'\n",
    "path2 = '../data/json_files/var_dict.json'\n",
    "\n",
    "with open(path1, 'r') as json_file: #loads dictionary variables\n",
    "    var_keys_dict = json.load(json_file)\n",
    "\n",
    "with open(path2, 'r') as json_file: #loads json value keys of variables\n",
    "    var_dict = json.load(json_file)\n",
    "\n",
    "#THESE TWO CONDITIONALS MODIFY THE VARIABLE KEYS TO BINARY FOR THE TRANSFORMED BINARY VARIABLES IN\n",
    "# THE DATA CLEANING NOTEBOOK\n",
    "if 'TSINO' in var_keys_dict:\n",
    "    tsino_data = var_keys_dict['TSINO']\n",
    "    \n",
    "    # Create a new key '0' with the modified values\n",
    "    tsino_data['0'] = f\"{tsino_data['2']}/{tsino_data['8']} - {tsino_data['9']}\"\n",
    "    \n",
    "    # Remove the unnecessary keys\n",
    "    tsino_data.pop('2')\n",
    "    tsino_data.pop('8')\n",
    "    tsino_data.pop('9')\n",
    "\n",
    "if 'T1SINO' in var_keys_dict:\n",
    "    tsino_data = var_keys_dict['T1SINO']\n",
    "    \n",
    "    # Create a new key '0' with the modified values\n",
    "    tsino_data['0'] = f\"{tsino_data['2']}\"\n",
    "    # Remove the unnecessary keys\n",
    "    tsino_data.pop('2')\n",
    "\n",
    "# Iterate through the first JSON (var_dict) and replace values\n",
    "for key, value in var_dict.items():\n",
    "    if \"diccionario\" in value and value[\"diccionario\"] in var_keys_dict:\n",
    "        var_dict[key][\"diccionario\"] = var_keys_dict[value[\"diccionario\"]]\n",
    "\n",
    "# Storing the resulting JSON (as full_var_dict)\n",
    "json_file_path = '../data/json_files/full_var_dict.json'\n",
    "with open(json_file_path, 'w', encoding='utf-8') as json_file:\n",
    "    json.dump(var_dict, json_file, indent=2, ensure_ascii=False)"
   ]
  },
  {
   "cell_type": "markdown",
   "metadata": {},
   "source": [
    "# Final details for preparing JSON final file for deployment"
   ]
  },
  {
   "cell_type": "markdown",
   "metadata": {},
   "source": [
    "Since some variables used in the model were previously transformed into binary format, variable 'P87_2a' and 'P87_13a' will be replaced with 'P87_2a_nuevo' and 'P87_13a_nuevo' so that the JSON file containing all variable info contains the binary variables"
   ]
  },
  {
   "cell_type": "code",
   "execution_count": 38,
   "metadata": {},
   "outputs": [],
   "source": [
    "json_file_path = '../data/json_files/full_var_dict.json'\n",
    "with open(json_file_path, 'r') as json_file_full: #loads full json file \n",
    "    full_var_dict = json.load(json_file_full)\n",
    "\n",
    "if 'P87_2a' in full_var_dict:\n",
    "    full_var_dict['P87_2a_nuevo'] = full_var_dict.pop('P87_2a')\n",
    "\n",
    "if 'P87_13a' in full_var_dict:\n",
    "    full_var_dict['P87_13a_nuevo'] = full_var_dict.pop('P87_13a')\n",
    "\n",
    "#Updating the description of the variables\n",
    "full_var_dict['P87_13a_nuevo']['Descripción'] ='Medicinas para el estómago y/o las alteraciones digestivas consumidas o recetadas'\n",
    "full_var_dict['P87_2a_nuevo']['Descripción'] = 'Medicinas para el dolor consumidas o recetadas'\n",
    "\n",
    "# Write the modified JSON data back to the file\n",
    "with open('../data/json_files/full_var_dict.json', 'w', encoding='utf-8') as file:\n",
    "    json.dump(full_var_dict, file, indent=2, ensure_ascii=False)"
   ]
  },
  {
   "cell_type": "markdown",
   "metadata": {},
   "source": [
    "# Creating an english version of the JSON for deployment"
   ]
  },
  {
   "cell_type": "markdown",
   "metadata": {},
   "source": [
    "List of the variables used by the model:"
   ]
  },
  {
   "cell_type": "code",
   "execution_count": 39,
   "metadata": {},
   "outputs": [],
   "source": [
    "#selecting deployment vars\n",
    "depl_vars=[\"G21\",\"G24a\", \"G25a_5\",\"G25a_6\",\"G25a_7\",\"G25a_8\",\"G25a_14\",\"G25a_18\",\"G25a_24\",\"G25a_25\",\"G25a_27\",\"K37\",\"K38\",\"K38a\",\"L45\",\"N48\",\"N58_2\",\"P87_2a_nuevo\",\"P87_13a_nuevo\"]"
   ]
  },
  {
   "cell_type": "markdown",
   "metadata": {},
   "source": [
    "This code will select the model variables from the full dictionary file with them containing all their information in Spanish:"
   ]
  },
  {
   "cell_type": "code",
   "execution_count": 40,
   "metadata": {},
   "outputs": [
    {
     "name": "stdout",
     "output_type": "stream",
     "text": [
      "{'G21': {'diccionario': {'1': 'Muy bueno', '2': 'Bueno', '3': 'Regular', '4': 'Malo', '5': 'Muy malo'}, 'Descripción': 'Estado de salud percibido en los últimos 12 meses'}, 'G24a': {'diccionario': {'1': 'Muy bueno', '2': 'Bueno', '3': 'Regular', '4': 'Malo', '5': 'Muy malo', '8': 'No sabe', '9': 'No contesta'}, 'Descripción': 'Estado de salud bucodental'}, 'G25a_5': {'diccionario': {'1': 'Sí', '0': 'No/No sabe - No contesta'}, 'Descripción': 'Ha padecido alguna vez: Varices en las piernas'}, 'G25a_6': {'diccionario': {'1': 'Sí', '0': 'No/No sabe - No contesta'}, 'Descripción': 'Ha padecido alguna vez: Artrosis (excluyendo artritis)'}, 'G25a_7': {'diccionario': {'1': 'Sí', '0': 'No/No sabe - No contesta'}, 'Descripción': 'Ha padecido alguna vez: Dolor de espalda crónico (cervical)'}, 'G25a_8': {'diccionario': {'1': 'Sí', '0': 'No/No sabe - No contesta'}, 'Descripción': 'Ha padecido alguna vez: Dolor de espalda crónico (lumbar)'}, 'G25a_14': {'diccionario': {'1': 'Sí', '0': 'No/No sabe - No contesta'}, 'Descripción': 'Ha padecido alguna vez: Incontinencia urinaria o problemas de control de la orina'}, 'G25a_18': {'diccionario': {'1': 'Sí', '0': 'No/No sabe - No contesta'}, 'Descripción': 'Ha padecido alguna vez: Estreñimiento crónico'}, 'G25a_24': {'diccionario': {'1': 'Sí', '0': 'No/No sabe - No contesta'}, 'Descripción': 'Ha padecido alguna vez: Migraña o dolor de cabeza frecuente'}, 'G25a_25': {'diccionario': {'1': 'Sí', '0': 'No/No sabe - No contesta'}, 'Descripción': 'Ha padecido alguna vez: Hemorroides'}, 'G25a_27': {'diccionario': {'1': 'Sí', '0': 'No/No sabe - No contesta'}, 'Descripción': 'Ha padecido alguna vez: Osteoporosis'}, 'K37': {'diccionario': {'1': 'No, ninguna dificultad', '2': 'Sí, alguna dificultad', '3': 'Sí, mucha dificultad', '4': 'No puedo hacerlo en absoluto', '5': 'No aplicable (nunca lo ha intentado o necesitado hacerlo)', '8': 'No sabe', '9': 'No contesta'}, 'Descripción': 'Dificultad para caminar 500 metros sin ayuda'}, 'K38': {'diccionario': {'1': 'No, ninguna dificultad', '2': 'Sí, alguna dificultad', '3': 'Sí, mucha dificultad', '4': 'No puedo hacerlo en absoluto', '5': 'No aplicable (nunca lo ha intentado o necesitado hacerlo)', '8': 'No sabe', '9': 'No contesta'}, 'Descripción': 'Dificultad para subir o bajar 12 escalones'}, 'K38a': {'diccionario': {'1': 'No, ninguna dificultad', '2': 'Sí, alguna dificultad', '3': 'Sí, mucha dificultad', '4': 'No puedo hacerlo en absoluto', '5': 'No aplicable (nunca lo ha intentado o necesitado hacerlo)', '8': 'No sabe', '9': 'No contesta'}, 'Descripción': 'Dificultad para concentrarse'}, 'L45': {'diccionario': {'1': 'Ninguno', '2': 'Muy leve', '3': 'Leve', '4': 'Moderado', '5': 'Severo', '6': 'Extremo', '8': 'No sabe', '9': 'No contesta'}, 'Descripción': 'Grado de dolor padecido durante las últimas 4 semanas'}, 'N48': {'diccionario': {'1': 'En las últimas 4 semanas', '2': 'Entre 4 semanas y 12 meses', '3': 'Hace 12 meses o más', '4': 'Nunca'}, 'Descripción': 'Tiempo desde la última consulta al médico general o de familia'}, 'N58_2': {'diccionario': {'1': 'Sí', '0': 'No/No sabe - No contesta'}, 'Descripción': 'Visita durante los últimos 12 meses a: Psicólogo, psicoterapeuta o psiquiatra'}, 'P87_2a_nuevo': {'diccionario': {'1': 'Sí', '0': 'No/No sabe - No contesta'}, 'Descripción': 'Medicinas para el dolor consumidas o recetadas'}, 'P87_13a_nuevo': {'diccionario': {'1': 'Sí', '0': 'No/No sabe - No contesta'}, 'Descripción': 'Medicinas para el estómago y/o las alteraciones digestivas consumidas o recetadas'}}\n"
     ]
    }
   ],
   "source": [
    "selected_dict = {key: full_var_dict[key] for key in depl_vars}\n",
    "print(selected_dict)"
   ]
  },
  {
   "cell_type": "markdown",
   "metadata": {},
   "source": [
    "Using chat GPT, we translated the previously created dictionary into english:"
   ]
  },
  {
   "cell_type": "code",
   "execution_count": 41,
   "metadata": {},
   "outputs": [],
   "source": [
    "selected_dict_eng={\n",
    "  \"G21\": {\n",
    "    \"dictionary\": {\n",
    "      \"1\": \"Very good\",\n",
    "      \"2\": \"Good\",\n",
    "      \"3\": \"Fair\",\n",
    "      \"4\": \"Poor\",\n",
    "      \"5\": \"Very poor\"\n",
    "    },\n",
    "    \"Description\": \"Perceived health status in the last 12 months\"\n",
    "  },\n",
    "  \"G24a\": {\n",
    "    \"dictionary\": {\n",
    "      \"1\": \"Very good\",\n",
    "      \"2\": \"Good\",\n",
    "      \"3\": \"Fair\",\n",
    "      \"4\": \"Poor\",\n",
    "      \"5\": \"Very poor\",\n",
    "      \"8\": \"Don't know\",\n",
    "      \"9\": \"No answer\"\n",
    "    },\n",
    "    \"Description\": \"Oral health status\"\n",
    "  },\n",
    "  \"G25a_5\": {\n",
    "    \"dictionary\": {\n",
    "      \"1\": \"Yes\",\n",
    "      \"0\": \"No/Don't know - No answer\"\n",
    "    },\n",
    "    \"Description\": \"Have you ever suffered from: Varicose veins in the legs\"\n",
    "  },\n",
    "  \"G25a_6\": {\n",
    "    \"dictionary\": {\n",
    "      \"1\": \"Yes\",\n",
    "      \"0\": \"No/Don't know - No answer\"\n",
    "    },\n",
    "    \"Description\": \"Have you ever suffered from: Osteoarthritis (excluding arthritis)\"\n",
    "  },\n",
    "  \"G25a_7\": {\n",
    "    \"dictionary\": {\n",
    "      \"1\": \"Yes\",\n",
    "      \"0\": \"No/Don't know - No answer\"\n",
    "    },\n",
    "    \"Description\": \"Have you ever suffered from: Chronic back pain (cervical)\"\n",
    "  },\n",
    "  \"G25a_8\": {\n",
    "    \"dictionary\": {\n",
    "      \"1\": \"Yes\",\n",
    "      \"0\": \"No/Don't know - No answer\"\n",
    "    },\n",
    "    \"Description\": \"Have you ever suffered from: Chronic back pain (lumbar)\"\n",
    "  },\n",
    "  \"G25a_14\": {\n",
    "    \"dictionary\": {\n",
    "      \"1\": \"Yes\",\n",
    "      \"0\": \"No/Don't know - No answer\"\n",
    "    },\n",
    "    \"Description\": \"Have you ever suffered from: Urinary incontinence or urine control problems\"\n",
    "  },\n",
    "  \"G25a_18\": {\n",
    "    \"dictionary\": {\n",
    "      \"1\": \"Yes\",\n",
    "      \"0\": \"No/Don't know - No answer\"\n",
    "    },\n",
    "    \"Description\": \"Have you ever suffered from: Chronic constipation\"\n",
    "  },\n",
    "  \"G25a_24\": {\n",
    "    \"dictionary\": {\n",
    "      \"1\": \"Yes\",\n",
    "      \"0\": \"No/Don't know - No answer\"\n",
    "    },\n",
    "    \"Description\": \"Have you ever suffered from: Migraine or frequent headaches\"\n",
    "  },\n",
    "  \"G25a_25\": {\n",
    "    \"dictionary\": {\n",
    "      \"1\": \"Yes\",\n",
    "      \"0\": \"No/Don't know - No answer\"\n",
    "    },\n",
    "    \"Description\": \"Have you ever suffered from: Hemorrhoids\"\n",
    "  },\n",
    "  \"G25a_27\": {\n",
    "    \"dictionary\": {\n",
    "      \"1\": \"Yes\",\n",
    "      \"0\": \"No/Don't know - No answer\"\n",
    "    },\n",
    "    \"Description\": \"Have you ever suffered from: Osteoporosis\"\n",
    "  },\n",
    "  \"K37\": {\n",
    "    \"dictionary\": {\n",
    "      \"1\": \"No difficulty at all\",\n",
    "      \"2\": \"Some difficulty\",\n",
    "      \"3\": \"A lot of difficulty\",\n",
    "      \"4\": \"I can't do it at all\",\n",
    "      \"5\": \"Not applicable (never tried or needed to do it)\",\n",
    "      \"8\": \"Don't know\",\n",
    "      \"9\": \"No answer\"\n",
    "    },\n",
    "    \"Description\": \"Any difficulty walking 500 meters without assistance?\"\n",
    "  },\n",
    "  \"K38\": {\n",
    "    \"dictionary\": {\n",
    "      \"1\": \"No difficulty at all\",\n",
    "      \"2\": \"Some difficulty\",\n",
    "      \"3\": \"A lot of difficulty\",\n",
    "      \"4\": \"I can't do it at all\",\n",
    "      \"5\": \"Not applicable (never tried or needed to do it)\",\n",
    "      \"8\": \"Don't know\",\n",
    "      \"9\": \"No answer\"\n",
    "    },\n",
    "    \"Description\": \"Any difficulty climbing up or down 12 stairs?\"\n",
    "  },\n",
    "  \"K38a\": {\n",
    "    \"dictionary\": {\n",
    "      \"1\": \"No difficulty at all\",\n",
    "      \"2\": \"Some difficulty\",\n",
    "      \"3\": \"A lot of difficulty\",\n",
    "      \"4\": \"I can't do it at all\",\n",
    "      \"5\": \"Not applicable (never tried or needed to do it)\",\n",
    "      \"8\": \"Don't know\",\n",
    "      \"9\": \"No answer\"\n",
    "    },\n",
    "    \"Description\": \"Any difficulty concentrating?\"\n",
    "  },\n",
    "  \"L45\": {\n",
    "    \"dictionary\": {\n",
    "      \"1\": \"None\",\n",
    "      \"2\": \"Very mild\",\n",
    "      \"3\": \"Mild\",\n",
    "      \"4\": \"Moderate\",\n",
    "      \"5\": \"Severe\",\n",
    "      \"6\": \"Extreme\",\n",
    "      \"8\": \"Don't know\",\n",
    "      \"9\": \"No answer\"\n",
    "    },\n",
    "    \"Description\": \"Degree of pain experienced during the last 4 weeks\"\n",
    "  },\n",
    "  \"N48\": {\n",
    "    \"dictionary\": {\n",
    "      \"1\": \"In the last 4 weeks\",\n",
    "      \"2\": \"Between 4 weeks and 12 months\",\n",
    "      \"3\": \"12 months ago or more\",\n",
    "      \"4\": \"Never\"\n",
    "    },\n",
    "    \"Description\": \"When was the last visit to general or family doctor?\"\n",
    "  },\n",
    "  \"N58_2\": {\n",
    "    \"dictionary\": {\n",
    "      \"1\": \"Yes\",\n",
    "      \"0\": \"No/Don't know - No answer\"\n",
    "    },\n",
    "    \"Description\": \"Did you visit during the last 12 months to: Psychologist, psychotherapist, or psychiatrist?\"\n",
    "  },\n",
    "  \"P87_2a_nuevo\": {\n",
    "    \"dictionary\": {\n",
    "      \"1\": \"Yes\",\n",
    "      \"0\": \"No/Don't know - No answer\"\n",
    "    },\n",
    "    \"Description\": \"Do you take prescription or non-prescription pain medicines?\"\n",
    "  },\n",
    "  \"P87_13a_nuevo\": {\n",
    "    \"dictionary\": {\n",
    "      \"1\": \"Yes\",\n",
    "      \"0\": \"No/Don't know - No answer\"\n",
    "    },\n",
    "    \"Description\": \"Do you take prescription or non-prescription stomach and/or digestive disorder medicines?\"\n",
    "  }\n",
    "  }"
   ]
  },
  {
   "cell_type": "markdown",
   "metadata": {},
   "source": [
    "Storing the new english dictionary into JSON format:"
   ]
  },
  {
   "cell_type": "code",
   "execution_count": 42,
   "metadata": {},
   "outputs": [],
   "source": [
    "# Convert the dictionary to JSON\n",
    "json_file_path = '../data/json_files/english_json.json'\n",
    "with open(json_file_path, 'w', encoding='utf-8') as json_file:\n",
    "    json.dump(selected_dict_eng, json_file, indent=2, ensure_ascii=False)"
   ]
  }
 ],
 "metadata": {
  "kernelspec": {
   "display_name": "Python 3",
   "language": "python",
   "name": "python3"
  },
  "language_info": {
   "codemirror_mode": {
    "name": "ipython",
    "version": 3
   },
   "file_extension": ".py",
   "mimetype": "text/x-python",
   "name": "python",
   "nbconvert_exporter": "python",
   "pygments_lexer": "ipython3",
   "version": "3.11.4"
  }
 },
 "nbformat": 4,
 "nbformat_minor": 2
}
