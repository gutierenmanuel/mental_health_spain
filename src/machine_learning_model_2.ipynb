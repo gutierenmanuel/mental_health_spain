{
 "cells": [
  {
   "cell_type": "markdown",
   "metadata": {},
   "source": [
    "## Machine Learning Model 2"
   ]
  },
  {
   "cell_type": "markdown",
   "metadata": {},
   "source": [
    "## All imports"
   ]
  },
  {
   "cell_type": "code",
   "execution_count": 7,
   "metadata": {},
   "outputs": [],
   "source": [
    "import warnings\n",
    "from sklearn.exceptions import DataConversionWarning\n",
    "from sklearn.utils import DataConversionWarning as skDataConversionWarning\n",
    "from warnings import simplefilter\n",
    "from sklearn.feature_selection import f_classif, SelectKBest\n",
    "from sklearn.metrics import accuracy_score\n",
    "from sklearn.model_selection import train_test_split, RandomizedSearchCV\n",
    "import numpy as np\n",
    "import pickle \n"
   ]
  },
  {
   "cell_type": "markdown",
   "metadata": {},
   "source": [
    "sin variables obvias"
   ]
  },
  {
   "cell_type": "code",
   "execution_count": 8,
   "metadata": {},
   "outputs": [],
   "source": [
    "import pandas as pd\n",
    "\n",
    "# load the csv data sets\n",
    "\n",
    "# Con Index = False, no guardamos el indice en el archivo resultante\n",
    "X_train = pd.read_csv(\"../data/processed/more_drop_variable/X_train_2.csv\")\n",
    "X_test = pd.read_csv(\"../data/processed/more_drop_variable/X_test_2.csv\")\n",
    "\n",
    "y_train = pd.read_csv(\"../data/processed/more_drop_variable/y_train_2.csv\")\n",
    "y_test = pd.read_csv(\"../data/processed/more_drop_variable/y_test_2.csv\")"
   ]
  },
  {
   "cell_type": "code",
   "execution_count": 9,
   "metadata": {},
   "outputs": [
    {
     "data": {
      "text/html": [
       "<div>\n",
       "<style scoped>\n",
       "    .dataframe tbody tr th:only-of-type {\n",
       "        vertical-align: middle;\n",
       "    }\n",
       "\n",
       "    .dataframe tbody tr th {\n",
       "        vertical-align: top;\n",
       "    }\n",
       "\n",
       "    .dataframe thead th {\n",
       "        text-align: right;\n",
       "    }\n",
       "</style>\n",
       "<table border=\"1\" class=\"dataframe\">\n",
       "  <thead>\n",
       "    <tr style=\"text-align: right;\">\n",
       "      <th></th>\n",
       "      <th>SEXOa</th>\n",
       "      <th>EDADa</th>\n",
       "      <th>ESTUDIOS</th>\n",
       "      <th>G21</th>\n",
       "      <th>G22</th>\n",
       "      <th>G23</th>\n",
       "      <th>G24a</th>\n",
       "      <th>G25a_1</th>\n",
       "      <th>G25a_5</th>\n",
       "      <th>G25a_6</th>\n",
       "      <th>...</th>\n",
       "      <th>R108_2</th>\n",
       "      <th>R108_4</th>\n",
       "      <th>T113</th>\n",
       "      <th>P87_2a_nuevo</th>\n",
       "      <th>P87_4a_nuevo</th>\n",
       "      <th>P87_5a_nuevo</th>\n",
       "      <th>P87_12a_nuevo</th>\n",
       "      <th>P87_13a_nuevo</th>\n",
       "      <th>P87_18a_nuevo</th>\n",
       "      <th>P85_nuevo</th>\n",
       "    </tr>\n",
       "  </thead>\n",
       "  <tbody>\n",
       "    <tr>\n",
       "      <th>0</th>\n",
       "      <td>2.0</td>\n",
       "      <td>15.0</td>\n",
       "      <td>5.0</td>\n",
       "      <td>1.0</td>\n",
       "      <td>2.0</td>\n",
       "      <td>3.0</td>\n",
       "      <td>1.0</td>\n",
       "      <td>0.0</td>\n",
       "      <td>0.0</td>\n",
       "      <td>0.0</td>\n",
       "      <td>...</td>\n",
       "      <td>0.0</td>\n",
       "      <td>0.0</td>\n",
       "      <td>7.0</td>\n",
       "      <td>1.0</td>\n",
       "      <td>0.0</td>\n",
       "      <td>0.0</td>\n",
       "      <td>0.0</td>\n",
       "      <td>0.0</td>\n",
       "      <td>0.0</td>\n",
       "      <td>1.0</td>\n",
       "    </tr>\n",
       "    <tr>\n",
       "      <th>1</th>\n",
       "      <td>1.0</td>\n",
       "      <td>40.0</td>\n",
       "      <td>9.0</td>\n",
       "      <td>1.0</td>\n",
       "      <td>1.0</td>\n",
       "      <td>3.0</td>\n",
       "      <td>1.0</td>\n",
       "      <td>0.0</td>\n",
       "      <td>0.0</td>\n",
       "      <td>0.0</td>\n",
       "      <td>...</td>\n",
       "      <td>0.0</td>\n",
       "      <td>0.0</td>\n",
       "      <td>7.0</td>\n",
       "      <td>0.0</td>\n",
       "      <td>0.0</td>\n",
       "      <td>0.0</td>\n",
       "      <td>0.0</td>\n",
       "      <td>0.0</td>\n",
       "      <td>0.0</td>\n",
       "      <td>1.0</td>\n",
       "    </tr>\n",
       "    <tr>\n",
       "      <th>2</th>\n",
       "      <td>2.0</td>\n",
       "      <td>45.0</td>\n",
       "      <td>4.0</td>\n",
       "      <td>2.0</td>\n",
       "      <td>1.0</td>\n",
       "      <td>3.0</td>\n",
       "      <td>2.0</td>\n",
       "      <td>0.0</td>\n",
       "      <td>0.0</td>\n",
       "      <td>0.0</td>\n",
       "      <td>...</td>\n",
       "      <td>0.0</td>\n",
       "      <td>0.0</td>\n",
       "      <td>2.0</td>\n",
       "      <td>0.0</td>\n",
       "      <td>0.0</td>\n",
       "      <td>0.0</td>\n",
       "      <td>0.0</td>\n",
       "      <td>0.0</td>\n",
       "      <td>0.0</td>\n",
       "      <td>0.0</td>\n",
       "    </tr>\n",
       "    <tr>\n",
       "      <th>3</th>\n",
       "      <td>1.0</td>\n",
       "      <td>34.0</td>\n",
       "      <td>7.0</td>\n",
       "      <td>1.0</td>\n",
       "      <td>2.0</td>\n",
       "      <td>3.0</td>\n",
       "      <td>2.0</td>\n",
       "      <td>0.0</td>\n",
       "      <td>0.0</td>\n",
       "      <td>0.0</td>\n",
       "      <td>...</td>\n",
       "      <td>0.0</td>\n",
       "      <td>0.0</td>\n",
       "      <td>5.0</td>\n",
       "      <td>0.0</td>\n",
       "      <td>0.0</td>\n",
       "      <td>0.0</td>\n",
       "      <td>0.0</td>\n",
       "      <td>0.0</td>\n",
       "      <td>0.0</td>\n",
       "      <td>0.0</td>\n",
       "    </tr>\n",
       "    <tr>\n",
       "      <th>4</th>\n",
       "      <td>2.0</td>\n",
       "      <td>83.0</td>\n",
       "      <td>4.0</td>\n",
       "      <td>3.0</td>\n",
       "      <td>1.0</td>\n",
       "      <td>3.0</td>\n",
       "      <td>2.0</td>\n",
       "      <td>1.0</td>\n",
       "      <td>1.0</td>\n",
       "      <td>1.0</td>\n",
       "      <td>...</td>\n",
       "      <td>0.0</td>\n",
       "      <td>0.0</td>\n",
       "      <td>2.0</td>\n",
       "      <td>0.0</td>\n",
       "      <td>1.0</td>\n",
       "      <td>0.0</td>\n",
       "      <td>1.0</td>\n",
       "      <td>0.0</td>\n",
       "      <td>1.0</td>\n",
       "      <td>1.0</td>\n",
       "    </tr>\n",
       "    <tr>\n",
       "      <th>...</th>\n",
       "      <td>...</td>\n",
       "      <td>...</td>\n",
       "      <td>...</td>\n",
       "      <td>...</td>\n",
       "      <td>...</td>\n",
       "      <td>...</td>\n",
       "      <td>...</td>\n",
       "      <td>...</td>\n",
       "      <td>...</td>\n",
       "      <td>...</td>\n",
       "      <td>...</td>\n",
       "      <td>...</td>\n",
       "      <td>...</td>\n",
       "      <td>...</td>\n",
       "      <td>...</td>\n",
       "      <td>...</td>\n",
       "      <td>...</td>\n",
       "      <td>...</td>\n",
       "      <td>...</td>\n",
       "      <td>...</td>\n",
       "      <td>...</td>\n",
       "    </tr>\n",
       "    <tr>\n",
       "      <th>17652</th>\n",
       "      <td>2.0</td>\n",
       "      <td>55.0</td>\n",
       "      <td>4.0</td>\n",
       "      <td>2.0</td>\n",
       "      <td>2.0</td>\n",
       "      <td>3.0</td>\n",
       "      <td>3.0</td>\n",
       "      <td>0.0</td>\n",
       "      <td>1.0</td>\n",
       "      <td>1.0</td>\n",
       "      <td>...</td>\n",
       "      <td>0.0</td>\n",
       "      <td>0.0</td>\n",
       "      <td>7.0</td>\n",
       "      <td>0.0</td>\n",
       "      <td>1.0</td>\n",
       "      <td>0.0</td>\n",
       "      <td>0.0</td>\n",
       "      <td>0.0</td>\n",
       "      <td>0.0</td>\n",
       "      <td>1.0</td>\n",
       "    </tr>\n",
       "    <tr>\n",
       "      <th>17653</th>\n",
       "      <td>2.0</td>\n",
       "      <td>38.0</td>\n",
       "      <td>5.0</td>\n",
       "      <td>2.0</td>\n",
       "      <td>2.0</td>\n",
       "      <td>3.0</td>\n",
       "      <td>2.0</td>\n",
       "      <td>0.0</td>\n",
       "      <td>0.0</td>\n",
       "      <td>0.0</td>\n",
       "      <td>...</td>\n",
       "      <td>0.0</td>\n",
       "      <td>0.0</td>\n",
       "      <td>7.0</td>\n",
       "      <td>1.0</td>\n",
       "      <td>0.0</td>\n",
       "      <td>0.0</td>\n",
       "      <td>0.0</td>\n",
       "      <td>0.0</td>\n",
       "      <td>0.0</td>\n",
       "      <td>1.0</td>\n",
       "    </tr>\n",
       "    <tr>\n",
       "      <th>17654</th>\n",
       "      <td>1.0</td>\n",
       "      <td>37.0</td>\n",
       "      <td>6.0</td>\n",
       "      <td>1.0</td>\n",
       "      <td>2.0</td>\n",
       "      <td>3.0</td>\n",
       "      <td>1.0</td>\n",
       "      <td>0.0</td>\n",
       "      <td>0.0</td>\n",
       "      <td>0.0</td>\n",
       "      <td>...</td>\n",
       "      <td>0.0</td>\n",
       "      <td>0.0</td>\n",
       "      <td>5.0</td>\n",
       "      <td>0.0</td>\n",
       "      <td>0.0</td>\n",
       "      <td>0.0</td>\n",
       "      <td>0.0</td>\n",
       "      <td>0.0</td>\n",
       "      <td>0.0</td>\n",
       "      <td>0.0</td>\n",
       "    </tr>\n",
       "    <tr>\n",
       "      <th>17655</th>\n",
       "      <td>2.0</td>\n",
       "      <td>56.0</td>\n",
       "      <td>9.0</td>\n",
       "      <td>2.0</td>\n",
       "      <td>1.0</td>\n",
       "      <td>2.0</td>\n",
       "      <td>2.0</td>\n",
       "      <td>1.0</td>\n",
       "      <td>0.0</td>\n",
       "      <td>0.0</td>\n",
       "      <td>...</td>\n",
       "      <td>0.0</td>\n",
       "      <td>0.0</td>\n",
       "      <td>7.0</td>\n",
       "      <td>0.0</td>\n",
       "      <td>0.0</td>\n",
       "      <td>0.0</td>\n",
       "      <td>1.0</td>\n",
       "      <td>0.0</td>\n",
       "      <td>0.0</td>\n",
       "      <td>1.0</td>\n",
       "    </tr>\n",
       "    <tr>\n",
       "      <th>17656</th>\n",
       "      <td>1.0</td>\n",
       "      <td>30.0</td>\n",
       "      <td>5.0</td>\n",
       "      <td>1.0</td>\n",
       "      <td>1.0</td>\n",
       "      <td>3.0</td>\n",
       "      <td>1.0</td>\n",
       "      <td>0.0</td>\n",
       "      <td>0.0</td>\n",
       "      <td>0.0</td>\n",
       "      <td>...</td>\n",
       "      <td>0.0</td>\n",
       "      <td>0.0</td>\n",
       "      <td>7.0</td>\n",
       "      <td>0.0</td>\n",
       "      <td>0.0</td>\n",
       "      <td>0.0</td>\n",
       "      <td>0.0</td>\n",
       "      <td>0.0</td>\n",
       "      <td>0.0</td>\n",
       "      <td>1.0</td>\n",
       "    </tr>\n",
       "  </tbody>\n",
       "</table>\n",
       "<p>17657 rows × 50 columns</p>\n",
       "</div>"
      ],
      "text/plain": [
       "       SEXOa  EDADa  ESTUDIOS  G21  G22  G23  G24a  G25a_1  G25a_5  G25a_6  \\\n",
       "0        2.0   15.0       5.0  1.0  2.0  3.0   1.0     0.0     0.0     0.0   \n",
       "1        1.0   40.0       9.0  1.0  1.0  3.0   1.0     0.0     0.0     0.0   \n",
       "2        2.0   45.0       4.0  2.0  1.0  3.0   2.0     0.0     0.0     0.0   \n",
       "3        1.0   34.0       7.0  1.0  2.0  3.0   2.0     0.0     0.0     0.0   \n",
       "4        2.0   83.0       4.0  3.0  1.0  3.0   2.0     1.0     1.0     1.0   \n",
       "...      ...    ...       ...  ...  ...  ...   ...     ...     ...     ...   \n",
       "17652    2.0   55.0       4.0  2.0  2.0  3.0   3.0     0.0     1.0     1.0   \n",
       "17653    2.0   38.0       5.0  2.0  2.0  3.0   2.0     0.0     0.0     0.0   \n",
       "17654    1.0   37.0       6.0  1.0  2.0  3.0   1.0     0.0     0.0     0.0   \n",
       "17655    2.0   56.0       9.0  2.0  1.0  2.0   2.0     1.0     0.0     0.0   \n",
       "17656    1.0   30.0       5.0  1.0  1.0  3.0   1.0     0.0     0.0     0.0   \n",
       "\n",
       "       ...  R108_2  R108_4  T113  P87_2a_nuevo  P87_4a_nuevo  P87_5a_nuevo  \\\n",
       "0      ...     0.0     0.0   7.0           1.0           0.0           0.0   \n",
       "1      ...     0.0     0.0   7.0           0.0           0.0           0.0   \n",
       "2      ...     0.0     0.0   2.0           0.0           0.0           0.0   \n",
       "3      ...     0.0     0.0   5.0           0.0           0.0           0.0   \n",
       "4      ...     0.0     0.0   2.0           0.0           1.0           0.0   \n",
       "...    ...     ...     ...   ...           ...           ...           ...   \n",
       "17652  ...     0.0     0.0   7.0           0.0           1.0           0.0   \n",
       "17653  ...     0.0     0.0   7.0           1.0           0.0           0.0   \n",
       "17654  ...     0.0     0.0   5.0           0.0           0.0           0.0   \n",
       "17655  ...     0.0     0.0   7.0           0.0           0.0           0.0   \n",
       "17656  ...     0.0     0.0   7.0           0.0           0.0           0.0   \n",
       "\n",
       "       P87_12a_nuevo  P87_13a_nuevo  P87_18a_nuevo  P85_nuevo  \n",
       "0                0.0            0.0            0.0        1.0  \n",
       "1                0.0            0.0            0.0        1.0  \n",
       "2                0.0            0.0            0.0        0.0  \n",
       "3                0.0            0.0            0.0        0.0  \n",
       "4                1.0            0.0            1.0        1.0  \n",
       "...              ...            ...            ...        ...  \n",
       "17652            0.0            0.0            0.0        1.0  \n",
       "17653            0.0            0.0            0.0        1.0  \n",
       "17654            0.0            0.0            0.0        0.0  \n",
       "17655            1.0            0.0            0.0        1.0  \n",
       "17656            0.0            0.0            0.0        1.0  \n",
       "\n",
       "[17657 rows x 50 columns]"
      ]
     },
     "execution_count": 9,
     "metadata": {},
     "output_type": "execute_result"
    }
   ],
   "source": [
    "X_train"
   ]
  },
  {
   "cell_type": "code",
   "execution_count": 10,
   "metadata": {},
   "outputs": [
    {
     "data": {
      "text/html": [
       "<div>\n",
       "<style scoped>\n",
       "    .dataframe tbody tr th:only-of-type {\n",
       "        vertical-align: middle;\n",
       "    }\n",
       "\n",
       "    .dataframe tbody tr th {\n",
       "        vertical-align: top;\n",
       "    }\n",
       "\n",
       "    .dataframe thead th {\n",
       "        text-align: right;\n",
       "    }\n",
       "</style>\n",
       "<table border=\"1\" class=\"dataframe\">\n",
       "  <thead>\n",
       "    <tr style=\"text-align: right;\">\n",
       "      <th></th>\n",
       "      <th>SEXOa</th>\n",
       "      <th>EDADa</th>\n",
       "      <th>ESTUDIOS</th>\n",
       "      <th>G21</th>\n",
       "      <th>G22</th>\n",
       "      <th>G23</th>\n",
       "      <th>G24a</th>\n",
       "      <th>G25a_1</th>\n",
       "      <th>G25a_5</th>\n",
       "      <th>G25a_6</th>\n",
       "      <th>...</th>\n",
       "      <th>R108_2</th>\n",
       "      <th>R108_4</th>\n",
       "      <th>T113</th>\n",
       "      <th>P87_2a_nuevo</th>\n",
       "      <th>P87_4a_nuevo</th>\n",
       "      <th>P87_5a_nuevo</th>\n",
       "      <th>P87_12a_nuevo</th>\n",
       "      <th>P87_13a_nuevo</th>\n",
       "      <th>P87_18a_nuevo</th>\n",
       "      <th>P85_nuevo</th>\n",
       "    </tr>\n",
       "  </thead>\n",
       "  <tbody>\n",
       "    <tr>\n",
       "      <th>0</th>\n",
       "      <td>2.0</td>\n",
       "      <td>24.0</td>\n",
       "      <td>9.0</td>\n",
       "      <td>1.0</td>\n",
       "      <td>2.0</td>\n",
       "      <td>3.0</td>\n",
       "      <td>2.0</td>\n",
       "      <td>0.0</td>\n",
       "      <td>0.0</td>\n",
       "      <td>0.0</td>\n",
       "      <td>...</td>\n",
       "      <td>0.0</td>\n",
       "      <td>0.0</td>\n",
       "      <td>7.0</td>\n",
       "      <td>0.0</td>\n",
       "      <td>0.0</td>\n",
       "      <td>0.0</td>\n",
       "      <td>0.0</td>\n",
       "      <td>0.0</td>\n",
       "      <td>0.0</td>\n",
       "      <td>0.0</td>\n",
       "    </tr>\n",
       "    <tr>\n",
       "      <th>1</th>\n",
       "      <td>1.0</td>\n",
       "      <td>65.0</td>\n",
       "      <td>9.0</td>\n",
       "      <td>2.0</td>\n",
       "      <td>1.0</td>\n",
       "      <td>3.0</td>\n",
       "      <td>3.0</td>\n",
       "      <td>0.0</td>\n",
       "      <td>1.0</td>\n",
       "      <td>0.0</td>\n",
       "      <td>...</td>\n",
       "      <td>0.0</td>\n",
       "      <td>0.0</td>\n",
       "      <td>5.0</td>\n",
       "      <td>1.0</td>\n",
       "      <td>0.0</td>\n",
       "      <td>0.0</td>\n",
       "      <td>0.0</td>\n",
       "      <td>0.0</td>\n",
       "      <td>0.0</td>\n",
       "      <td>1.0</td>\n",
       "    </tr>\n",
       "    <tr>\n",
       "      <th>2</th>\n",
       "      <td>1.0</td>\n",
       "      <td>60.0</td>\n",
       "      <td>8.0</td>\n",
       "      <td>1.0</td>\n",
       "      <td>2.0</td>\n",
       "      <td>3.0</td>\n",
       "      <td>1.0</td>\n",
       "      <td>0.0</td>\n",
       "      <td>0.0</td>\n",
       "      <td>0.0</td>\n",
       "      <td>...</td>\n",
       "      <td>0.0</td>\n",
       "      <td>0.0</td>\n",
       "      <td>7.0</td>\n",
       "      <td>0.0</td>\n",
       "      <td>0.0</td>\n",
       "      <td>0.0</td>\n",
       "      <td>0.0</td>\n",
       "      <td>0.0</td>\n",
       "      <td>0.0</td>\n",
       "      <td>0.0</td>\n",
       "    </tr>\n",
       "    <tr>\n",
       "      <th>3</th>\n",
       "      <td>1.0</td>\n",
       "      <td>83.0</td>\n",
       "      <td>6.0</td>\n",
       "      <td>2.0</td>\n",
       "      <td>2.0</td>\n",
       "      <td>2.0</td>\n",
       "      <td>3.0</td>\n",
       "      <td>1.0</td>\n",
       "      <td>0.0</td>\n",
       "      <td>0.0</td>\n",
       "      <td>...</td>\n",
       "      <td>1.0</td>\n",
       "      <td>0.0</td>\n",
       "      <td>0.0</td>\n",
       "      <td>1.0</td>\n",
       "      <td>1.0</td>\n",
       "      <td>1.0</td>\n",
       "      <td>0.0</td>\n",
       "      <td>0.0</td>\n",
       "      <td>1.0</td>\n",
       "      <td>1.0</td>\n",
       "    </tr>\n",
       "    <tr>\n",
       "      <th>4</th>\n",
       "      <td>1.0</td>\n",
       "      <td>92.0</td>\n",
       "      <td>4.0</td>\n",
       "      <td>4.0</td>\n",
       "      <td>1.0</td>\n",
       "      <td>1.0</td>\n",
       "      <td>4.0</td>\n",
       "      <td>1.0</td>\n",
       "      <td>0.0</td>\n",
       "      <td>1.0</td>\n",
       "      <td>...</td>\n",
       "      <td>0.0</td>\n",
       "      <td>0.0</td>\n",
       "      <td>0.0</td>\n",
       "      <td>1.0</td>\n",
       "      <td>0.0</td>\n",
       "      <td>0.0</td>\n",
       "      <td>1.0</td>\n",
       "      <td>0.0</td>\n",
       "      <td>1.0</td>\n",
       "      <td>1.0</td>\n",
       "    </tr>\n",
       "    <tr>\n",
       "      <th>...</th>\n",
       "      <td>...</td>\n",
       "      <td>...</td>\n",
       "      <td>...</td>\n",
       "      <td>...</td>\n",
       "      <td>...</td>\n",
       "      <td>...</td>\n",
       "      <td>...</td>\n",
       "      <td>...</td>\n",
       "      <td>...</td>\n",
       "      <td>...</td>\n",
       "      <td>...</td>\n",
       "      <td>...</td>\n",
       "      <td>...</td>\n",
       "      <td>...</td>\n",
       "      <td>...</td>\n",
       "      <td>...</td>\n",
       "      <td>...</td>\n",
       "      <td>...</td>\n",
       "      <td>...</td>\n",
       "      <td>...</td>\n",
       "      <td>...</td>\n",
       "    </tr>\n",
       "    <tr>\n",
       "      <th>4410</th>\n",
       "      <td>2.0</td>\n",
       "      <td>41.0</td>\n",
       "      <td>7.0</td>\n",
       "      <td>4.0</td>\n",
       "      <td>1.0</td>\n",
       "      <td>2.0</td>\n",
       "      <td>3.0</td>\n",
       "      <td>0.0</td>\n",
       "      <td>0.0</td>\n",
       "      <td>1.0</td>\n",
       "      <td>...</td>\n",
       "      <td>0.0</td>\n",
       "      <td>0.0</td>\n",
       "      <td>5.0</td>\n",
       "      <td>1.0</td>\n",
       "      <td>0.0</td>\n",
       "      <td>0.0</td>\n",
       "      <td>0.0</td>\n",
       "      <td>0.0</td>\n",
       "      <td>0.0</td>\n",
       "      <td>1.0</td>\n",
       "    </tr>\n",
       "    <tr>\n",
       "      <th>4411</th>\n",
       "      <td>2.0</td>\n",
       "      <td>85.0</td>\n",
       "      <td>3.0</td>\n",
       "      <td>2.0</td>\n",
       "      <td>1.0</td>\n",
       "      <td>3.0</td>\n",
       "      <td>2.0</td>\n",
       "      <td>1.0</td>\n",
       "      <td>0.0</td>\n",
       "      <td>1.0</td>\n",
       "      <td>...</td>\n",
       "      <td>0.0</td>\n",
       "      <td>0.0</td>\n",
       "      <td>7.0</td>\n",
       "      <td>0.0</td>\n",
       "      <td>0.0</td>\n",
       "      <td>0.0</td>\n",
       "      <td>1.0</td>\n",
       "      <td>0.0</td>\n",
       "      <td>1.0</td>\n",
       "      <td>1.0</td>\n",
       "    </tr>\n",
       "    <tr>\n",
       "      <th>4412</th>\n",
       "      <td>2.0</td>\n",
       "      <td>53.0</td>\n",
       "      <td>9.0</td>\n",
       "      <td>1.0</td>\n",
       "      <td>2.0</td>\n",
       "      <td>3.0</td>\n",
       "      <td>1.0</td>\n",
       "      <td>0.0</td>\n",
       "      <td>0.0</td>\n",
       "      <td>0.0</td>\n",
       "      <td>...</td>\n",
       "      <td>0.0</td>\n",
       "      <td>0.0</td>\n",
       "      <td>5.0</td>\n",
       "      <td>0.0</td>\n",
       "      <td>0.0</td>\n",
       "      <td>0.0</td>\n",
       "      <td>0.0</td>\n",
       "      <td>0.0</td>\n",
       "      <td>0.0</td>\n",
       "      <td>0.0</td>\n",
       "    </tr>\n",
       "    <tr>\n",
       "      <th>4413</th>\n",
       "      <td>2.0</td>\n",
       "      <td>78.0</td>\n",
       "      <td>4.0</td>\n",
       "      <td>2.0</td>\n",
       "      <td>2.0</td>\n",
       "      <td>2.0</td>\n",
       "      <td>2.0</td>\n",
       "      <td>0.0</td>\n",
       "      <td>0.0</td>\n",
       "      <td>0.0</td>\n",
       "      <td>...</td>\n",
       "      <td>0.0</td>\n",
       "      <td>0.0</td>\n",
       "      <td>1.0</td>\n",
       "      <td>0.0</td>\n",
       "      <td>1.0</td>\n",
       "      <td>0.0</td>\n",
       "      <td>0.0</td>\n",
       "      <td>0.0</td>\n",
       "      <td>0.0</td>\n",
       "      <td>1.0</td>\n",
       "    </tr>\n",
       "    <tr>\n",
       "      <th>4414</th>\n",
       "      <td>2.0</td>\n",
       "      <td>29.0</td>\n",
       "      <td>7.0</td>\n",
       "      <td>3.0</td>\n",
       "      <td>2.0</td>\n",
       "      <td>3.0</td>\n",
       "      <td>4.0</td>\n",
       "      <td>0.0</td>\n",
       "      <td>0.0</td>\n",
       "      <td>0.0</td>\n",
       "      <td>...</td>\n",
       "      <td>0.0</td>\n",
       "      <td>0.0</td>\n",
       "      <td>7.0</td>\n",
       "      <td>1.0</td>\n",
       "      <td>0.0</td>\n",
       "      <td>0.0</td>\n",
       "      <td>0.0</td>\n",
       "      <td>0.0</td>\n",
       "      <td>0.0</td>\n",
       "      <td>1.0</td>\n",
       "    </tr>\n",
       "  </tbody>\n",
       "</table>\n",
       "<p>4415 rows × 50 columns</p>\n",
       "</div>"
      ],
      "text/plain": [
       "      SEXOa  EDADa  ESTUDIOS  G21  G22  G23  G24a  G25a_1  G25a_5  G25a_6  \\\n",
       "0       2.0   24.0       9.0  1.0  2.0  3.0   2.0     0.0     0.0     0.0   \n",
       "1       1.0   65.0       9.0  2.0  1.0  3.0   3.0     0.0     1.0     0.0   \n",
       "2       1.0   60.0       8.0  1.0  2.0  3.0   1.0     0.0     0.0     0.0   \n",
       "3       1.0   83.0       6.0  2.0  2.0  2.0   3.0     1.0     0.0     0.0   \n",
       "4       1.0   92.0       4.0  4.0  1.0  1.0   4.0     1.0     0.0     1.0   \n",
       "...     ...    ...       ...  ...  ...  ...   ...     ...     ...     ...   \n",
       "4410    2.0   41.0       7.0  4.0  1.0  2.0   3.0     0.0     0.0     1.0   \n",
       "4411    2.0   85.0       3.0  2.0  1.0  3.0   2.0     1.0     0.0     1.0   \n",
       "4412    2.0   53.0       9.0  1.0  2.0  3.0   1.0     0.0     0.0     0.0   \n",
       "4413    2.0   78.0       4.0  2.0  2.0  2.0   2.0     0.0     0.0     0.0   \n",
       "4414    2.0   29.0       7.0  3.0  2.0  3.0   4.0     0.0     0.0     0.0   \n",
       "\n",
       "      ...  R108_2  R108_4  T113  P87_2a_nuevo  P87_4a_nuevo  P87_5a_nuevo  \\\n",
       "0     ...     0.0     0.0   7.0           0.0           0.0           0.0   \n",
       "1     ...     0.0     0.0   5.0           1.0           0.0           0.0   \n",
       "2     ...     0.0     0.0   7.0           0.0           0.0           0.0   \n",
       "3     ...     1.0     0.0   0.0           1.0           1.0           1.0   \n",
       "4     ...     0.0     0.0   0.0           1.0           0.0           0.0   \n",
       "...   ...     ...     ...   ...           ...           ...           ...   \n",
       "4410  ...     0.0     0.0   5.0           1.0           0.0           0.0   \n",
       "4411  ...     0.0     0.0   7.0           0.0           0.0           0.0   \n",
       "4412  ...     0.0     0.0   5.0           0.0           0.0           0.0   \n",
       "4413  ...     0.0     0.0   1.0           0.0           1.0           0.0   \n",
       "4414  ...     0.0     0.0   7.0           1.0           0.0           0.0   \n",
       "\n",
       "      P87_12a_nuevo  P87_13a_nuevo  P87_18a_nuevo  P85_nuevo  \n",
       "0               0.0            0.0            0.0        0.0  \n",
       "1               0.0            0.0            0.0        1.0  \n",
       "2               0.0            0.0            0.0        0.0  \n",
       "3               0.0            0.0            1.0        1.0  \n",
       "4               1.0            0.0            1.0        1.0  \n",
       "...             ...            ...            ...        ...  \n",
       "4410            0.0            0.0            0.0        1.0  \n",
       "4411            1.0            0.0            1.0        1.0  \n",
       "4412            0.0            0.0            0.0        0.0  \n",
       "4413            0.0            0.0            0.0        1.0  \n",
       "4414            0.0            0.0            0.0        1.0  \n",
       "\n",
       "[4415 rows x 50 columns]"
      ]
     },
     "execution_count": 10,
     "metadata": {},
     "output_type": "execute_result"
    }
   ],
   "source": [
    "X_test"
   ]
  },
  {
   "cell_type": "code",
   "execution_count": 11,
   "metadata": {},
   "outputs": [
    {
     "data": {
      "text/html": [
       "<div>\n",
       "<style scoped>\n",
       "    .dataframe tbody tr th:only-of-type {\n",
       "        vertical-align: middle;\n",
       "    }\n",
       "\n",
       "    .dataframe tbody tr th {\n",
       "        vertical-align: top;\n",
       "    }\n",
       "\n",
       "    .dataframe thead th {\n",
       "        text-align: right;\n",
       "    }\n",
       "</style>\n",
       "<table border=\"1\" class=\"dataframe\">\n",
       "  <thead>\n",
       "    <tr style=\"text-align: right;\">\n",
       "      <th></th>\n",
       "      <th>dep_anx</th>\n",
       "    </tr>\n",
       "  </thead>\n",
       "  <tbody>\n",
       "    <tr>\n",
       "      <th>0</th>\n",
       "      <td>0</td>\n",
       "    </tr>\n",
       "    <tr>\n",
       "      <th>1</th>\n",
       "      <td>0</td>\n",
       "    </tr>\n",
       "    <tr>\n",
       "      <th>2</th>\n",
       "      <td>0</td>\n",
       "    </tr>\n",
       "    <tr>\n",
       "      <th>3</th>\n",
       "      <td>0</td>\n",
       "    </tr>\n",
       "    <tr>\n",
       "      <th>4</th>\n",
       "      <td>0</td>\n",
       "    </tr>\n",
       "    <tr>\n",
       "      <th>...</th>\n",
       "      <td>...</td>\n",
       "    </tr>\n",
       "    <tr>\n",
       "      <th>17652</th>\n",
       "      <td>0</td>\n",
       "    </tr>\n",
       "    <tr>\n",
       "      <th>17653</th>\n",
       "      <td>0</td>\n",
       "    </tr>\n",
       "    <tr>\n",
       "      <th>17654</th>\n",
       "      <td>0</td>\n",
       "    </tr>\n",
       "    <tr>\n",
       "      <th>17655</th>\n",
       "      <td>0</td>\n",
       "    </tr>\n",
       "    <tr>\n",
       "      <th>17656</th>\n",
       "      <td>0</td>\n",
       "    </tr>\n",
       "  </tbody>\n",
       "</table>\n",
       "<p>17657 rows × 1 columns</p>\n",
       "</div>"
      ],
      "text/plain": [
       "       dep_anx\n",
       "0            0\n",
       "1            0\n",
       "2            0\n",
       "3            0\n",
       "4            0\n",
       "...        ...\n",
       "17652        0\n",
       "17653        0\n",
       "17654        0\n",
       "17655        0\n",
       "17656        0\n",
       "\n",
       "[17657 rows x 1 columns]"
      ]
     },
     "execution_count": 11,
     "metadata": {},
     "output_type": "execute_result"
    }
   ],
   "source": [
    "y_train"
   ]
  },
  {
   "cell_type": "code",
   "execution_count": 12,
   "metadata": {},
   "outputs": [
    {
     "data": {
      "text/html": [
       "<div>\n",
       "<style scoped>\n",
       "    .dataframe tbody tr th:only-of-type {\n",
       "        vertical-align: middle;\n",
       "    }\n",
       "\n",
       "    .dataframe tbody tr th {\n",
       "        vertical-align: top;\n",
       "    }\n",
       "\n",
       "    .dataframe thead th {\n",
       "        text-align: right;\n",
       "    }\n",
       "</style>\n",
       "<table border=\"1\" class=\"dataframe\">\n",
       "  <thead>\n",
       "    <tr style=\"text-align: right;\">\n",
       "      <th></th>\n",
       "      <th>dep_anx</th>\n",
       "    </tr>\n",
       "  </thead>\n",
       "  <tbody>\n",
       "    <tr>\n",
       "      <th>0</th>\n",
       "      <td>0</td>\n",
       "    </tr>\n",
       "    <tr>\n",
       "      <th>1</th>\n",
       "      <td>1</td>\n",
       "    </tr>\n",
       "    <tr>\n",
       "      <th>2</th>\n",
       "      <td>0</td>\n",
       "    </tr>\n",
       "    <tr>\n",
       "      <th>3</th>\n",
       "      <td>0</td>\n",
       "    </tr>\n",
       "    <tr>\n",
       "      <th>4</th>\n",
       "      <td>0</td>\n",
       "    </tr>\n",
       "    <tr>\n",
       "      <th>...</th>\n",
       "      <td>...</td>\n",
       "    </tr>\n",
       "    <tr>\n",
       "      <th>4410</th>\n",
       "      <td>1</td>\n",
       "    </tr>\n",
       "    <tr>\n",
       "      <th>4411</th>\n",
       "      <td>0</td>\n",
       "    </tr>\n",
       "    <tr>\n",
       "      <th>4412</th>\n",
       "      <td>0</td>\n",
       "    </tr>\n",
       "    <tr>\n",
       "      <th>4413</th>\n",
       "      <td>0</td>\n",
       "    </tr>\n",
       "    <tr>\n",
       "      <th>4414</th>\n",
       "      <td>0</td>\n",
       "    </tr>\n",
       "  </tbody>\n",
       "</table>\n",
       "<p>4415 rows × 1 columns</p>\n",
       "</div>"
      ],
      "text/plain": [
       "      dep_anx\n",
       "0           0\n",
       "1           1\n",
       "2           0\n",
       "3           0\n",
       "4           0\n",
       "...       ...\n",
       "4410        1\n",
       "4411        0\n",
       "4412        0\n",
       "4413        0\n",
       "4414        0\n",
       "\n",
       "[4415 rows x 1 columns]"
      ]
     },
     "execution_count": 12,
     "metadata": {},
     "output_type": "execute_result"
    }
   ],
   "source": [
    "y_test"
   ]
  },
  {
   "cell_type": "markdown",
   "metadata": {},
   "source": [
    "#### Carga del primer modelo"
   ]
  },
  {
   "cell_type": "code",
   "execution_count": 13,
   "metadata": {},
   "outputs": [],
   "source": [
    "from xgboost import XGBClassifier\n",
    "from sklearn.model_selection import train_test_split\n",
    "from sklearn.metrics import accuracy_score\n",
    "from pickle import dump"
   ]
  },
  {
   "cell_type": "code",
   "execution_count": 14,
   "metadata": {},
   "outputs": [
    {
     "data": {
      "text/html": [
       "<style>#sk-container-id-1 {color: black;}#sk-container-id-1 pre{padding: 0;}#sk-container-id-1 div.sk-toggleable {background-color: white;}#sk-container-id-1 label.sk-toggleable__label {cursor: pointer;display: block;width: 100%;margin-bottom: 0;padding: 0.3em;box-sizing: border-box;text-align: center;}#sk-container-id-1 label.sk-toggleable__label-arrow:before {content: \"▸\";float: left;margin-right: 0.25em;color: #696969;}#sk-container-id-1 label.sk-toggleable__label-arrow:hover:before {color: black;}#sk-container-id-1 div.sk-estimator:hover label.sk-toggleable__label-arrow:before {color: black;}#sk-container-id-1 div.sk-toggleable__content {max-height: 0;max-width: 0;overflow: hidden;text-align: left;background-color: #f0f8ff;}#sk-container-id-1 div.sk-toggleable__content pre {margin: 0.2em;color: black;border-radius: 0.25em;background-color: #f0f8ff;}#sk-container-id-1 input.sk-toggleable__control:checked~div.sk-toggleable__content {max-height: 200px;max-width: 100%;overflow: auto;}#sk-container-id-1 input.sk-toggleable__control:checked~label.sk-toggleable__label-arrow:before {content: \"▾\";}#sk-container-id-1 div.sk-estimator input.sk-toggleable__control:checked~label.sk-toggleable__label {background-color: #d4ebff;}#sk-container-id-1 div.sk-label input.sk-toggleable__control:checked~label.sk-toggleable__label {background-color: #d4ebff;}#sk-container-id-1 input.sk-hidden--visually {border: 0;clip: rect(1px 1px 1px 1px);clip: rect(1px, 1px, 1px, 1px);height: 1px;margin: -1px;overflow: hidden;padding: 0;position: absolute;width: 1px;}#sk-container-id-1 div.sk-estimator {font-family: monospace;background-color: #f0f8ff;border: 1px dotted black;border-radius: 0.25em;box-sizing: border-box;margin-bottom: 0.5em;}#sk-container-id-1 div.sk-estimator:hover {background-color: #d4ebff;}#sk-container-id-1 div.sk-parallel-item::after {content: \"\";width: 100%;border-bottom: 1px solid gray;flex-grow: 1;}#sk-container-id-1 div.sk-label:hover label.sk-toggleable__label {background-color: #d4ebff;}#sk-container-id-1 div.sk-serial::before {content: \"\";position: absolute;border-left: 1px solid gray;box-sizing: border-box;top: 0;bottom: 0;left: 50%;z-index: 0;}#sk-container-id-1 div.sk-serial {display: flex;flex-direction: column;align-items: center;background-color: white;padding-right: 0.2em;padding-left: 0.2em;position: relative;}#sk-container-id-1 div.sk-item {position: relative;z-index: 1;}#sk-container-id-1 div.sk-parallel {display: flex;align-items: stretch;justify-content: center;background-color: white;position: relative;}#sk-container-id-1 div.sk-item::before, #sk-container-id-1 div.sk-parallel-item::before {content: \"\";position: absolute;border-left: 1px solid gray;box-sizing: border-box;top: 0;bottom: 0;left: 50%;z-index: -1;}#sk-container-id-1 div.sk-parallel-item {display: flex;flex-direction: column;z-index: 1;position: relative;background-color: white;}#sk-container-id-1 div.sk-parallel-item:first-child::after {align-self: flex-end;width: 50%;}#sk-container-id-1 div.sk-parallel-item:last-child::after {align-self: flex-start;width: 50%;}#sk-container-id-1 div.sk-parallel-item:only-child::after {width: 0;}#sk-container-id-1 div.sk-dashed-wrapped {border: 1px dashed gray;margin: 0 0.4em 0.5em 0.4em;box-sizing: border-box;padding-bottom: 0.4em;background-color: white;}#sk-container-id-1 div.sk-label label {font-family: monospace;font-weight: bold;display: inline-block;line-height: 1.2em;}#sk-container-id-1 div.sk-label-container {text-align: center;}#sk-container-id-1 div.sk-container {/* jupyter's `normalize.less` sets `[hidden] { display: none; }` but bootstrap.min.css set `[hidden] { display: none !important; }` so we also need the `!important` here to be able to override the default hidden behavior on the sphinx rendered scikit-learn.org. See: https://github.com/scikit-learn/scikit-learn/issues/21755 */display: inline-block !important;position: relative;}#sk-container-id-1 div.sk-text-repr-fallback {display: none;}</style><div id=\"sk-container-id-1\" class=\"sk-top-container\"><div class=\"sk-text-repr-fallback\"><pre>XGBClassifier(base_score=None, booster=None, callbacks=None,\n",
       "              colsample_bylevel=None, colsample_bynode=None,\n",
       "              colsample_bytree=None, device=None, early_stopping_rounds=None,\n",
       "              enable_categorical=False, eval_metric=None, feature_types=None,\n",
       "              gamma=None, grow_policy=None, importance_type=None,\n",
       "              interaction_constraints=None, learning_rate=None, max_bin=None,\n",
       "              max_cat_threshold=None, max_cat_to_onehot=None,\n",
       "              max_delta_step=None, max_depth=None, max_leaves=None,\n",
       "              min_child_weight=None, missing=nan, monotone_constraints=None,\n",
       "              multi_strategy=None, n_estimators=None, n_jobs=None,\n",
       "              num_parallel_tree=None, random_state=42, ...)</pre><b>In a Jupyter environment, please rerun this cell to show the HTML representation or trust the notebook. <br />On GitHub, the HTML representation is unable to render, please try loading this page with nbviewer.org.</b></div><div class=\"sk-container\" hidden><div class=\"sk-item\"><div class=\"sk-estimator sk-toggleable\"><input class=\"sk-toggleable__control sk-hidden--visually\" id=\"sk-estimator-id-1\" type=\"checkbox\" checked><label for=\"sk-estimator-id-1\" class=\"sk-toggleable__label sk-toggleable__label-arrow\">XGBClassifier</label><div class=\"sk-toggleable__content\"><pre>XGBClassifier(base_score=None, booster=None, callbacks=None,\n",
       "              colsample_bylevel=None, colsample_bynode=None,\n",
       "              colsample_bytree=None, device=None, early_stopping_rounds=None,\n",
       "              enable_categorical=False, eval_metric=None, feature_types=None,\n",
       "              gamma=None, grow_policy=None, importance_type=None,\n",
       "              interaction_constraints=None, learning_rate=None, max_bin=None,\n",
       "              max_cat_threshold=None, max_cat_to_onehot=None,\n",
       "              max_delta_step=None, max_depth=None, max_leaves=None,\n",
       "              min_child_weight=None, missing=nan, monotone_constraints=None,\n",
       "              multi_strategy=None, n_estimators=None, n_jobs=None,\n",
       "              num_parallel_tree=None, random_state=42, ...)</pre></div></div></div></div></div>"
      ],
      "text/plain": [
       "XGBClassifier(base_score=None, booster=None, callbacks=None,\n",
       "              colsample_bylevel=None, colsample_bynode=None,\n",
       "              colsample_bytree=None, device=None, early_stopping_rounds=None,\n",
       "              enable_categorical=False, eval_metric=None, feature_types=None,\n",
       "              gamma=None, grow_policy=None, importance_type=None,\n",
       "              interaction_constraints=None, learning_rate=None, max_bin=None,\n",
       "              max_cat_threshold=None, max_cat_to_onehot=None,\n",
       "              max_delta_step=None, max_depth=None, max_leaves=None,\n",
       "              min_child_weight=None, missing=nan, monotone_constraints=None,\n",
       "              multi_strategy=None, n_estimators=None, n_jobs=None,\n",
       "              num_parallel_tree=None, random_state=42, ...)"
      ]
     },
     "execution_count": 14,
     "metadata": {},
     "output_type": "execute_result"
    }
   ],
   "source": [
    "\n",
    "## XGBoost Classifier\n",
    "# Create an XGBoost classifier with a specified random state\n",
    "model_x = XGBClassifier(random_state=42)\n",
    "\n",
    "# Train the model on the training set\n",
    "model_x.fit(X_train, y_train)"
   ]
  },
  {
   "cell_type": "code",
   "execution_count": 15,
   "metadata": {},
   "outputs": [
    {
     "name": "stdout",
     "output_type": "stream",
     "text": [
      "The accuracy score for Train is 0.9554850767401031.\n",
      "The accuracy score for Test is 0.8856172140430351.\n"
     ]
    }
   ],
   "source": [
    "\n",
    "# Make predictions on the training set and calculate the accuracy\n",
    "y_pred_train = model_x.predict(X_train)\n",
    "train_score = accuracy_score(y_train, y_pred_train)\n",
    "print(f'The accuracy score for Train is {train_score}.')\n",
    "\n",
    "# Make predictions on the testing set and calculate the accuracy\n",
    "y_pred_test = model_x.predict(X_test)\n",
    "test_score = accuracy_score(y_test, y_pred_test)\n",
    "print(f'The accuracy score for Test is {test_score}.')"
   ]
  },
  {
   "cell_type": "code",
   "execution_count": 16,
   "metadata": {},
   "outputs": [
    {
     "name": "stdout",
     "output_type": "stream",
     "text": [
      "The accuracy difference between the models is 0.06986786269706802.\n"
     ]
    }
   ],
   "source": [
    "\n",
    "# Calculate and print the difference in accuracy between the training and testing sets\n",
    "difference = train_score - test_score\n",
    "print(f'The accuracy difference between the models is {difference}.')\n",
    "\n",
    "# Save the trained model to a file\n",
    "dump(model_x, open(\"../models/x_boosting_default_model_2.pk\", \"wb\"))\n",
    "\n"
   ]
  },
  {
   "cell_type": "markdown",
   "metadata": {},
   "source": [
    "### Parametros"
   ]
  },
  {
   "cell_type": "markdown",
   "metadata": {},
   "source": [
    "que es ____ y como mejora mi xgboost. Añade los posibles parametros en una lista que puedo poner para un gridsearch"
   ]
  },
  {
   "cell_type": "code",
   "execution_count": 17,
   "metadata": {},
   "outputs": [
    {
     "name": "stdout",
     "output_type": "stream",
     "text": [
      "objective\n",
      "base_score\n",
      "booster\n",
      "callbacks\n",
      "colsample_bylevel\n",
      "colsample_bynode\n",
      "colsample_bytree\n",
      "device\n",
      "early_stopping_rounds\n",
      "enable_categorical\n",
      "eval_metric\n",
      "feature_types\n",
      "gamma\n",
      "grow_policy\n",
      "importance_type\n",
      "interaction_constraints\n",
      "learning_rate\n",
      "max_bin\n",
      "max_cat_threshold\n",
      "max_cat_to_onehot\n",
      "max_delta_step\n",
      "max_depth\n",
      "max_leaves\n",
      "min_child_weight\n",
      "missing\n",
      "monotone_constraints\n",
      "multi_strategy\n",
      "n_estimators\n",
      "n_jobs\n",
      "num_parallel_tree\n",
      "random_state\n",
      "reg_alpha\n",
      "reg_lambda\n",
      "sampling_method\n",
      "scale_pos_weight\n",
      "subsample\n",
      "tree_method\n",
      "validate_parameters\n",
      "verbosity\n"
     ]
    }
   ],
   "source": [
    "# Obtener y mostrar todos los parámetros del modelo\n",
    "params = model_x.get_params()\n",
    "\n",
    "# Imprimir los parámetros\n",
    "for key, value in params.items():\n",
    "    print(f\"{key}\")"
   ]
  },
  {
   "cell_type": "markdown",
   "metadata": {},
   "source": [
    "### Visualizamos el modelo"
   ]
  },
  {
   "cell_type": "code",
   "execution_count": 18,
   "metadata": {},
   "outputs": [
    {
     "data": {
      "text/plain": [
       "<sklearn.metrics._plot.confusion_matrix.ConfusionMatrixDisplay at 0x7f49bb8ff750>"
      ]
     },
     "execution_count": 18,
     "metadata": {},
     "output_type": "execute_result"
    },
    {
     "data": {
      "image/png": "[encoded data removed]",
      "text/plain": [
       "<Figure size 640x480 with 2 Axes>"
      ]
     },
     "metadata": {},
     "output_type": "display_data"
    }
   ],
   "source": [
    "from sklearn.metrics import confusion_matrix, ConfusionMatrixDisplay\n",
    "\n",
    "# Calculate the confusion matrix\n",
    "cm = confusion_matrix(y_test, y_pred_test)\n",
    "\n",
    "# Visualize the confusion matrix\n",
    "disp = ConfusionMatrixDisplay(confusion_matrix=cm, display_labels=model_x.classes_)\n",
    "disp.plot()"
   ]
  },
  {
   "cell_type": "markdown",
   "metadata": {},
   "source": [
    "Plot importance"
   ]
  },
  {
   "cell_type": "code",
   "execution_count": 19,
   "metadata": {},
   "outputs": [
    {
     "data": {
      "image/png": "[encoded data removed]",
      "text/plain": [
       "<Figure size 1000x1000 with 1 Axes>"
      ]
     },
     "metadata": {},
     "output_type": "display_data"
    }
   ],
   "source": [
    "import matplotlib.pyplot as plt\n",
    "from xgboost import plot_importance\n",
    "\n",
    "# Visualizar la importancia de las características\n",
    "\n",
    "# plt.figure(figsize=(80,80))\n",
    "\n",
    "fig, ax = plt.subplots(figsize=(10, 10))\n",
    "plot_importance(model_x, ax=ax)\n",
    "\n",
    "\n",
    "# plot_importance(model_x, height=10)\n",
    "plt.show()\n",
    "# plt.tight_layout()"
   ]
  },
  {
   "cell_type": "markdown",
   "metadata": {},
   "source": [
    "Plot the tree"
   ]
  },
  {
   "cell_type": "code",
   "execution_count": 20,
   "metadata": {},
   "outputs": [],
   "source": [
    "# from xgboost import plot_tree\n",
    "# import matplotlib.pyplot as plt\n",
    "\n",
    "# # Visualizar el primer árbol del modelo\n",
    "# fig, ax = plt.subplots(figsize=(80, 80))\n",
    "# plot_tree(model_x, num_trees=0, rankdir='LR',ax=ax)  # num_trees indica qué árbol visualizar\n",
    "# plt.show()"
   ]
  },
  {
   "cell_type": "code",
   "execution_count": 21,
   "metadata": {},
   "outputs": [],
   "source": [
    "## Modificar tamaño grafico PENDIENTE\n",
    "\n",
    "\n",
    "# Visualizar los primeros cinco árboles del modelo\n",
    "# for i in range(5):\n",
    "#     plt.figure(figsize=(80, 80))\n",
    "#     plot_tree(model_x, num_trees=i, rankdir='LR')\n",
    "#     plt.title(f'Árbol {i+1}')\n",
    "#     plt.show()"
   ]
  },
  {
   "cell_type": "markdown",
   "metadata": {},
   "source": [
    "Gradient a comprobar "
   ]
  },
  {
   "cell_type": "code",
   "execution_count": 22,
   "metadata": {},
   "outputs": [
    {
     "name": "stderr",
     "output_type": "stream",
     "text": [
      "/home/tr4shhh/venv/lib/python3.11/site-packages/sklearn/ensemble/_gb.py:424: DataConversionWarning: A column-vector y was passed when a 1d array was expected. Please change the shape of y to (n_samples, ), for example using ravel().\n",
      "  y = column_or_1d(y, warn=True)\n"
     ]
    },
    {
     "name": "stdout",
     "output_type": "stream",
     "text": [
      "The accuracy score for Train is 0.8840686413320497.\n",
      "The accuracy score for Test is 0.8838052095130238.\n",
      "The accuracy difference between the models is 0.0002634318190258833.\n"
     ]
    }
   ],
   "source": [
    "\n",
    "from sklearn.ensemble import GradientBoostingClassifier\n",
    "\n",
    "## Gardient Boost Classifier\n",
    "# Create a Gradient Boosting classifier with specified parameters\n",
    "model = GradientBoostingClassifier(n_estimators=10, random_state=24)\n",
    "\n",
    "# Train the model on the training set\n",
    "model.fit(X_train, y_train)\n",
    "\n",
    "# Make predictions on the training set and calculate the accuracy\n",
    "y_pred_train = model.predict(X_train)\n",
    "train_score = accuracy_score(y_train, y_pred_train)\n",
    "print(f'The accuracy score for Train is {train_score}.')\n",
    "\n",
    "# Make predictions on the testing set and calculate the accuracy\n",
    "y_pred_test = model.predict(X_test)\n",
    "test_score = accuracy_score(y_test, y_pred_test)\n",
    "print(f'The accuracy score for Test is {test_score}.')\n",
    "\n",
    "# Calculate and print the difference in accuracy between the training and testing sets\n",
    "difference = train_score - test_score\n",
    "print(f'The accuracy difference between the models is {difference}.')"
   ]
  },
  {
   "cell_type": "code",
   "execution_count": 23,
   "metadata": {},
   "outputs": [
    {
     "data": {
      "text/plain": [
       "<sklearn.metrics._plot.confusion_matrix.ConfusionMatrixDisplay at 0x7f4995e1f590>"
      ]
     },
     "execution_count": 23,
     "metadata": {},
     "output_type": "execute_result"
    },
    {
     "data": {
      "image/png": "[encoded data removed]",
      "text/plain": [
       "<Figure size 640x480 with 2 Axes>"
      ]
     },
     "metadata": {},
     "output_type": "display_data"
    }
   ],
   "source": [
    "from sklearn.metrics import confusion_matrix, ConfusionMatrixDisplay\n",
    "\n",
    "# Calculate the confusion matrix\n",
    "cm = confusion_matrix(y_test, y_pred_test)\n",
    "\n",
    "# Visualize the confusion matrix\n",
    "disp = ConfusionMatrixDisplay(confusion_matrix=cm, display_labels=model.classes_)\n",
    "disp.plot()"
   ]
  },
  {
   "cell_type": "markdown",
   "metadata": {},
   "source": [
    "# Hyperparameter optimisation"
   ]
  },
  {
   "cell_type": "markdown",
   "metadata": {},
   "source": [
    "## Part 1 - SelectKbest optimisation:"
   ]
  },
  {
   "cell_type": "markdown",
   "metadata": {},
   "source": [
    "deleting correlated vars"
   ]
  },
  {
   "cell_type": "code",
   "execution_count": 24,
   "metadata": {},
   "outputs": [],
   "source": [
    "clean_df=pd.read_csv('../data/interim/final_3dot1.csv')\n",
    "\n",
    "lista_a_eliminar = ['P87_14a_nuevo', 'P87_7a_nuevo', 'SEVERIDAD_DEPRESIVA', 'CUADROS_DEPRESIVOS', \"dep_anx\", 'L46','G22', 'G23', 'P85_nuevo']\n",
    "\n",
    "# We divide the dataset into training and test samples.\n",
    "X = clean_df.drop(lista_a_eliminar, axis = 1)\n",
    "y = clean_df[\"dep_anx\"]\n",
    "\n",
    "X_train, X_test, y_train, y_test = train_test_split(X, y, test_size = 0.2, random_state = 42, stratify=y)\n"
   ]
  },
  {
   "cell_type": "code",
   "execution_count": 25,
   "metadata": {},
   "outputs": [
    {
     "name": "stderr",
     "output_type": "stream",
     "text": [
      "/home/tr4shhh/venv/lib/python3.11/site-packages/sklearn/feature_selection/_univariate_selection.py:112: UserWarning: Features [8 9] are constant.\n",
      "  warnings.warn(\"Features %s are constant.\" % constant_features_idx, UserWarning)\n"
     ]
    },
    {
     "name": "stdout",
     "output_type": "stream",
     "text": [
      "for accuracy: 0.8682109078552416 , number of variables selected: 1 and 0.01\n"
     ]
    },
    {
     "name": "stderr",
     "output_type": "stream",
     "text": [
      "/home/tr4shhh/venv/lib/python3.11/site-packages/sklearn/feature_selection/_univariate_selection.py:112: UserWarning: Features [8 9] are constant.\n",
      "  warnings.warn(\"Features %s are constant.\" % constant_features_idx, UserWarning)\n"
     ]
    },
    {
     "name": "stdout",
     "output_type": "stream",
     "text": [
      "for accuracy: 0.8893356742368466 , number of variables selected: 5 and 0.03\n"
     ]
    },
    {
     "name": "stderr",
     "output_type": "stream",
     "text": [
      "/home/tr4shhh/venv/lib/python3.11/site-packages/sklearn/feature_selection/_univariate_selection.py:112: UserWarning: Features [8 9] are constant.\n",
      "  warnings.warn(\"Features %s are constant.\" % constant_features_idx, UserWarning)\n"
     ]
    },
    {
     "name": "stdout",
     "output_type": "stream",
     "text": [
      "for accuracy: 0.9025315738800476 , number of variables selected: 9 and 0.05\n"
     ]
    },
    {
     "name": "stderr",
     "output_type": "stream",
     "text": [
      "/home/tr4shhh/venv/lib/python3.11/site-packages/sklearn/feature_selection/_univariate_selection.py:112: UserWarning: Features [8 9] are constant.\n",
      "  warnings.warn(\"Features %s are constant.\" % constant_features_idx, UserWarning)\n"
     ]
    },
    {
     "name": "stdout",
     "output_type": "stream",
     "text": [
      "for accuracy: 0.9098374582318627 , number of variables selected: 12 and 0.07\n"
     ]
    },
    {
     "name": "stderr",
     "output_type": "stream",
     "text": [
      "/home/tr4shhh/venv/lib/python3.11/site-packages/sklearn/feature_selection/_univariate_selection.py:112: UserWarning: Features [8 9] are constant.\n",
      "  warnings.warn(\"Features %s are constant.\" % constant_features_idx, UserWarning)\n"
     ]
    },
    {
     "name": "stdout",
     "output_type": "stream",
     "text": [
      "for accuracy: 0.9245624964603274 , number of variables selected: 16 and 0.09\n"
     ]
    },
    {
     "name": "stderr",
     "output_type": "stream",
     "text": [
      "/home/tr4shhh/venv/lib/python3.11/site-packages/sklearn/feature_selection/_univariate_selection.py:112: UserWarning: Features [8 9] are constant.\n",
      "  warnings.warn(\"Features %s are constant.\" % constant_features_idx, UserWarning)\n"
     ]
    },
    {
     "name": "stdout",
     "output_type": "stream",
     "text": [
      "for accuracy: 0.9298295293651243 , number of variables selected: 20 and 0.11\n"
     ]
    },
    {
     "name": "stderr",
     "output_type": "stream",
     "text": [
      "/home/tr4shhh/venv/lib/python3.11/site-packages/sklearn/feature_selection/_univariate_selection.py:112: UserWarning: Features [8 9] are constant.\n",
      "  warnings.warn(\"Features %s are constant.\" % constant_features_idx, UserWarning)\n"
     ]
    },
    {
     "name": "stdout",
     "output_type": "stream",
     "text": [
      "for accuracy: 0.9340771365464122 , number of variables selected: 23 and 0.13\n"
     ]
    },
    {
     "name": "stderr",
     "output_type": "stream",
     "text": [
      "/home/tr4shhh/venv/lib/python3.11/site-packages/sklearn/feature_selection/_univariate_selection.py:112: UserWarning: Features [8 9] are constant.\n",
      "  warnings.warn(\"Features %s are constant.\" % constant_features_idx, UserWarning)\n"
     ]
    },
    {
     "name": "stdout",
     "output_type": "stream",
     "text": [
      "for accuracy: 0.9418360989975647 , number of variables selected: 27 and 0.15\n"
     ]
    },
    {
     "name": "stderr",
     "output_type": "stream",
     "text": [
      "/home/tr4shhh/venv/lib/python3.11/site-packages/sklearn/feature_selection/_univariate_selection.py:112: UserWarning: Features [8 9] are constant.\n",
      "  warnings.warn(\"Features %s are constant.\" % constant_features_idx, UserWarning)\n"
     ]
    },
    {
     "name": "stdout",
     "output_type": "stream",
     "text": [
      "for accuracy: 0.9393441694512091 , number of variables selected: 31 and 0.17\n"
     ]
    },
    {
     "name": "stderr",
     "output_type": "stream",
     "text": [
      "/home/tr4shhh/venv/lib/python3.11/site-packages/sklearn/feature_selection/_univariate_selection.py:112: UserWarning: Features [8 9] are constant.\n",
      "  warnings.warn(\"Features %s are constant.\" % constant_features_idx, UserWarning)\n"
     ]
    },
    {
     "name": "stdout",
     "output_type": "stream",
     "text": [
      "for accuracy: 0.9424024466217364 , number of variables selected: 34 and 0.19\n"
     ]
    },
    {
     "name": "stderr",
     "output_type": "stream",
     "text": [
      "/home/tr4shhh/venv/lib/python3.11/site-packages/sklearn/feature_selection/_univariate_selection.py:112: UserWarning: Features [8 9] are constant.\n",
      "  warnings.warn(\"Features %s are constant.\" % constant_features_idx, UserWarning)\n"
     ]
    },
    {
     "name": "stdout",
     "output_type": "stream",
     "text": [
      "for accuracy: 0.9478393838137849 , number of variables selected: 38 and 0.21\n"
     ]
    },
    {
     "name": "stderr",
     "output_type": "stream",
     "text": [
      "/home/tr4shhh/venv/lib/python3.11/site-packages/sklearn/feature_selection/_univariate_selection.py:112: UserWarning: Features [8 9] are constant.\n",
      "  warnings.warn(\"Features %s are constant.\" % constant_features_idx, UserWarning)\n"
     ]
    },
    {
     "name": "stdout",
     "output_type": "stream",
     "text": [
      "for accuracy: 0.9533329557682505 , number of variables selected: 42 and 0.23\n"
     ]
    },
    {
     "name": "stderr",
     "output_type": "stream",
     "text": [
      "/home/tr4shhh/venv/lib/python3.11/site-packages/sklearn/feature_selection/_univariate_selection.py:112: UserWarning: Features [8 9] are constant.\n",
      "  warnings.warn(\"Features %s are constant.\" % constant_features_idx, UserWarning)\n"
     ]
    },
    {
     "name": "stdout",
     "output_type": "stream",
     "text": [
      "for accuracy: 0.9537293991051707 , number of variables selected: 45 and 0.25\n"
     ]
    },
    {
     "name": "stderr",
     "output_type": "stream",
     "text": [
      "/home/tr4shhh/venv/lib/python3.11/site-packages/sklearn/feature_selection/_univariate_selection.py:112: UserWarning: Features [8 9] are constant.\n",
      "  warnings.warn(\"Features %s are constant.\" % constant_features_idx, UserWarning)\n"
     ]
    },
    {
     "name": "stdout",
     "output_type": "stream",
     "text": [
      "for accuracy: 0.9545222857790111 , number of variables selected: 49 and 0.27\n"
     ]
    },
    {
     "name": "stderr",
     "output_type": "stream",
     "text": [
      "/home/tr4shhh/venv/lib/python3.11/site-packages/sklearn/feature_selection/_univariate_selection.py:112: UserWarning: Features [8 9] are constant.\n",
      "  warnings.warn(\"Features %s are constant.\" % constant_features_idx, UserWarning)\n"
     ]
    },
    {
     "name": "stdout",
     "output_type": "stream",
     "text": [
      "for accuracy: 0.9565045024636122 , number of variables selected: 53 and 0.29\n"
     ]
    },
    {
     "name": "stderr",
     "output_type": "stream",
     "text": [
      "/home/tr4shhh/venv/lib/python3.11/site-packages/sklearn/feature_selection/_univariate_selection.py:112: UserWarning: Features [8 9] are constant.\n",
      "  warnings.warn(\"Features %s are constant.\" % constant_features_idx, UserWarning)\n"
     ]
    },
    {
     "name": "stdout",
     "output_type": "stream",
     "text": [
      "for accuracy: 0.9609786486945687 , number of variables selected: 56 and 0.31\n"
     ]
    },
    {
     "name": "stderr",
     "output_type": "stream",
     "text": [
      "/home/tr4shhh/venv/lib/python3.11/site-packages/sklearn/feature_selection/_univariate_selection.py:112: UserWarning: Features [8 9] are constant.\n",
      "  warnings.warn(\"Features %s are constant.\" % constant_features_idx, UserWarning)\n"
     ]
    },
    {
     "name": "stdout",
     "output_type": "stream",
     "text": [
      "for accuracy: 0.9614317267939061 , number of variables selected: 60 and 0.33\n"
     ]
    },
    {
     "name": "stderr",
     "output_type": "stream",
     "text": [
      "/home/tr4shhh/venv/lib/python3.11/site-packages/sklearn/feature_selection/_univariate_selection.py:112: UserWarning: Features [8 9] are constant.\n",
      "  warnings.warn(\"Features %s are constant.\" % constant_features_idx, UserWarning)\n"
     ]
    },
    {
     "name": "stdout",
     "output_type": "stream",
     "text": [
      "for accuracy: 0.9630175001415869 , number of variables selected: 64 and 0.35\n"
     ]
    },
    {
     "name": "stderr",
     "output_type": "stream",
     "text": [
      "/home/tr4shhh/venv/lib/python3.11/site-packages/sklearn/feature_selection/_univariate_selection.py:112: UserWarning: Features [8 9] are constant.\n",
      "  warnings.warn(\"Features %s are constant.\" % constant_features_idx, UserWarning)\n"
     ]
    },
    {
     "name": "stdout",
     "output_type": "stream",
     "text": [
      "for accuracy: 0.9632440391912556 , number of variables selected: 68 and 0.37\n"
     ]
    },
    {
     "name": "stderr",
     "output_type": "stream",
     "text": [
      "/home/tr4shhh/venv/lib/python3.11/site-packages/sklearn/feature_selection/_univariate_selection.py:112: UserWarning: Features [8 9] are constant.\n",
      "  warnings.warn(\"Features %s are constant.\" % constant_features_idx, UserWarning)\n"
     ]
    },
    {
     "name": "stdout",
     "output_type": "stream",
     "text": [
      "for accuracy: 0.9636404825281758 , number of variables selected: 71 and 0.39\n"
     ]
    },
    {
     "name": "stderr",
     "output_type": "stream",
     "text": [
      "/home/tr4shhh/venv/lib/python3.11/site-packages/sklearn/feature_selection/_univariate_selection.py:112: UserWarning: Features [8 9] are constant.\n",
      "  warnings.warn(\"Features %s are constant.\" % constant_features_idx, UserWarning)\n"
     ]
    },
    {
     "name": "stdout",
     "output_type": "stream",
     "text": [
      "for accuracy: 0.9626210568046667 , number of variables selected: 75 and 0.41\n"
     ]
    },
    {
     "name": "stderr",
     "output_type": "stream",
     "text": [
      "/home/tr4shhh/venv/lib/python3.11/site-packages/sklearn/feature_selection/_univariate_selection.py:112: UserWarning: Features [8 9] are constant.\n",
      "  warnings.warn(\"Features %s are constant.\" % constant_features_idx, UserWarning)\n"
     ]
    },
    {
     "name": "stdout",
     "output_type": "stream",
     "text": [
      "for accuracy: 0.9638103868154273 , number of variables selected: 79 and 0.43\n"
     ]
    },
    {
     "name": "stderr",
     "output_type": "stream",
     "text": [
      "/home/tr4shhh/venv/lib/python3.11/site-packages/sklearn/feature_selection/_univariate_selection.py:112: UserWarning: Features [8 9] are constant.\n",
      "  warnings.warn(\"Features %s are constant.\" % constant_features_idx, UserWarning)\n"
     ]
    },
    {
     "name": "stdout",
     "output_type": "stream",
     "text": [
      "for accuracy: 0.9653395254006909 , number of variables selected: 82 and 0.45\n"
     ]
    },
    {
     "name": "stderr",
     "output_type": "stream",
     "text": [
      "/home/tr4shhh/venv/lib/python3.11/site-packages/sklearn/feature_selection/_univariate_selection.py:112: UserWarning: Features [8 9] are constant.\n",
      "  warnings.warn(\"Features %s are constant.\" % constant_features_idx, UserWarning)\n"
     ]
    },
    {
     "name": "stdout",
     "output_type": "stream",
     "text": [
      "for accuracy: 0.9648864473013535 , number of variables selected: 86 and 0.47\n"
     ]
    },
    {
     "name": "stderr",
     "output_type": "stream",
     "text": [
      "/home/tr4shhh/venv/lib/python3.11/site-packages/sklearn/feature_selection/_univariate_selection.py:112: UserWarning: Features [8 9] are constant.\n",
      "  warnings.warn(\"Features %s are constant.\" % constant_features_idx, UserWarning)\n"
     ]
    },
    {
     "name": "stdout",
     "output_type": "stream",
     "text": [
      "for accuracy: 0.9673783768477091 , number of variables selected: 90 and 0.49\n"
     ]
    },
    {
     "name": "stderr",
     "output_type": "stream",
     "text": [
      "/home/tr4shhh/venv/lib/python3.11/site-packages/sklearn/feature_selection/_univariate_selection.py:112: UserWarning: Features [8 9] are constant.\n",
      "  warnings.warn(\"Features %s are constant.\" % constant_features_idx, UserWarning)\n"
     ]
    },
    {
     "name": "stdout",
     "output_type": "stream",
     "text": [
      "for accuracy: 0.9663589511242 , number of variables selected: 93 and 0.52\n"
     ]
    },
    {
     "name": "stderr",
     "output_type": "stream",
     "text": [
      "/home/tr4shhh/venv/lib/python3.11/site-packages/sklearn/feature_selection/_univariate_selection.py:112: UserWarning: Features [8 9] are constant.\n",
      "  warnings.warn(\"Features %s are constant.\" % constant_features_idx, UserWarning)\n"
     ]
    },
    {
     "name": "stdout",
     "output_type": "stream",
     "text": [
      "for accuracy: 0.9675482811349606 , number of variables selected: 97 and 0.54\n"
     ]
    },
    {
     "name": "stderr",
     "output_type": "stream",
     "text": [
      "/home/tr4shhh/venv/lib/python3.11/site-packages/sklearn/feature_selection/_univariate_selection.py:112: UserWarning: Features [8 9] are constant.\n",
      "  warnings.warn(\"Features %s are constant.\" % constant_features_idx, UserWarning)\n"
     ]
    },
    {
     "name": "stdout",
     "output_type": "stream",
     "text": [
      "for accuracy: 0.9660757773121141 , number of variables selected: 101 and 0.56\n"
     ]
    },
    {
     "name": "stderr",
     "output_type": "stream",
     "text": [
      "/home/tr4shhh/venv/lib/python3.11/site-packages/sklearn/feature_selection/_univariate_selection.py:112: UserWarning: Features [8 9] are constant.\n",
      "  warnings.warn(\"Features %s are constant.\" % constant_features_idx, UserWarning)\n"
     ]
    },
    {
     "name": "stdout",
     "output_type": "stream",
     "text": [
      "for accuracy: 0.9662456815993656 , number of variables selected: 104 and 0.58\n"
     ]
    },
    {
     "name": "stderr",
     "output_type": "stream",
     "text": [
      "/home/tr4shhh/venv/lib/python3.11/site-packages/sklearn/feature_selection/_univariate_selection.py:112: UserWarning: Features [8 9] are constant.\n",
      "  warnings.warn(\"Features %s are constant.\" % constant_features_idx, UserWarning)\n"
     ]
    },
    {
     "name": "stdout",
     "output_type": "stream",
     "text": [
      "for accuracy: 0.9679447244718808 , number of variables selected: 108 and 0.6\n"
     ]
    },
    {
     "name": "stderr",
     "output_type": "stream",
     "text": [
      "/home/tr4shhh/venv/lib/python3.11/site-packages/sklearn/feature_selection/_univariate_selection.py:112: UserWarning: Features [8 9] are constant.\n",
      "  warnings.warn(\"Features %s are constant.\" % constant_features_idx, UserWarning)\n"
     ]
    },
    {
     "name": "stdout",
     "output_type": "stream",
     "text": [
      "for accuracy: 0.9675482811349606 , number of variables selected: 112 and 0.62\n"
     ]
    },
    {
     "name": "stderr",
     "output_type": "stream",
     "text": [
      "/home/tr4shhh/venv/lib/python3.11/site-packages/sklearn/feature_selection/_univariate_selection.py:112: UserWarning: Features [8 9] are constant.\n",
      "  warnings.warn(\"Features %s are constant.\" % constant_features_idx, UserWarning)\n"
     ]
    },
    {
     "name": "stdout",
     "output_type": "stream",
     "text": [
      "for accuracy: 0.9682845330463838 , number of variables selected: 115 and 0.64\n"
     ]
    },
    {
     "name": "stderr",
     "output_type": "stream",
     "text": [
      "/home/tr4shhh/venv/lib/python3.11/site-packages/sklearn/feature_selection/_univariate_selection.py:112: UserWarning: Features [8 9] are constant.\n",
      "  warnings.warn(\"Features %s are constant.\" % constant_features_idx, UserWarning)\n"
     ]
    },
    {
     "name": "stdout",
     "output_type": "stream",
     "text": [
      "for accuracy: 0.9698703063940647 , number of variables selected: 119 and 0.66\n"
     ]
    },
    {
     "name": "stderr",
     "output_type": "stream",
     "text": [
      "/home/tr4shhh/venv/lib/python3.11/site-packages/sklearn/feature_selection/_univariate_selection.py:112: UserWarning: Features [8 9] are constant.\n",
      "  warnings.warn(\"Features %s are constant.\" % constant_features_idx, UserWarning)\n"
     ]
    },
    {
     "name": "stdout",
     "output_type": "stream",
     "text": [
      "for accuracy: 0.9720224273659172 , number of variables selected: 123 and 0.68\n"
     ]
    },
    {
     "name": "stderr",
     "output_type": "stream",
     "text": [
      "/home/tr4shhh/venv/lib/python3.11/site-packages/sklearn/feature_selection/_univariate_selection.py:112: UserWarning: Features [8 9] are constant.\n",
      "  warnings.warn(\"Features %s are constant.\" % constant_features_idx, UserWarning)\n"
     ]
    },
    {
     "name": "stdout",
     "output_type": "stream",
     "text": [
      "for accuracy: 0.973608200713598 , number of variables selected: 126 and 0.7\n"
     ]
    },
    {
     "name": "stderr",
     "output_type": "stream",
     "text": [
      "/home/tr4shhh/venv/lib/python3.11/site-packages/sklearn/feature_selection/_univariate_selection.py:112: UserWarning: Features [8 9] are constant.\n",
      "  warnings.warn(\"Features %s are constant.\" % constant_features_idx, UserWarning)\n"
     ]
    },
    {
     "name": "stdout",
     "output_type": "stream",
     "text": [
      "for accuracy: 0.9717958883162485 , number of variables selected: 130 and 0.72\n"
     ]
    },
    {
     "name": "stderr",
     "output_type": "stream",
     "text": [
      "/home/tr4shhh/venv/lib/python3.11/site-packages/sklearn/feature_selection/_univariate_selection.py:112: UserWarning: Features [8 9] are constant.\n",
      "  warnings.warn(\"Features %s are constant.\" % constant_features_idx, UserWarning)\n"
     ]
    },
    {
     "name": "stdout",
     "output_type": "stream",
     "text": [
      "for accuracy: 0.9734382964263465 , number of variables selected: 134 and 0.74\n"
     ]
    },
    {
     "name": "stderr",
     "output_type": "stream",
     "text": [
      "/home/tr4shhh/venv/lib/python3.11/site-packages/sklearn/feature_selection/_univariate_selection.py:112: UserWarning: Features [8 9] are constant.\n",
      "  warnings.warn(\"Features %s are constant.\" % constant_features_idx, UserWarning)\n"
     ]
    },
    {
     "name": "stdout",
     "output_type": "stream",
     "text": [
      "for accuracy: 0.9740046440505182 , number of variables selected: 137 and 0.76\n"
     ]
    },
    {
     "name": "stderr",
     "output_type": "stream",
     "text": [
      "/home/tr4shhh/venv/lib/python3.11/site-packages/sklearn/feature_selection/_univariate_selection.py:112: UserWarning: Features [8 9] are constant.\n",
      "  warnings.warn(\"Features %s are constant.\" % constant_features_idx, UserWarning)\n"
     ]
    },
    {
     "name": "stdout",
     "output_type": "stream",
     "text": [
      "for accuracy: 0.9753638783485303 , number of variables selected: 141 and 0.78\n"
     ]
    },
    {
     "name": "stderr",
     "output_type": "stream",
     "text": [
      "/home/tr4shhh/venv/lib/python3.11/site-packages/sklearn/feature_selection/_univariate_selection.py:112: UserWarning: Features [8 9] are constant.\n",
      "  warnings.warn(\"Features %s are constant.\" % constant_features_idx, UserWarning)\n"
     ]
    },
    {
     "name": "stdout",
     "output_type": "stream",
     "text": [
      "for accuracy: 0.975590417398199 , number of variables selected: 145 and 0.8\n"
     ]
    },
    {
     "name": "stderr",
     "output_type": "stream",
     "text": [
      "/home/tr4shhh/venv/lib/python3.11/site-packages/sklearn/feature_selection/_univariate_selection.py:112: UserWarning: Features [8 9] are constant.\n",
      "  warnings.warn(\"Features %s are constant.\" % constant_features_idx, UserWarning)\n"
     ]
    },
    {
     "name": "stdout",
     "output_type": "stream",
     "text": [
      "for accuracy: 0.973608200713598 , number of variables selected: 148 and 0.82\n"
     ]
    },
    {
     "name": "stderr",
     "output_type": "stream",
     "text": [
      "/home/tr4shhh/venv/lib/python3.11/site-packages/sklearn/feature_selection/_univariate_selection.py:112: UserWarning: Features [8 9] are constant.\n",
      "  warnings.warn(\"Features %s are constant.\" % constant_features_idx, UserWarning)\n"
     ]
    },
    {
     "name": "stdout",
     "output_type": "stream",
     "text": [
      "for accuracy: 0.9738913745256839 , number of variables selected: 152 and 0.84\n"
     ]
    },
    {
     "name": "stderr",
     "output_type": "stream",
     "text": [
      "/home/tr4shhh/venv/lib/python3.11/site-packages/sklearn/feature_selection/_univariate_selection.py:112: UserWarning: Features [8 9] are constant.\n",
      "  warnings.warn(\"Features %s are constant.\" % constant_features_idx, UserWarning)\n"
     ]
    },
    {
     "name": "stdout",
     "output_type": "stream",
     "text": [
      "for accuracy: 0.974910800249193 , number of variables selected: 156 and 0.86\n"
     ]
    },
    {
     "name": "stderr",
     "output_type": "stream",
     "text": [
      "/home/tr4shhh/venv/lib/python3.11/site-packages/sklearn/feature_selection/_univariate_selection.py:112: UserWarning: Features [8 9] are constant.\n",
      "  warnings.warn(\"Features %s are constant.\" % constant_features_idx, UserWarning)\n"
     ]
    },
    {
     "name": "stdout",
     "output_type": "stream",
     "text": [
      "for accuracy: 0.9747408959619415 , number of variables selected: 159 and 0.88\n"
     ]
    },
    {
     "name": "stderr",
     "output_type": "stream",
     "text": [
      "/home/tr4shhh/venv/lib/python3.11/site-packages/sklearn/feature_selection/_univariate_selection.py:112: UserWarning: Features [8 9] are constant.\n",
      "  warnings.warn(\"Features %s are constant.\" % constant_features_idx, UserWarning)\n"
     ]
    },
    {
     "name": "stdout",
     "output_type": "stream",
     "text": [
      "for accuracy: 0.9743444526250212 , number of variables selected: 163 and 0.9\n"
     ]
    },
    {
     "name": "stderr",
     "output_type": "stream",
     "text": [
      "/home/tr4shhh/venv/lib/python3.11/site-packages/sklearn/feature_selection/_univariate_selection.py:112: UserWarning: Features [8 9] are constant.\n",
      "  warnings.warn(\"Features %s are constant.\" % constant_features_idx, UserWarning)\n"
     ]
    },
    {
     "name": "stdout",
     "output_type": "stream",
     "text": [
      "for accuracy: 0.9728719488021748 , number of variables selected: 167 and 0.92\n"
     ]
    },
    {
     "name": "stderr",
     "output_type": "stream",
     "text": [
      "/home/tr4shhh/venv/lib/python3.11/site-packages/sklearn/feature_selection/_univariate_selection.py:112: UserWarning: Features [8 9] are constant.\n",
      "  warnings.warn(\"Features %s are constant.\" % constant_features_idx, UserWarning)\n"
     ]
    },
    {
     "name": "stdout",
     "output_type": "stream",
     "text": [
      "for accuracy: 0.9741745483377697 , number of variables selected: 170 and 0.94\n"
     ]
    },
    {
     "name": "stderr",
     "output_type": "stream",
     "text": [
      "/home/tr4shhh/venv/lib/python3.11/site-packages/sklearn/feature_selection/_univariate_selection.py:112: UserWarning: Features [8 9] are constant.\n",
      "  warnings.warn(\"Features %s are constant.\" % constant_features_idx, UserWarning)\n"
     ]
    },
    {
     "name": "stdout",
     "output_type": "stream",
     "text": [
      "for accuracy: 0.9762700345472051 , number of variables selected: 174 and 0.96\n"
     ]
    },
    {
     "name": "stderr",
     "output_type": "stream",
     "text": [
      "/home/tr4shhh/venv/lib/python3.11/site-packages/sklearn/feature_selection/_univariate_selection.py:112: UserWarning: Features [8 9] are constant.\n",
      "  warnings.warn(\"Features %s are constant.\" % constant_features_idx, UserWarning)\n"
     ]
    },
    {
     "name": "stdout",
     "output_type": "stream",
     "text": [
      "for accuracy: 0.9768930169337939 , number of variables selected: 178 and 0.98\n"
     ]
    },
    {
     "name": "stderr",
     "output_type": "stream",
     "text": [
      "/home/tr4shhh/venv/lib/python3.11/site-packages/sklearn/feature_selection/_univariate_selection.py:112: UserWarning: Features [8 9] are constant.\n",
      "  warnings.warn(\"Features %s are constant.\" % constant_features_idx, UserWarning)\n"
     ]
    },
    {
     "name": "stdout",
     "output_type": "stream",
     "text": [
      "for accuracy: 0.9789318683808121 , number of variables selected: 182 and 1.0\n",
      "The best k for selection is 1.0.\n",
      "The best accuracy we get is 0.9789.\n"
     ]
    }
   ],
   "source": [
    "# Ignore specific data conversion warnings\n",
    "warnings.filterwarnings(\"ignore\", category=DataConversionWarning)\n",
    "warnings.filterwarnings(\"ignore\", category=RuntimeWarning)\n",
    "\n",
    "# Initialize empty list to store accuracy values\n",
    "accs = []\n",
    "\n",
    "# Define a list of percentages for feature selection\n",
    "percents = np.linspace(0.01,1,50)\n",
    "\n",
    "# Loop through each percentage\n",
    "for p in percents:\n",
    "    # Create a SelectKBest model using ANOVA F-statistic for feature selection\n",
    "    selection_model = SelectKBest(f_classif, k=int(len(X_train.columns) * p))\n",
    "    \n",
    "    # Fit the selection model to the training data\n",
    "    selection_model.fit(X_train, y_train)\n",
    "\n",
    "    # Get the indices of selected features\n",
    "    ix = selection_model.get_support()\n",
    "\n",
    "    # Transform the training set to include only selected features\n",
    "    train_sel = pd.DataFrame(selection_model.transform(X_train), columns=X_train.columns.values[ix])\n",
    "\n",
    "    # Save the selection model\n",
    "    dump(selection_model, open(f\"../models/selectkbest/selection_model{round(p,2)}.pk\", \"wb\"))\n",
    "\n",
    "    # Define a decision tree classifier\n",
    "    model = XGBClassifier(random_state=42)\n",
    "\n",
    "    # Train the decision tree model on the selected features\n",
    "    model.fit(train_sel, y_train)\n",
    "\n",
    "    # Make predictions on the training set\n",
    "    y_pred = model.predict(train_sel)\n",
    "\n",
    "    # Calculate and store accuracy\n",
    "    acc = accuracy_score(y_train, y_pred)\n",
    "    accs.append(acc)\n",
    "    print(f'for accuracy: {acc} , number of variables selected: {int(len(X_train.columns) * p)} and {round(p,2)}')\n",
    "\n",
    "# Find the index of the maximum accuracy\n",
    "best_acc = accs.index(max(accs))\n",
    "\n",
    "# Print the results\n",
    "print(f'The best k for selection is {percents[best_acc]}.')\n",
    "print(f'The best accuracy we get is {round(accs[best_acc], 4)}.')"
   ]
  },
  {
   "cell_type": "markdown",
   "metadata": {},
   "source": [
    "**NOTE: try to convert this print into a graph**"
   ]
  },
  {
   "cell_type": "markdown",
   "metadata": {},
   "source": [
    "Applying optimised selectkbest"
   ]
  },
  {
   "cell_type": "code",
   "execution_count": 26,
   "metadata": {},
   "outputs": [
    {
     "name": "stdout",
     "output_type": "stream",
     "text": [
      "<class 'pandas.core.frame.DataFrame'>\n",
      "Index: 17657 entries, 10053 to 17520\n",
      "Columns: 182 entries, CCAA to P87_23a_nuevo\n",
      "dtypes: float64(58), int64(124)\n",
      "memory usage: 24.7 MB\n"
     ]
    }
   ],
   "source": [
    "X_train.info()"
   ]
  },
  {
   "cell_type": "code",
   "execution_count": 27,
   "metadata": {},
   "outputs": [
    {
     "name": "stdout",
     "output_type": "stream",
     "text": [
      "The accuracy score for Train is 0.9298295293651243.\n",
      "The accuracy score for Test is 0.8840317100792752.\n",
      "The accuracy difference between the models is 0.04579781928584914.\n"
     ]
    }
   ],
   "source": [
    "import pandas as pd\n",
    "\n",
    "# Load the pre-trained feature selection model\n",
    "selection_model = pickle.load(open(\"../models/selectkbest/selection_model0.11.pk\", \"rb\"))\n",
    "ix = selection_model.get_support()\n",
    "\n",
    "# Transform the training and training set to include only selected features\n",
    "X_train_sel = pd.DataFrame(selection_model.transform(X_train), columns=X_train.columns.values[ix])\n",
    "X_test_sel = pd.DataFrame(selection_model.transform(X_test), columns=X_test.columns.values[ix])\n",
    "\n",
    "# Initialize a decision tree classifier and fit it\n",
    "model = XGBClassifier(random_state=42)\n",
    "model.fit(X_train_sel, y_train)\n",
    "\n",
    "# Make predictions on the training set and calculate the accuracy\n",
    "y_pred = model.predict(X_train_sel)\n",
    "train_score = accuracy_score(y_train, y_pred)\n",
    "print(f'The accuracy score for Train is {train_score}.')\n",
    "\n",
    "# Make predictions on the testing set and calculate the accuracy\n",
    "y_pred = model.predict(X_test_sel)\n",
    "test_score = accuracy_score(y_test, y_pred)\n",
    "print(f'The accuracy score for Test is {test_score}.')\n",
    "\n",
    "# Calculate and print the difference in accuracy between the training and testing sets\n",
    "difference = train_score - test_score\n",
    "print(f'The accuracy difference between the models is {difference}.')"
   ]
  },
  {
   "cell_type": "code",
   "execution_count": 28,
   "metadata": {},
   "outputs": [],
   "source": [
    "X_train_sel.to_csv('../data/processed/X_train_sel.csv', index=False)"
   ]
  },
  {
   "cell_type": "code",
   "execution_count": 91,
   "metadata": {},
   "outputs": [
    {
     "data": {
      "text/plain": [
       "Index(['G21;Estado de salud percibido en los últimos 12 meses',\n",
       "       'G24a;Estado de salud bucodental',\n",
       "       'G25a_5;Ha padecido alguna vez: Varices en las piernas',\n",
       "       'G25a_6;Ha padecido alguna vez: Artrosis (excluyendo artritis)',\n",
       "       'G25a_7;Ha padecido alguna vez: Dolor de espalda crónico (cervical)',\n",
       "       'G25a_8;Ha padecido alguna vez: Dolor de espalda crónico (lumbar)',\n",
       "       'G25a_14;Ha padecido alguna vez: Incontinencia urinaria o problemas de control de la orina',\n",
       "       'G25a_18;Ha padecido alguna vez: Estreñimiento crónico',\n",
       "       'G25a_24;Ha padecido alguna vez: Migraña o dolor de cabeza frecuente',\n",
       "       'G25a_25;Ha padecido alguna vez: Hemorroides',\n",
       "       'G25a_27;Ha padecido alguna vez: Osteoporosis',\n",
       "       'K37;Dificultad para caminar 500 metros sin ayuda',\n",
       "       'K38;Dificultad para subir o bajar 12 escalones',\n",
       "       'K38a;Dificultad para concentrarse',\n",
       "       'L45;Grado de dolor padecido durante las últimas 4 semanas',\n",
       "       'N48;Tiempo desde la última consulta al médico general o de familia',\n",
       "       'N58_2;Visita durante los últimos 12 meses a: Psicólogo, psicoterapeuta o psiquiatra',\n",
       "       'Q100;¿Alguna vez le han hecho una mamografía?',\n",
       "       'P87_2a_nuevo;P87_2a_nuevo', 'P87_13a_nuevo;P87_13a_nuevo'],\n",
       "      dtype='object')"
      ]
     },
     "execution_count": 91,
     "metadata": {},
     "output_type": "execute_result"
    }
   ],
   "source": [
    "import json\n",
    "\n",
    "def cambiar_nombres_desde_json(dataframe, ruta_json):\n",
    "    # Compruebo que puedo cargar el JSON\n",
    "    with open(ruta_json, 'r') as file:\n",
    "        nombres_nuevos = json.load(file)\n",
    "\n",
    "    df_con_nombres = dataframe.copy()  # Crear una copia del DataFrame para evitar modificar el original\n",
    "    \n",
    "    for columna in dataframe.columns:\n",
    "        nuevo_nombre = nombres_nuevos.get(columna, {}).get('Descripción', columna)\n",
    "        df_con_nombres.rename(columns={columna:f'{columna};{nuevo_nombre}' }, inplace=True)\n",
    "\n",
    "    return df_con_nombres\n",
    "\n",
    "cambiar_nombres_desde_json(X_train_sel, '../data/json_files/var_dict.json').columns"
   ]
  },
  {
   "cell_type": "code",
   "execution_count": 92,
   "metadata": {},
   "outputs": [
    {
     "data": {
      "image/png": "[encoded data removed]",
      "text/plain": [
       "<Figure size 1000x1000 with 1 Axes>"
      ]
     },
     "metadata": {},
     "output_type": "display_data"
    }
   ],
   "source": [
    "import matplotlib.pyplot as plt\n",
    "from xgboost import plot_importance\n",
    "\n",
    "# Visualizar la importancia de las características\n",
    "\n",
    "# plt.figure(figsize=(80,80))\n",
    "\n",
    "fig, ax = plt.subplots(figsize=(10, 10))\n",
    "plot_importance(model, ax=ax)\n",
    "\n",
    "\n",
    "# plot_importance(model_x, height=10)\n",
    "plt.show()\n",
    "# plt.tight_layout()"
   ]
  },
  {
   "cell_type": "markdown",
   "metadata": {},
   "source": [
    "## Part 2 - XGB classifier optimisation"
   ]
  },
  {
   "cell_type": "markdown",
   "metadata": {},
   "source": [
    "grid param optimised with chat gpt"
   ]
  },
  {
   "cell_type": "code",
   "execution_count": 111,
   "metadata": {},
   "outputs": [],
   "source": [
    "from scipy.stats import randint\n",
    "grid_param = {\n",
    "    'n_estimators': randint(50, 200),\n",
    "    'learning_rate': [0.01, 0.05, 0.1, 0.2, 0.3],\n",
    "    'max_depth': randint(3, 10),\n",
    "    'subsample': [0.8, 0.9, 1.0],\n",
    "    'colsample_bytree': [0.8, 0.9, 1.0],\n",
    "    'min_child_weight': [1, 2, 3, 4]\n",
    "}"
   ]
  },
  {
   "cell_type": "code",
   "execution_count": 112,
   "metadata": {},
   "outputs": [],
   "source": [
    "rand_search=RandomizedSearchCV(model, grid_param, scoring='accuracy', refit=True,n_iter = 100, cv = 5, random_state = 42, verbose=2)"
   ]
  },
  {
   "cell_type": "code",
   "execution_count": 113,
   "metadata": {},
   "outputs": [
    {
     "name": "stdout",
     "output_type": "stream",
     "text": [
      "Fitting 5 folds for each of 100 candidates, totalling 500 fits\n",
      "[CV] END colsample_bytree=1.0, learning_rate=0.2, max_depth=7, min_child_weight=3, n_estimators=156, subsample=0.8; total time=   0.1s\n",
      "[CV] END colsample_bytree=1.0, learning_rate=0.2, max_depth=7, min_child_weight=3, n_estimators=156, subsample=0.8; total time=   0.1s\n",
      "[CV] END colsample_bytree=1.0, learning_rate=0.2, max_depth=7, min_child_weight=3, n_estimators=156, subsample=0.8; total time=   0.1s\n",
      "[CV] END colsample_bytree=1.0, learning_rate=0.2, max_depth=7, min_child_weight=3, n_estimators=156, subsample=0.8; total time=   0.3s\n",
      "[CV] END colsample_bytree=1.0, learning_rate=0.2, max_depth=7, min_child_weight=3, n_estimators=156, subsample=0.8; total time=   0.1s\n",
      "[CV] END colsample_bytree=0.8, learning_rate=0.05, max_depth=5, min_child_weight=3, n_estimators=124, subsample=1.0; total time=   0.1s\n",
      "[CV] END colsample_bytree=0.8, learning_rate=0.05, max_depth=5, min_child_weight=3, n_estimators=124, subsample=1.0; total time=   0.1s\n",
      "[CV] END colsample_bytree=0.8, learning_rate=0.05, max_depth=5, min_child_weight=3, n_estimators=124, subsample=1.0; total time=   0.1s\n",
      "[CV] END colsample_bytree=0.8, learning_rate=0.05, max_depth=5, min_child_weight=3, n_estimators=124, subsample=1.0; total time=   0.1s\n",
      "[CV] END colsample_bytree=0.8, learning_rate=0.05, max_depth=5, min_child_weight=3, n_estimators=124, subsample=1.0; total time=   0.2s\n",
      "[CV] END colsample_bytree=0.8, learning_rate=0.2, max_depth=5, min_child_weight=2, n_estimators=102, subsample=0.9; total time=   0.1s\n",
      "[CV] END colsample_bytree=0.8, learning_rate=0.2, max_depth=5, min_child_weight=2, n_estimators=102, subsample=0.9; total time=   0.1s\n",
      "[CV] END colsample_bytree=0.8, learning_rate=0.2, max_depth=5, min_child_weight=2, n_estimators=102, subsample=0.9; total time=   0.1s\n",
      "[CV] END colsample_bytree=0.8, learning_rate=0.2, max_depth=5, min_child_weight=2, n_estimators=102, subsample=0.9; total time=   0.1s\n",
      "[CV] END colsample_bytree=0.8, learning_rate=0.2, max_depth=5, min_child_weight=2, n_estimators=102, subsample=0.9; total time=   0.1s\n",
      "[CV] END colsample_bytree=0.9, learning_rate=0.05, max_depth=6, min_child_weight=1, n_estimators=107, subsample=0.9; total time=   0.1s\n",
      "[CV] END colsample_bytree=0.9, learning_rate=0.05, max_depth=6, min_child_weight=1, n_estimators=107, subsample=0.9; total time=   0.1s\n",
      "[CV] END colsample_bytree=0.9, learning_rate=0.05, max_depth=6, min_child_weight=1, n_estimators=107, subsample=0.9; total time=   0.1s\n",
      "[CV] END colsample_bytree=0.9, learning_rate=0.05, max_depth=6, min_child_weight=1, n_estimators=107, subsample=0.9; total time=   0.1s\n",
      "[CV] END colsample_bytree=0.9, learning_rate=0.05, max_depth=6, min_child_weight=1, n_estimators=107, subsample=0.9; total time=   0.1s\n",
      "[CV] END colsample_bytree=0.8, learning_rate=0.2, max_depth=3, min_child_weight=1, n_estimators=108, subsample=1.0; total time=   0.1s\n",
      "[CV] END colsample_bytree=0.8, learning_rate=0.2, max_depth=3, min_child_weight=1, n_estimators=108, subsample=1.0; total time=   0.1s\n",
      "[CV] END colsample_bytree=0.8, learning_rate=0.2, max_depth=3, min_child_weight=1, n_estimators=108, subsample=1.0; total time=   0.1s\n",
      "[CV] END colsample_bytree=0.8, learning_rate=0.2, max_depth=3, min_child_weight=1, n_estimators=108, subsample=1.0; total time=   0.1s\n",
      "[CV] END colsample_bytree=0.8, learning_rate=0.2, max_depth=3, min_child_weight=1, n_estimators=108, subsample=1.0; total time=   0.1s\n",
      "[CV] END colsample_bytree=0.9, learning_rate=0.2, max_depth=6, min_child_weight=4, n_estimators=64, subsample=0.9; total time=   0.1s\n",
      "[CV] END colsample_bytree=0.9, learning_rate=0.2, max_depth=6, min_child_weight=4, n_estimators=64, subsample=0.9; total time=   0.1s\n",
      "[CV] END colsample_bytree=0.9, learning_rate=0.2, max_depth=6, min_child_weight=4, n_estimators=64, subsample=0.9; total time=   0.1s\n",
      "[CV] END colsample_bytree=0.9, learning_rate=0.2, max_depth=6, min_child_weight=4, n_estimators=64, subsample=0.9; total time=   0.1s\n",
      "[CV] END colsample_bytree=0.9, learning_rate=0.2, max_depth=6, min_child_weight=4, n_estimators=64, subsample=0.9; total time=   0.1s\n",
      "[CV] END colsample_bytree=0.9, learning_rate=0.1, max_depth=6, min_child_weight=3, n_estimators=113, subsample=0.8; total time=   0.1s\n",
      "[CV] END colsample_bytree=0.9, learning_rate=0.1, max_depth=6, min_child_weight=3, n_estimators=113, subsample=0.8; total time=   0.1s\n",
      "[CV] END colsample_bytree=0.9, learning_rate=0.1, max_depth=6, min_child_weight=3, n_estimators=113, subsample=0.8; total time=   0.1s\n",
      "[CV] END colsample_bytree=0.9, learning_rate=0.1, max_depth=6, min_child_weight=3, n_estimators=113, subsample=0.8; total time=   0.1s\n",
      "[CV] END colsample_bytree=0.9, learning_rate=0.1, max_depth=6, min_child_weight=3, n_estimators=113, subsample=0.8; total time=   0.1s\n",
      "[CV] END colsample_bytree=1.0, learning_rate=0.3, max_depth=5, min_child_weight=3, n_estimators=70, subsample=0.8; total time=   0.1s\n",
      "[CV] END colsample_bytree=1.0, learning_rate=0.3, max_depth=5, min_child_weight=3, n_estimators=70, subsample=0.8; total time=   0.1s\n",
      "[CV] END colsample_bytree=1.0, learning_rate=0.3, max_depth=5, min_child_weight=3, n_estimators=70, subsample=0.8; total time=   0.1s\n",
      "[CV] END colsample_bytree=1.0, learning_rate=0.3, max_depth=5, min_child_weight=3, n_estimators=70, subsample=0.8; total time=   0.1s\n",
      "[CV] END colsample_bytree=1.0, learning_rate=0.3, max_depth=5, min_child_weight=3, n_estimators=70, subsample=0.8; total time=   0.1s\n",
      "[CV] END colsample_bytree=1.0, learning_rate=0.05, max_depth=6, min_child_weight=1, n_estimators=109, subsample=0.9; total time=   0.1s\n",
      "[CV] END colsample_bytree=1.0, learning_rate=0.05, max_depth=6, min_child_weight=1, n_estimators=109, subsample=0.9; total time=   0.1s\n",
      "[CV] END colsample_bytree=1.0, learning_rate=0.05, max_depth=6, min_child_weight=1, n_estimators=109, subsample=0.9; total time=   0.1s\n",
      "[CV] END colsample_bytree=1.0, learning_rate=0.05, max_depth=6, min_child_weight=1, n_estimators=109, subsample=0.9; total time=   0.1s\n",
      "[CV] END colsample_bytree=1.0, learning_rate=0.05, max_depth=6, min_child_weight=1, n_estimators=109, subsample=0.9; total time=   0.1s\n",
      "[CV] END colsample_bytree=0.9, learning_rate=0.05, max_depth=3, min_child_weight=2, n_estimators=102, subsample=0.9; total time=   0.1s\n",
      "[CV] END colsample_bytree=0.9, learning_rate=0.05, max_depth=3, min_child_weight=2, n_estimators=102, subsample=0.9; total time=   0.1s\n",
      "[CV] END colsample_bytree=0.9, learning_rate=0.05, max_depth=3, min_child_weight=2, n_estimators=102, subsample=0.9; total time=   0.1s\n",
      "[CV] END colsample_bytree=0.9, learning_rate=0.05, max_depth=3, min_child_weight=2, n_estimators=102, subsample=0.9; total time=   0.1s\n",
      "[CV] END colsample_bytree=0.9, learning_rate=0.05, max_depth=3, min_child_weight=2, n_estimators=102, subsample=0.9; total time=   0.1s\n",
      "[CV] END colsample_bytree=1.0, learning_rate=0.2, max_depth=9, min_child_weight=4, n_estimators=57, subsample=1.0; total time=   0.1s\n",
      "[CV] END colsample_bytree=1.0, learning_rate=0.2, max_depth=9, min_child_weight=4, n_estimators=57, subsample=1.0; total time=   0.1s\n",
      "[CV] END colsample_bytree=1.0, learning_rate=0.2, max_depth=9, min_child_weight=4, n_estimators=57, subsample=1.0; total time=   0.1s\n",
      "[CV] END colsample_bytree=1.0, learning_rate=0.2, max_depth=9, min_child_weight=4, n_estimators=57, subsample=1.0; total time=   0.1s\n",
      "[CV] END colsample_bytree=1.0, learning_rate=0.2, max_depth=9, min_child_weight=4, n_estimators=57, subsample=1.0; total time=   0.1s\n",
      "[CV] END colsample_bytree=1.0, learning_rate=0.01, max_depth=6, min_child_weight=2, n_estimators=153, subsample=0.9; total time=   0.1s\n",
      "[CV] END colsample_bytree=1.0, learning_rate=0.01, max_depth=6, min_child_weight=2, n_estimators=153, subsample=0.9; total time=   0.1s\n",
      "[CV] END colsample_bytree=1.0, learning_rate=0.01, max_depth=6, min_child_weight=2, n_estimators=153, subsample=0.9; total time=   0.1s\n",
      "[CV] END colsample_bytree=1.0, learning_rate=0.01, max_depth=6, min_child_weight=2, n_estimators=153, subsample=0.9; total time=   0.1s\n",
      "[CV] END colsample_bytree=1.0, learning_rate=0.01, max_depth=6, min_child_weight=2, n_estimators=153, subsample=0.9; total time=   0.1s\n",
      "[CV] END colsample_bytree=0.9, learning_rate=0.05, max_depth=6, min_child_weight=2, n_estimators=195, subsample=0.9; total time=   0.3s\n",
      "[CV] END colsample_bytree=0.9, learning_rate=0.05, max_depth=6, min_child_weight=2, n_estimators=195, subsample=0.9; total time=   0.2s\n",
      "[CV] END colsample_bytree=0.9, learning_rate=0.05, max_depth=6, min_child_weight=2, n_estimators=195, subsample=0.9; total time=   0.1s\n",
      "[CV] END colsample_bytree=0.9, learning_rate=0.05, max_depth=6, min_child_weight=2, n_estimators=195, subsample=0.9; total time=   0.1s\n",
      "[CV] END colsample_bytree=0.9, learning_rate=0.05, max_depth=6, min_child_weight=2, n_estimators=195, subsample=0.9; total time=   0.1s\n",
      "[CV] END colsample_bytree=0.9, learning_rate=0.05, max_depth=8, min_child_weight=4, n_estimators=63, subsample=1.0; total time=   0.1s\n",
      "[CV] END colsample_bytree=0.9, learning_rate=0.05, max_depth=8, min_child_weight=4, n_estimators=63, subsample=1.0; total time=   0.1s\n",
      "[CV] END colsample_bytree=0.9, learning_rate=0.05, max_depth=8, min_child_weight=4, n_estimators=63, subsample=1.0; total time=   0.1s\n",
      "[CV] END colsample_bytree=0.9, learning_rate=0.05, max_depth=8, min_child_weight=4, n_estimators=63, subsample=1.0; total time=   0.1s\n",
      "[CV] END colsample_bytree=0.9, learning_rate=0.05, max_depth=8, min_child_weight=4, n_estimators=63, subsample=1.0; total time=   0.1s\n",
      "[CV] END colsample_bytree=1.0, learning_rate=0.2, max_depth=3, min_child_weight=2, n_estimators=89, subsample=0.8; total time=   0.0s\n",
      "[CV] END colsample_bytree=1.0, learning_rate=0.2, max_depth=3, min_child_weight=2, n_estimators=89, subsample=0.8; total time=   0.1s\n",
      "[CV] END colsample_bytree=1.0, learning_rate=0.2, max_depth=3, min_child_weight=2, n_estimators=89, subsample=0.8; total time=   0.0s\n",
      "[CV] END colsample_bytree=1.0, learning_rate=0.2, max_depth=3, min_child_weight=2, n_estimators=89, subsample=0.8; total time=   0.1s\n",
      "[CV] END colsample_bytree=1.0, learning_rate=0.2, max_depth=3, min_child_weight=2, n_estimators=89, subsample=0.8; total time=   0.0s\n",
      "[CV] END colsample_bytree=0.8, learning_rate=0.05, max_depth=9, min_child_weight=1, n_estimators=73, subsample=0.9; total time=   0.1s\n",
      "[CV] END colsample_bytree=0.8, learning_rate=0.05, max_depth=9, min_child_weight=1, n_estimators=73, subsample=0.9; total time=   0.1s\n",
      "[CV] END colsample_bytree=0.8, learning_rate=0.05, max_depth=9, min_child_weight=1, n_estimators=73, subsample=0.9; total time=   0.1s\n",
      "[CV] END colsample_bytree=0.8, learning_rate=0.05, max_depth=9, min_child_weight=1, n_estimators=73, subsample=0.9; total time=   0.3s\n",
      "[CV] END colsample_bytree=0.8, learning_rate=0.05, max_depth=9, min_child_weight=1, n_estimators=73, subsample=0.9; total time=   0.1s\n",
      "[CV] END colsample_bytree=0.8, learning_rate=0.2, max_depth=6, min_child_weight=4, n_estimators=90, subsample=0.8; total time=   0.1s\n",
      "[CV] END colsample_bytree=0.8, learning_rate=0.2, max_depth=6, min_child_weight=4, n_estimators=90, subsample=0.8; total time=   0.2s\n",
      "[CV] END colsample_bytree=0.8, learning_rate=0.2, max_depth=6, min_child_weight=4, n_estimators=90, subsample=0.8; total time=   0.1s\n",
      "[CV] END colsample_bytree=0.8, learning_rate=0.2, max_depth=6, min_child_weight=4, n_estimators=90, subsample=0.8; total time=   0.1s\n",
      "[CV] END colsample_bytree=0.8, learning_rate=0.2, max_depth=6, min_child_weight=4, n_estimators=90, subsample=0.8; total time=   0.2s\n",
      "[CV] END colsample_bytree=1.0, learning_rate=0.3, max_depth=3, min_child_weight=1, n_estimators=120, subsample=0.8; total time=   0.1s\n",
      "[CV] END colsample_bytree=1.0, learning_rate=0.3, max_depth=3, min_child_weight=1, n_estimators=120, subsample=0.8; total time=   0.1s\n",
      "[CV] END colsample_bytree=1.0, learning_rate=0.3, max_depth=3, min_child_weight=1, n_estimators=120, subsample=0.8; total time=   0.1s\n",
      "[CV] END colsample_bytree=1.0, learning_rate=0.3, max_depth=3, min_child_weight=1, n_estimators=120, subsample=0.8; total time=   0.1s\n",
      "[CV] END colsample_bytree=1.0, learning_rate=0.3, max_depth=3, min_child_weight=1, n_estimators=120, subsample=0.8; total time=   0.1s\n",
      "[CV] END colsample_bytree=0.8, learning_rate=0.2, max_depth=9, min_child_weight=3, n_estimators=130, subsample=1.0; total time=   0.1s\n",
      "[CV] END colsample_bytree=0.8, learning_rate=0.2, max_depth=9, min_child_weight=3, n_estimators=130, subsample=1.0; total time=   0.3s\n",
      "[CV] END colsample_bytree=0.8, learning_rate=0.2, max_depth=9, min_child_weight=3, n_estimators=130, subsample=1.0; total time=   0.1s\n",
      "[CV] END colsample_bytree=0.8, learning_rate=0.2, max_depth=9, min_child_weight=3, n_estimators=130, subsample=1.0; total time=   0.4s\n",
      "[CV] END colsample_bytree=0.8, learning_rate=0.2, max_depth=9, min_child_weight=3, n_estimators=130, subsample=1.0; total time=   0.1s\n",
      "[CV] END colsample_bytree=1.0, learning_rate=0.01, max_depth=5, min_child_weight=1, n_estimators=90, subsample=1.0; total time=   0.1s\n",
      "[CV] END colsample_bytree=1.0, learning_rate=0.01, max_depth=5, min_child_weight=1, n_estimators=90, subsample=1.0; total time=   0.1s\n",
      "[CV] END colsample_bytree=1.0, learning_rate=0.01, max_depth=5, min_child_weight=1, n_estimators=90, subsample=1.0; total time=   0.1s\n",
      "[CV] END colsample_bytree=1.0, learning_rate=0.01, max_depth=5, min_child_weight=1, n_estimators=90, subsample=1.0; total time=   0.1s\n",
      "[CV] END colsample_bytree=1.0, learning_rate=0.01, max_depth=5, min_child_weight=1, n_estimators=90, subsample=1.0; total time=   0.2s\n",
      "[CV] END colsample_bytree=0.8, learning_rate=0.2, max_depth=4, min_child_weight=1, n_estimators=97, subsample=1.0; total time=   0.1s\n",
      "[CV] END colsample_bytree=0.8, learning_rate=0.2, max_depth=4, min_child_weight=1, n_estimators=97, subsample=1.0; total time=   0.1s\n",
      "[CV] END colsample_bytree=0.8, learning_rate=0.2, max_depth=4, min_child_weight=1, n_estimators=97, subsample=1.0; total time=   0.1s\n",
      "[CV] END colsample_bytree=0.8, learning_rate=0.2, max_depth=4, min_child_weight=1, n_estimators=97, subsample=1.0; total time=   0.1s\n",
      "[CV] END colsample_bytree=0.8, learning_rate=0.2, max_depth=4, min_child_weight=1, n_estimators=97, subsample=1.0; total time=   0.1s\n",
      "[CV] END colsample_bytree=1.0, learning_rate=0.3, max_depth=5, min_child_weight=4, n_estimators=153, subsample=0.9; total time=   0.1s\n",
      "[CV] END colsample_bytree=1.0, learning_rate=0.3, max_depth=5, min_child_weight=4, n_estimators=153, subsample=0.9; total time=   0.1s\n",
      "[CV] END colsample_bytree=1.0, learning_rate=0.3, max_depth=5, min_child_weight=4, n_estimators=153, subsample=0.9; total time=   0.1s\n",
      "[CV] END colsample_bytree=1.0, learning_rate=0.3, max_depth=5, min_child_weight=4, n_estimators=153, subsample=0.9; total time=   0.1s\n",
      "[CV] END colsample_bytree=1.0, learning_rate=0.3, max_depth=5, min_child_weight=4, n_estimators=153, subsample=0.9; total time=   0.1s\n",
      "[CV] END colsample_bytree=1.0, learning_rate=0.1, max_depth=3, min_child_weight=3, n_estimators=150, subsample=1.0; total time=   0.1s\n",
      "[CV] END colsample_bytree=1.0, learning_rate=0.1, max_depth=3, min_child_weight=3, n_estimators=150, subsample=1.0; total time=   0.1s\n",
      "[CV] END colsample_bytree=1.0, learning_rate=0.1, max_depth=3, min_child_weight=3, n_estimators=150, subsample=1.0; total time=   0.1s\n",
      "[CV] END colsample_bytree=1.0, learning_rate=0.1, max_depth=3, min_child_weight=3, n_estimators=150, subsample=1.0; total time=   0.1s\n",
      "[CV] END colsample_bytree=1.0, learning_rate=0.1, max_depth=3, min_child_weight=3, n_estimators=150, subsample=1.0; total time=   0.1s\n",
      "[CV] END colsample_bytree=0.9, learning_rate=0.1, max_depth=3, min_child_weight=1, n_estimators=191, subsample=1.0; total time=   0.1s\n",
      "[CV] END colsample_bytree=0.9, learning_rate=0.1, max_depth=3, min_child_weight=1, n_estimators=191, subsample=1.0; total time=   0.1s\n",
      "[CV] END colsample_bytree=0.9, learning_rate=0.1, max_depth=3, min_child_weight=1, n_estimators=191, subsample=1.0; total time=   0.1s\n",
      "[CV] END colsample_bytree=0.9, learning_rate=0.1, max_depth=3, min_child_weight=1, n_estimators=191, subsample=1.0; total time=   0.1s\n",
      "[CV] END colsample_bytree=0.9, learning_rate=0.1, max_depth=3, min_child_weight=1, n_estimators=191, subsample=1.0; total time=   0.1s\n",
      "[CV] END colsample_bytree=1.0, learning_rate=0.01, max_depth=9, min_child_weight=3, n_estimators=139, subsample=0.9; total time=   0.2s\n",
      "[CV] END colsample_bytree=1.0, learning_rate=0.01, max_depth=9, min_child_weight=3, n_estimators=139, subsample=0.9; total time=   0.2s\n",
      "[CV] END colsample_bytree=1.0, learning_rate=0.01, max_depth=9, min_child_weight=3, n_estimators=139, subsample=0.9; total time=   0.3s\n",
      "[CV] END colsample_bytree=1.0, learning_rate=0.01, max_depth=9, min_child_weight=3, n_estimators=139, subsample=0.9; total time=   0.2s\n",
      "[CV] END colsample_bytree=1.0, learning_rate=0.01, max_depth=9, min_child_weight=3, n_estimators=139, subsample=0.9; total time=   0.2s\n",
      "[CV] END colsample_bytree=0.8, learning_rate=0.1, max_depth=9, min_child_weight=4, n_estimators=101, subsample=0.8; total time=   0.1s\n",
      "[CV] END colsample_bytree=0.8, learning_rate=0.1, max_depth=9, min_child_weight=4, n_estimators=101, subsample=0.8; total time=   0.1s\n",
      "[CV] END colsample_bytree=0.8, learning_rate=0.1, max_depth=9, min_child_weight=4, n_estimators=101, subsample=0.8; total time=   0.1s\n",
      "[CV] END colsample_bytree=0.8, learning_rate=0.1, max_depth=9, min_child_weight=4, n_estimators=101, subsample=0.8; total time=   0.1s\n",
      "[CV] END colsample_bytree=0.8, learning_rate=0.1, max_depth=9, min_child_weight=4, n_estimators=101, subsample=0.8; total time=   0.1s\n",
      "[CV] END colsample_bytree=0.9, learning_rate=0.3, max_depth=9, min_child_weight=3, n_estimators=192, subsample=1.0; total time=   0.2s\n",
      "[CV] END colsample_bytree=0.9, learning_rate=0.3, max_depth=9, min_child_weight=3, n_estimators=192, subsample=1.0; total time=   0.2s\n",
      "[CV] END colsample_bytree=0.9, learning_rate=0.3, max_depth=9, min_child_weight=3, n_estimators=192, subsample=1.0; total time=   0.2s\n",
      "[CV] END colsample_bytree=0.9, learning_rate=0.3, max_depth=9, min_child_weight=3, n_estimators=192, subsample=1.0; total time=   0.2s\n",
      "[CV] END colsample_bytree=0.9, learning_rate=0.3, max_depth=9, min_child_weight=3, n_estimators=192, subsample=1.0; total time=   0.2s\n",
      "[CV] END colsample_bytree=0.8, learning_rate=0.2, max_depth=7, min_child_weight=4, n_estimators=120, subsample=1.0; total time=   0.1s\n",
      "[CV] END colsample_bytree=0.8, learning_rate=0.2, max_depth=7, min_child_weight=4, n_estimators=120, subsample=1.0; total time=   0.2s\n",
      "[CV] END colsample_bytree=0.8, learning_rate=0.2, max_depth=7, min_child_weight=4, n_estimators=120, subsample=1.0; total time=   0.1s\n",
      "[CV] END colsample_bytree=0.8, learning_rate=0.2, max_depth=7, min_child_weight=4, n_estimators=120, subsample=1.0; total time=   0.1s\n",
      "[CV] END colsample_bytree=0.8, learning_rate=0.2, max_depth=7, min_child_weight=4, n_estimators=120, subsample=1.0; total time=   0.1s\n",
      "[CV] END colsample_bytree=1.0, learning_rate=0.2, max_depth=4, min_child_weight=2, n_estimators=94, subsample=0.9; total time=   0.1s\n",
      "[CV] END colsample_bytree=1.0, learning_rate=0.2, max_depth=4, min_child_weight=2, n_estimators=94, subsample=0.9; total time=   0.1s\n",
      "[CV] END colsample_bytree=1.0, learning_rate=0.2, max_depth=4, min_child_weight=2, n_estimators=94, subsample=0.9; total time=   0.1s\n",
      "[CV] END colsample_bytree=1.0, learning_rate=0.2, max_depth=4, min_child_weight=2, n_estimators=94, subsample=0.9; total time=   0.1s\n",
      "[CV] END colsample_bytree=1.0, learning_rate=0.2, max_depth=4, min_child_weight=2, n_estimators=94, subsample=0.9; total time=   0.1s\n",
      "[CV] END colsample_bytree=0.8, learning_rate=0.3, max_depth=8, min_child_weight=4, n_estimators=77, subsample=0.9; total time=   0.1s\n",
      "[CV] END colsample_bytree=0.8, learning_rate=0.3, max_depth=8, min_child_weight=4, n_estimators=77, subsample=0.9; total time=   0.1s\n",
      "[CV] END colsample_bytree=0.8, learning_rate=0.3, max_depth=8, min_child_weight=4, n_estimators=77, subsample=0.9; total time=   0.1s\n",
      "[CV] END colsample_bytree=0.8, learning_rate=0.3, max_depth=8, min_child_weight=4, n_estimators=77, subsample=0.9; total time=   0.1s\n",
      "[CV] END colsample_bytree=0.8, learning_rate=0.3, max_depth=8, min_child_weight=4, n_estimators=77, subsample=0.9; total time=   0.1s\n",
      "[CV] END colsample_bytree=0.9, learning_rate=0.1, max_depth=4, min_child_weight=3, n_estimators=141, subsample=0.8; total time=   0.1s\n",
      "[CV] END colsample_bytree=0.9, learning_rate=0.1, max_depth=4, min_child_weight=3, n_estimators=141, subsample=0.8; total time=   0.1s\n",
      "[CV] END colsample_bytree=0.9, learning_rate=0.1, max_depth=4, min_child_weight=3, n_estimators=141, subsample=0.8; total time=   0.1s\n",
      "[CV] END colsample_bytree=0.9, learning_rate=0.1, max_depth=4, min_child_weight=3, n_estimators=141, subsample=0.8; total time=   0.1s\n",
      "[CV] END colsample_bytree=0.9, learning_rate=0.1, max_depth=4, min_child_weight=3, n_estimators=141, subsample=0.8; total time=   0.1s\n",
      "[CV] END colsample_bytree=1.0, learning_rate=0.01, max_depth=3, min_child_weight=1, n_estimators=76, subsample=0.9; total time=   0.0s\n",
      "[CV] END colsample_bytree=1.0, learning_rate=0.01, max_depth=3, min_child_weight=1, n_estimators=76, subsample=0.9; total time=   0.0s\n",
      "[CV] END colsample_bytree=1.0, learning_rate=0.01, max_depth=3, min_child_weight=1, n_estimators=76, subsample=0.9; total time=   0.1s\n",
      "[CV] END colsample_bytree=1.0, learning_rate=0.01, max_depth=3, min_child_weight=1, n_estimators=76, subsample=0.9; total time=   0.0s\n",
      "[CV] END colsample_bytree=1.0, learning_rate=0.01, max_depth=3, min_child_weight=1, n_estimators=76, subsample=0.9; total time=   0.1s\n",
      "[CV] END colsample_bytree=0.8, learning_rate=0.2, max_depth=7, min_child_weight=1, n_estimators=52, subsample=1.0; total time=   0.1s\n",
      "[CV] END colsample_bytree=0.8, learning_rate=0.2, max_depth=7, min_child_weight=1, n_estimators=52, subsample=1.0; total time=   0.1s\n",
      "[CV] END colsample_bytree=0.8, learning_rate=0.2, max_depth=7, min_child_weight=1, n_estimators=52, subsample=1.0; total time=   0.1s\n",
      "[CV] END colsample_bytree=0.8, learning_rate=0.2, max_depth=7, min_child_weight=1, n_estimators=52, subsample=1.0; total time=   0.1s\n",
      "[CV] END colsample_bytree=0.8, learning_rate=0.2, max_depth=7, min_child_weight=1, n_estimators=52, subsample=1.0; total time=   0.1s\n",
      "[CV] END colsample_bytree=0.9, learning_rate=0.1, max_depth=3, min_child_weight=2, n_estimators=100, subsample=0.9; total time=   0.1s\n",
      "[CV] END colsample_bytree=0.9, learning_rate=0.1, max_depth=3, min_child_weight=2, n_estimators=100, subsample=0.9; total time=   0.1s\n",
      "[CV] END colsample_bytree=0.9, learning_rate=0.1, max_depth=3, min_child_weight=2, n_estimators=100, subsample=0.9; total time=   0.1s\n",
      "[CV] END colsample_bytree=0.9, learning_rate=0.1, max_depth=3, min_child_weight=2, n_estimators=100, subsample=0.9; total time=   0.1s\n",
      "[CV] END colsample_bytree=0.9, learning_rate=0.1, max_depth=3, min_child_weight=2, n_estimators=100, subsample=0.9; total time=   0.1s\n",
      "[CV] END colsample_bytree=1.0, learning_rate=0.1, max_depth=8, min_child_weight=4, n_estimators=145, subsample=0.8; total time=   0.1s\n",
      "[CV] END colsample_bytree=1.0, learning_rate=0.1, max_depth=8, min_child_weight=4, n_estimators=145, subsample=0.8; total time=   0.1s\n",
      "[CV] END colsample_bytree=1.0, learning_rate=0.1, max_depth=8, min_child_weight=4, n_estimators=145, subsample=0.8; total time=   0.1s\n",
      "[CV] END colsample_bytree=1.0, learning_rate=0.1, max_depth=8, min_child_weight=4, n_estimators=145, subsample=0.8; total time=   0.2s\n",
      "[CV] END colsample_bytree=1.0, learning_rate=0.1, max_depth=8, min_child_weight=4, n_estimators=145, subsample=0.8; total time=   0.1s\n",
      "[CV] END colsample_bytree=0.8, learning_rate=0.01, max_depth=4, min_child_weight=4, n_estimators=61, subsample=0.9; total time=   0.0s\n",
      "[CV] END colsample_bytree=0.8, learning_rate=0.01, max_depth=4, min_child_weight=4, n_estimators=61, subsample=0.9; total time=   0.1s\n",
      "[CV] END colsample_bytree=0.8, learning_rate=0.01, max_depth=4, min_child_weight=4, n_estimators=61, subsample=0.9; total time=   0.0s\n",
      "[CV] END colsample_bytree=0.8, learning_rate=0.01, max_depth=4, min_child_weight=4, n_estimators=61, subsample=0.9; total time=   0.0s\n",
      "[CV] END colsample_bytree=0.8, learning_rate=0.01, max_depth=4, min_child_weight=4, n_estimators=61, subsample=0.9; total time=   0.0s\n",
      "[CV] END colsample_bytree=1.0, learning_rate=0.05, max_depth=5, min_child_weight=1, n_estimators=150, subsample=0.8; total time=   0.1s\n",
      "[CV] END colsample_bytree=1.0, learning_rate=0.05, max_depth=5, min_child_weight=1, n_estimators=150, subsample=0.8; total time=   0.1s\n",
      "[CV] END colsample_bytree=1.0, learning_rate=0.05, max_depth=5, min_child_weight=1, n_estimators=150, subsample=0.8; total time=   0.1s\n",
      "[CV] END colsample_bytree=1.0, learning_rate=0.05, max_depth=5, min_child_weight=1, n_estimators=150, subsample=0.8; total time=   0.1s\n",
      "[CV] END colsample_bytree=1.0, learning_rate=0.05, max_depth=5, min_child_weight=1, n_estimators=150, subsample=0.8; total time=   0.1s\n",
      "[CV] END colsample_bytree=0.8, learning_rate=0.1, max_depth=3, min_child_weight=2, n_estimators=179, subsample=0.9; total time=   0.1s\n",
      "[CV] END colsample_bytree=0.8, learning_rate=0.1, max_depth=3, min_child_weight=2, n_estimators=179, subsample=0.9; total time=   0.1s\n",
      "[CV] END colsample_bytree=0.8, learning_rate=0.1, max_depth=3, min_child_weight=2, n_estimators=179, subsample=0.9; total time=   0.1s\n",
      "[CV] END colsample_bytree=0.8, learning_rate=0.1, max_depth=3, min_child_weight=2, n_estimators=179, subsample=0.9; total time=   0.1s\n",
      "[CV] END colsample_bytree=0.8, learning_rate=0.1, max_depth=3, min_child_weight=2, n_estimators=179, subsample=0.9; total time=   0.2s\n",
      "[CV] END colsample_bytree=1.0, learning_rate=0.3, max_depth=3, min_child_weight=1, n_estimators=196, subsample=0.9; total time=   0.1s\n",
      "[CV] END colsample_bytree=1.0, learning_rate=0.3, max_depth=3, min_child_weight=1, n_estimators=196, subsample=0.9; total time=   0.1s\n",
      "[CV] END colsample_bytree=1.0, learning_rate=0.3, max_depth=3, min_child_weight=1, n_estimators=196, subsample=0.9; total time=   0.1s\n",
      "[CV] END colsample_bytree=1.0, learning_rate=0.3, max_depth=3, min_child_weight=1, n_estimators=196, subsample=0.9; total time=   0.1s\n",
      "[CV] END colsample_bytree=1.0, learning_rate=0.3, max_depth=3, min_child_weight=1, n_estimators=196, subsample=0.9; total time=   0.1s\n",
      "[CV] END colsample_bytree=0.9, learning_rate=0.3, max_depth=6, min_child_weight=2, n_estimators=117, subsample=1.0; total time=   0.1s\n",
      "[CV] END colsample_bytree=0.9, learning_rate=0.3, max_depth=6, min_child_weight=2, n_estimators=117, subsample=1.0; total time=   0.1s\n",
      "[CV] END colsample_bytree=0.9, learning_rate=0.3, max_depth=6, min_child_weight=2, n_estimators=117, subsample=1.0; total time=   0.1s\n",
      "[CV] END colsample_bytree=0.9, learning_rate=0.3, max_depth=6, min_child_weight=2, n_estimators=117, subsample=1.0; total time=   0.1s\n",
      "[CV] END colsample_bytree=0.9, learning_rate=0.3, max_depth=6, min_child_weight=2, n_estimators=117, subsample=1.0; total time=   0.1s\n",
      "[CV] END colsample_bytree=1.0, learning_rate=0.1, max_depth=3, min_child_weight=3, n_estimators=87, subsample=0.8; total time=   0.0s\n",
      "[CV] END colsample_bytree=1.0, learning_rate=0.1, max_depth=3, min_child_weight=3, n_estimators=87, subsample=0.8; total time=   0.0s\n",
      "[CV] END colsample_bytree=1.0, learning_rate=0.1, max_depth=3, min_child_weight=3, n_estimators=87, subsample=0.8; total time=   0.1s\n",
      "[CV] END colsample_bytree=1.0, learning_rate=0.1, max_depth=3, min_child_weight=3, n_estimators=87, subsample=0.8; total time=   0.1s\n",
      "[CV] END colsample_bytree=1.0, learning_rate=0.1, max_depth=3, min_child_weight=3, n_estimators=87, subsample=0.8; total time=   0.0s\n",
      "[CV] END colsample_bytree=0.9, learning_rate=0.1, max_depth=9, min_child_weight=4, n_estimators=193, subsample=0.8; total time=   0.2s\n",
      "[CV] END colsample_bytree=0.9, learning_rate=0.1, max_depth=9, min_child_weight=4, n_estimators=193, subsample=0.8; total time=   0.2s\n",
      "[CV] END colsample_bytree=0.9, learning_rate=0.1, max_depth=9, min_child_weight=4, n_estimators=193, subsample=0.8; total time=   0.2s\n",
      "[CV] END colsample_bytree=0.9, learning_rate=0.1, max_depth=9, min_child_weight=4, n_estimators=193, subsample=0.8; total time=   0.2s\n",
      "[CV] END colsample_bytree=0.9, learning_rate=0.1, max_depth=9, min_child_weight=4, n_estimators=193, subsample=0.8; total time=   0.3s\n",
      "[CV] END colsample_bytree=0.8, learning_rate=0.2, max_depth=5, min_child_weight=2, n_estimators=142, subsample=1.0; total time=   0.1s\n",
      "[CV] END colsample_bytree=0.8, learning_rate=0.2, max_depth=5, min_child_weight=2, n_estimators=142, subsample=1.0; total time=   0.1s\n",
      "[CV] END colsample_bytree=0.8, learning_rate=0.2, max_depth=5, min_child_weight=2, n_estimators=142, subsample=1.0; total time=   0.1s\n",
      "[CV] END colsample_bytree=0.8, learning_rate=0.2, max_depth=5, min_child_weight=2, n_estimators=142, subsample=1.0; total time=   0.1s\n",
      "[CV] END colsample_bytree=0.8, learning_rate=0.2, max_depth=5, min_child_weight=2, n_estimators=142, subsample=1.0; total time=   0.1s\n",
      "[CV] END colsample_bytree=1.0, learning_rate=0.2, max_depth=5, min_child_weight=2, n_estimators=196, subsample=1.0; total time=   0.1s\n",
      "[CV] END colsample_bytree=1.0, learning_rate=0.2, max_depth=5, min_child_weight=2, n_estimators=196, subsample=1.0; total time=   0.1s\n",
      "[CV] END colsample_bytree=1.0, learning_rate=0.2, max_depth=5, min_child_weight=2, n_estimators=196, subsample=1.0; total time=   0.1s\n",
      "[CV] END colsample_bytree=1.0, learning_rate=0.2, max_depth=5, min_child_weight=2, n_estimators=196, subsample=1.0; total time=   0.1s\n",
      "[CV] END colsample_bytree=1.0, learning_rate=0.2, max_depth=5, min_child_weight=2, n_estimators=196, subsample=1.0; total time=   0.1s\n",
      "[CV] END colsample_bytree=0.8, learning_rate=0.01, max_depth=9, min_child_weight=2, n_estimators=153, subsample=0.8; total time=   0.2s\n",
      "[CV] END colsample_bytree=0.8, learning_rate=0.01, max_depth=9, min_child_weight=2, n_estimators=153, subsample=0.8; total time=   0.2s\n",
      "[CV] END colsample_bytree=0.8, learning_rate=0.01, max_depth=9, min_child_weight=2, n_estimators=153, subsample=0.8; total time=   0.2s\n",
      "[CV] END colsample_bytree=0.8, learning_rate=0.01, max_depth=9, min_child_weight=2, n_estimators=153, subsample=0.8; total time=   0.2s\n",
      "[CV] END colsample_bytree=0.8, learning_rate=0.01, max_depth=9, min_child_weight=2, n_estimators=153, subsample=0.8; total time=   0.2s\n",
      "[CV] END colsample_bytree=1.0, learning_rate=0.2, max_depth=3, min_child_weight=1, n_estimators=91, subsample=1.0; total time=   0.1s\n",
      "[CV] END colsample_bytree=1.0, learning_rate=0.2, max_depth=3, min_child_weight=1, n_estimators=91, subsample=1.0; total time=   0.0s\n",
      "[CV] END colsample_bytree=1.0, learning_rate=0.2, max_depth=3, min_child_weight=1, n_estimators=91, subsample=1.0; total time=   0.0s\n",
      "[CV] END colsample_bytree=1.0, learning_rate=0.2, max_depth=3, min_child_weight=1, n_estimators=91, subsample=1.0; total time=   0.0s\n",
      "[CV] END colsample_bytree=1.0, learning_rate=0.2, max_depth=3, min_child_weight=1, n_estimators=91, subsample=1.0; total time=   0.0s\n",
      "[CV] END colsample_bytree=1.0, learning_rate=0.2, max_depth=4, min_child_weight=4, n_estimators=109, subsample=0.8; total time=   0.1s\n",
      "[CV] END colsample_bytree=1.0, learning_rate=0.2, max_depth=4, min_child_weight=4, n_estimators=109, subsample=0.8; total time=   0.1s\n",
      "[CV] END colsample_bytree=1.0, learning_rate=0.2, max_depth=4, min_child_weight=4, n_estimators=109, subsample=0.8; total time=   0.1s\n",
      "[CV] END colsample_bytree=1.0, learning_rate=0.2, max_depth=4, min_child_weight=4, n_estimators=109, subsample=0.8; total time=   0.1s\n",
      "[CV] END colsample_bytree=1.0, learning_rate=0.2, max_depth=4, min_child_weight=4, n_estimators=109, subsample=0.8; total time=   0.1s\n",
      "[CV] END colsample_bytree=0.9, learning_rate=0.01, max_depth=8, min_child_weight=4, n_estimators=86, subsample=1.0; total time=   0.1s\n",
      "[CV] END colsample_bytree=0.9, learning_rate=0.01, max_depth=8, min_child_weight=4, n_estimators=86, subsample=1.0; total time=   0.1s\n",
      "[CV] END colsample_bytree=0.9, learning_rate=0.01, max_depth=8, min_child_weight=4, n_estimators=86, subsample=1.0; total time=   0.1s\n",
      "[CV] END colsample_bytree=0.9, learning_rate=0.01, max_depth=8, min_child_weight=4, n_estimators=86, subsample=1.0; total time=   0.1s\n",
      "[CV] END colsample_bytree=0.9, learning_rate=0.01, max_depth=8, min_child_weight=4, n_estimators=86, subsample=1.0; total time=   0.1s\n",
      "[CV] END colsample_bytree=1.0, learning_rate=0.01, max_depth=3, min_child_weight=3, n_estimators=196, subsample=1.0; total time=   0.1s\n",
      "[CV] END colsample_bytree=1.0, learning_rate=0.01, max_depth=3, min_child_weight=3, n_estimators=196, subsample=1.0; total time=   0.1s\n",
      "[CV] END colsample_bytree=1.0, learning_rate=0.01, max_depth=3, min_child_weight=3, n_estimators=196, subsample=1.0; total time=   0.1s\n",
      "[CV] END colsample_bytree=1.0, learning_rate=0.01, max_depth=3, min_child_weight=3, n_estimators=196, subsample=1.0; total time=   0.1s\n",
      "[CV] END colsample_bytree=1.0, learning_rate=0.01, max_depth=3, min_child_weight=3, n_estimators=196, subsample=1.0; total time=   0.1s\n",
      "[CV] END colsample_bytree=0.9, learning_rate=0.01, max_depth=6, min_child_weight=3, n_estimators=162, subsample=0.9; total time=   0.1s\n",
      "[CV] END colsample_bytree=0.9, learning_rate=0.01, max_depth=6, min_child_weight=3, n_estimators=162, subsample=0.9; total time=   0.1s\n",
      "[CV] END colsample_bytree=0.9, learning_rate=0.01, max_depth=6, min_child_weight=3, n_estimators=162, subsample=0.9; total time=   0.1s\n",
      "[CV] END colsample_bytree=0.9, learning_rate=0.01, max_depth=6, min_child_weight=3, n_estimators=162, subsample=0.9; total time=   0.1s\n",
      "[CV] END colsample_bytree=0.9, learning_rate=0.01, max_depth=6, min_child_weight=3, n_estimators=162, subsample=0.9; total time=   0.2s\n",
      "[CV] END colsample_bytree=0.9, learning_rate=0.1, max_depth=8, min_child_weight=1, n_estimators=148, subsample=0.8; total time=   0.2s\n",
      "[CV] END colsample_bytree=0.9, learning_rate=0.1, max_depth=8, min_child_weight=1, n_estimators=148, subsample=0.8; total time=   0.2s\n",
      "[CV] END colsample_bytree=0.9, learning_rate=0.1, max_depth=8, min_child_weight=1, n_estimators=148, subsample=0.8; total time=   0.1s\n",
      "[CV] END colsample_bytree=0.9, learning_rate=0.1, max_depth=8, min_child_weight=1, n_estimators=148, subsample=0.8; total time=   0.2s\n",
      "[CV] END colsample_bytree=0.9, learning_rate=0.1, max_depth=8, min_child_weight=1, n_estimators=148, subsample=0.8; total time=   0.2s\n",
      "[CV] END colsample_bytree=0.8, learning_rate=0.05, max_depth=8, min_child_weight=2, n_estimators=103, subsample=1.0; total time=   0.1s\n",
      "[CV] END colsample_bytree=0.8, learning_rate=0.05, max_depth=8, min_child_weight=2, n_estimators=103, subsample=1.0; total time=   0.1s\n",
      "[CV] END colsample_bytree=0.8, learning_rate=0.05, max_depth=8, min_child_weight=2, n_estimators=103, subsample=1.0; total time=   0.1s\n",
      "[CV] END colsample_bytree=0.8, learning_rate=0.05, max_depth=8, min_child_weight=2, n_estimators=103, subsample=1.0; total time=   0.1s\n",
      "[CV] END colsample_bytree=0.8, learning_rate=0.05, max_depth=8, min_child_weight=2, n_estimators=103, subsample=1.0; total time=   0.1s\n",
      "[CV] END colsample_bytree=0.8, learning_rate=0.01, max_depth=6, min_child_weight=1, n_estimators=117, subsample=0.8; total time=   0.1s\n",
      "[CV] END colsample_bytree=0.8, learning_rate=0.01, max_depth=6, min_child_weight=1, n_estimators=117, subsample=0.8; total time=   0.1s\n",
      "[CV] END colsample_bytree=0.8, learning_rate=0.01, max_depth=6, min_child_weight=1, n_estimators=117, subsample=0.8; total time=   0.1s\n",
      "[CV] END colsample_bytree=0.8, learning_rate=0.01, max_depth=6, min_child_weight=1, n_estimators=117, subsample=0.8; total time=   0.1s\n",
      "[CV] END colsample_bytree=0.8, learning_rate=0.01, max_depth=6, min_child_weight=1, n_estimators=117, subsample=0.8; total time=   0.1s\n",
      "[CV] END colsample_bytree=0.9, learning_rate=0.3, max_depth=6, min_child_weight=4, n_estimators=177, subsample=1.0; total time=   0.2s\n",
      "[CV] END colsample_bytree=0.9, learning_rate=0.3, max_depth=6, min_child_weight=4, n_estimators=177, subsample=1.0; total time=   0.2s\n",
      "[CV] END colsample_bytree=0.9, learning_rate=0.3, max_depth=6, min_child_weight=4, n_estimators=177, subsample=1.0; total time=   0.1s\n",
      "[CV] END colsample_bytree=0.9, learning_rate=0.3, max_depth=6, min_child_weight=4, n_estimators=177, subsample=1.0; total time=   0.1s\n",
      "[CV] END colsample_bytree=0.9, learning_rate=0.3, max_depth=6, min_child_weight=4, n_estimators=177, subsample=1.0; total time=   0.1s\n",
      "[CV] END colsample_bytree=1.0, learning_rate=0.01, max_depth=3, min_child_weight=4, n_estimators=164, subsample=0.9; total time=   0.1s\n",
      "[CV] END colsample_bytree=1.0, learning_rate=0.01, max_depth=3, min_child_weight=4, n_estimators=164, subsample=0.9; total time=   0.1s\n",
      "[CV] END colsample_bytree=1.0, learning_rate=0.01, max_depth=3, min_child_weight=4, n_estimators=164, subsample=0.9; total time=   0.1s\n",
      "[CV] END colsample_bytree=1.0, learning_rate=0.01, max_depth=3, min_child_weight=4, n_estimators=164, subsample=0.9; total time=   0.1s\n",
      "[CV] END colsample_bytree=1.0, learning_rate=0.01, max_depth=3, min_child_weight=4, n_estimators=164, subsample=0.9; total time=   0.1s\n",
      "[CV] END colsample_bytree=1.0, learning_rate=0.3, max_depth=5, min_child_weight=2, n_estimators=57, subsample=1.0; total time=   0.0s\n",
      "[CV] END colsample_bytree=1.0, learning_rate=0.3, max_depth=5, min_child_weight=2, n_estimators=57, subsample=1.0; total time=   0.0s\n",
      "[CV] END colsample_bytree=1.0, learning_rate=0.3, max_depth=5, min_child_weight=2, n_estimators=57, subsample=1.0; total time=   0.1s\n",
      "[CV] END colsample_bytree=1.0, learning_rate=0.3, max_depth=5, min_child_weight=2, n_estimators=57, subsample=1.0; total time=   0.1s\n",
      "[CV] END colsample_bytree=1.0, learning_rate=0.3, max_depth=5, min_child_weight=2, n_estimators=57, subsample=1.0; total time=   0.0s\n",
      "[CV] END colsample_bytree=1.0, learning_rate=0.05, max_depth=7, min_child_weight=2, n_estimators=146, subsample=1.0; total time=   0.1s\n",
      "[CV] END colsample_bytree=1.0, learning_rate=0.05, max_depth=7, min_child_weight=2, n_estimators=146, subsample=1.0; total time=   0.1s\n",
      "[CV] END colsample_bytree=1.0, learning_rate=0.05, max_depth=7, min_child_weight=2, n_estimators=146, subsample=1.0; total time=   0.1s\n",
      "[CV] END colsample_bytree=1.0, learning_rate=0.05, max_depth=7, min_child_weight=2, n_estimators=146, subsample=1.0; total time=   0.1s\n",
      "[CV] END colsample_bytree=1.0, learning_rate=0.05, max_depth=7, min_child_weight=2, n_estimators=146, subsample=1.0; total time=   0.2s\n",
      "[CV] END colsample_bytree=0.8, learning_rate=0.3, max_depth=6, min_child_weight=1, n_estimators=97, subsample=1.0; total time=   0.1s\n",
      "[CV] END colsample_bytree=0.8, learning_rate=0.3, max_depth=6, min_child_weight=1, n_estimators=97, subsample=1.0; total time=   0.1s\n",
      "[CV] END colsample_bytree=0.8, learning_rate=0.3, max_depth=6, min_child_weight=1, n_estimators=97, subsample=1.0; total time=   0.1s\n",
      "[CV] END colsample_bytree=0.8, learning_rate=0.3, max_depth=6, min_child_weight=1, n_estimators=97, subsample=1.0; total time=   0.1s\n",
      "[CV] END colsample_bytree=0.8, learning_rate=0.3, max_depth=6, min_child_weight=1, n_estimators=97, subsample=1.0; total time=   0.1s\n",
      "[CV] END colsample_bytree=1.0, learning_rate=0.01, max_depth=3, min_child_weight=4, n_estimators=95, subsample=0.8; total time=   0.1s\n",
      "[CV] END colsample_bytree=1.0, learning_rate=0.01, max_depth=3, min_child_weight=4, n_estimators=95, subsample=0.8; total time=   0.1s\n",
      "[CV] END colsample_bytree=1.0, learning_rate=0.01, max_depth=3, min_child_weight=4, n_estimators=95, subsample=0.8; total time=   0.1s\n",
      "[CV] END colsample_bytree=1.0, learning_rate=0.01, max_depth=3, min_child_weight=4, n_estimators=95, subsample=0.8; total time=   0.1s\n",
      "[CV] END colsample_bytree=1.0, learning_rate=0.01, max_depth=3, min_child_weight=4, n_estimators=95, subsample=0.8; total time=   0.1s\n",
      "[CV] END colsample_bytree=0.9, learning_rate=0.1, max_depth=6, min_child_weight=1, n_estimators=86, subsample=0.8; total time=   0.1s\n",
      "[CV] END colsample_bytree=0.9, learning_rate=0.1, max_depth=6, min_child_weight=1, n_estimators=86, subsample=0.8; total time=   0.1s\n",
      "[CV] END colsample_bytree=0.9, learning_rate=0.1, max_depth=6, min_child_weight=1, n_estimators=86, subsample=0.8; total time=   0.1s\n",
      "[CV] END colsample_bytree=0.9, learning_rate=0.1, max_depth=6, min_child_weight=1, n_estimators=86, subsample=0.8; total time=   0.1s\n",
      "[CV] END colsample_bytree=0.9, learning_rate=0.1, max_depth=6, min_child_weight=1, n_estimators=86, subsample=0.8; total time=   0.1s\n",
      "[CV] END colsample_bytree=0.8, learning_rate=0.3, max_depth=9, min_child_weight=3, n_estimators=165, subsample=1.0; total time=   0.2s\n",
      "[CV] END colsample_bytree=0.8, learning_rate=0.3, max_depth=9, min_child_weight=3, n_estimators=165, subsample=1.0; total time=   0.2s\n",
      "[CV] END colsample_bytree=0.8, learning_rate=0.3, max_depth=9, min_child_weight=3, n_estimators=165, subsample=1.0; total time=   0.2s\n",
      "[CV] END colsample_bytree=0.8, learning_rate=0.3, max_depth=9, min_child_weight=3, n_estimators=165, subsample=1.0; total time=   0.2s\n",
      "[CV] END colsample_bytree=0.8, learning_rate=0.3, max_depth=9, min_child_weight=3, n_estimators=165, subsample=1.0; total time=   0.2s\n",
      "[CV] END colsample_bytree=0.8, learning_rate=0.3, max_depth=9, min_child_weight=1, n_estimators=116, subsample=0.9; total time=   0.1s\n",
      "[CV] END colsample_bytree=0.8, learning_rate=0.3, max_depth=9, min_child_weight=1, n_estimators=116, subsample=0.9; total time=   0.2s\n",
      "[CV] END colsample_bytree=0.8, learning_rate=0.3, max_depth=9, min_child_weight=1, n_estimators=116, subsample=0.9; total time=   0.2s\n",
      "[CV] END colsample_bytree=0.8, learning_rate=0.3, max_depth=9, min_child_weight=1, n_estimators=116, subsample=0.9; total time=   0.1s\n",
      "[CV] END colsample_bytree=0.8, learning_rate=0.3, max_depth=9, min_child_weight=1, n_estimators=116, subsample=0.9; total time=   0.1s\n",
      "[CV] END colsample_bytree=0.8, learning_rate=0.05, max_depth=9, min_child_weight=2, n_estimators=107, subsample=1.0; total time=   0.1s\n",
      "[CV] END colsample_bytree=0.8, learning_rate=0.05, max_depth=9, min_child_weight=2, n_estimators=107, subsample=1.0; total time=   0.1s\n",
      "[CV] END colsample_bytree=0.8, learning_rate=0.05, max_depth=9, min_child_weight=2, n_estimators=107, subsample=1.0; total time=   0.1s\n",
      "[CV] END colsample_bytree=0.8, learning_rate=0.05, max_depth=9, min_child_weight=2, n_estimators=107, subsample=1.0; total time=   0.1s\n",
      "[CV] END colsample_bytree=0.8, learning_rate=0.05, max_depth=9, min_child_weight=2, n_estimators=107, subsample=1.0; total time=   0.2s\n",
      "[CV] END colsample_bytree=0.9, learning_rate=0.05, max_depth=9, min_child_weight=2, n_estimators=176, subsample=1.0; total time=   0.2s\n",
      "[CV] END colsample_bytree=0.9, learning_rate=0.05, max_depth=9, min_child_weight=2, n_estimators=176, subsample=1.0; total time=   0.2s\n",
      "[CV] END colsample_bytree=0.9, learning_rate=0.05, max_depth=9, min_child_weight=2, n_estimators=176, subsample=1.0; total time=   0.2s\n",
      "[CV] END colsample_bytree=0.9, learning_rate=0.05, max_depth=9, min_child_weight=2, n_estimators=176, subsample=1.0; total time=   0.2s\n",
      "[CV] END colsample_bytree=0.9, learning_rate=0.05, max_depth=9, min_child_weight=2, n_estimators=176, subsample=1.0; total time=   0.3s\n",
      "[CV] END colsample_bytree=0.9, learning_rate=0.05, max_depth=4, min_child_weight=1, n_estimators=153, subsample=0.8; total time=   0.1s\n",
      "[CV] END colsample_bytree=0.9, learning_rate=0.05, max_depth=4, min_child_weight=1, n_estimators=153, subsample=0.8; total time=   0.1s\n",
      "[CV] END colsample_bytree=0.9, learning_rate=0.05, max_depth=4, min_child_weight=1, n_estimators=153, subsample=0.8; total time=   0.1s\n",
      "[CV] END colsample_bytree=0.9, learning_rate=0.05, max_depth=4, min_child_weight=1, n_estimators=153, subsample=0.8; total time=   0.1s\n",
      "[CV] END colsample_bytree=0.9, learning_rate=0.05, max_depth=4, min_child_weight=1, n_estimators=153, subsample=0.8; total time=   0.1s\n",
      "[CV] END colsample_bytree=0.8, learning_rate=0.1, max_depth=8, min_child_weight=4, n_estimators=88, subsample=0.8; total time=   0.1s\n",
      "[CV] END colsample_bytree=0.8, learning_rate=0.1, max_depth=8, min_child_weight=4, n_estimators=88, subsample=0.8; total time=   0.1s\n",
      "[CV] END colsample_bytree=0.8, learning_rate=0.1, max_depth=8, min_child_weight=4, n_estimators=88, subsample=0.8; total time=   0.1s\n",
      "[CV] END colsample_bytree=0.8, learning_rate=0.1, max_depth=8, min_child_weight=4, n_estimators=88, subsample=0.8; total time=   0.1s\n",
      "[CV] END colsample_bytree=0.8, learning_rate=0.1, max_depth=8, min_child_weight=4, n_estimators=88, subsample=0.8; total time=   0.1s\n",
      "[CV] END colsample_bytree=0.9, learning_rate=0.05, max_depth=5, min_child_weight=2, n_estimators=62, subsample=0.9; total time=   0.0s\n",
      "[CV] END colsample_bytree=0.9, learning_rate=0.05, max_depth=5, min_child_weight=2, n_estimators=62, subsample=0.9; total time=   0.1s\n",
      "[CV] END colsample_bytree=0.9, learning_rate=0.05, max_depth=5, min_child_weight=2, n_estimators=62, subsample=0.9; total time=   0.1s\n",
      "[CV] END colsample_bytree=0.9, learning_rate=0.05, max_depth=5, min_child_weight=2, n_estimators=62, subsample=0.9; total time=   0.1s\n",
      "[CV] END colsample_bytree=0.9, learning_rate=0.05, max_depth=5, min_child_weight=2, n_estimators=62, subsample=0.9; total time=   0.1s\n",
      "[CV] END colsample_bytree=1.0, learning_rate=0.01, max_depth=6, min_child_weight=1, n_estimators=69, subsample=0.8; total time=   0.1s\n",
      "[CV] END colsample_bytree=1.0, learning_rate=0.01, max_depth=6, min_child_weight=1, n_estimators=69, subsample=0.8; total time=   0.1s\n",
      "[CV] END colsample_bytree=1.0, learning_rate=0.01, max_depth=6, min_child_weight=1, n_estimators=69, subsample=0.8; total time=   0.1s\n",
      "[CV] END colsample_bytree=1.0, learning_rate=0.01, max_depth=6, min_child_weight=1, n_estimators=69, subsample=0.8; total time=   0.1s\n",
      "[CV] END colsample_bytree=1.0, learning_rate=0.01, max_depth=6, min_child_weight=1, n_estimators=69, subsample=0.8; total time=   0.1s\n",
      "[CV] END colsample_bytree=0.9, learning_rate=0.2, max_depth=5, min_child_weight=3, n_estimators=192, subsample=0.9; total time=   0.1s\n",
      "[CV] END colsample_bytree=0.9, learning_rate=0.2, max_depth=5, min_child_weight=3, n_estimators=192, subsample=0.9; total time=   0.1s\n",
      "[CV] END colsample_bytree=0.9, learning_rate=0.2, max_depth=5, min_child_weight=3, n_estimators=192, subsample=0.9; total time=   0.1s\n",
      "[CV] END colsample_bytree=0.9, learning_rate=0.2, max_depth=5, min_child_weight=3, n_estimators=192, subsample=0.9; total time=   0.1s\n",
      "[CV] END colsample_bytree=0.9, learning_rate=0.2, max_depth=5, min_child_weight=3, n_estimators=192, subsample=0.9; total time=   0.2s\n",
      "[CV] END colsample_bytree=0.9, learning_rate=0.1, max_depth=3, min_child_weight=2, n_estimators=112, subsample=0.9; total time=   0.1s\n",
      "[CV] END colsample_bytree=0.9, learning_rate=0.1, max_depth=3, min_child_weight=2, n_estimators=112, subsample=0.9; total time=   0.1s\n",
      "[CV] END colsample_bytree=0.9, learning_rate=0.1, max_depth=3, min_child_weight=2, n_estimators=112, subsample=0.9; total time=   0.1s\n",
      "[CV] END colsample_bytree=0.9, learning_rate=0.1, max_depth=3, min_child_weight=2, n_estimators=112, subsample=0.9; total time=   0.1s\n",
      "[CV] END colsample_bytree=0.9, learning_rate=0.1, max_depth=3, min_child_weight=2, n_estimators=112, subsample=0.9; total time=   0.1s\n",
      "[CV] END colsample_bytree=0.8, learning_rate=0.05, max_depth=4, min_child_weight=2, n_estimators=98, subsample=0.9; total time=   0.1s\n",
      "[CV] END colsample_bytree=0.8, learning_rate=0.05, max_depth=4, min_child_weight=2, n_estimators=98, subsample=0.9; total time=   0.1s\n",
      "[CV] END colsample_bytree=0.8, learning_rate=0.05, max_depth=4, min_child_weight=2, n_estimators=98, subsample=0.9; total time=   0.1s\n",
      "[CV] END colsample_bytree=0.8, learning_rate=0.05, max_depth=4, min_child_weight=2, n_estimators=98, subsample=0.9; total time=   0.1s\n",
      "[CV] END colsample_bytree=0.8, learning_rate=0.05, max_depth=4, min_child_weight=2, n_estimators=98, subsample=0.9; total time=   0.1s\n",
      "[CV] END colsample_bytree=0.9, learning_rate=0.1, max_depth=6, min_child_weight=1, n_estimators=57, subsample=0.8; total time=   0.1s\n",
      "[CV] END colsample_bytree=0.9, learning_rate=0.1, max_depth=6, min_child_weight=1, n_estimators=57, subsample=0.8; total time=   0.1s\n",
      "[CV] END colsample_bytree=0.9, learning_rate=0.1, max_depth=6, min_child_weight=1, n_estimators=57, subsample=0.8; total time=   0.1s\n",
      "[CV] END colsample_bytree=0.9, learning_rate=0.1, max_depth=6, min_child_weight=1, n_estimators=57, subsample=0.8; total time=   0.1s\n",
      "[CV] END colsample_bytree=0.9, learning_rate=0.1, max_depth=6, min_child_weight=1, n_estimators=57, subsample=0.8; total time=   0.1s\n",
      "[CV] END colsample_bytree=0.8, learning_rate=0.2, max_depth=8, min_child_weight=1, n_estimators=165, subsample=0.9; total time=   0.2s\n",
      "[CV] END colsample_bytree=0.8, learning_rate=0.2, max_depth=8, min_child_weight=1, n_estimators=165, subsample=0.9; total time=   0.2s\n",
      "[CV] END colsample_bytree=0.8, learning_rate=0.2, max_depth=8, min_child_weight=1, n_estimators=165, subsample=0.9; total time=   0.2s\n",
      "[CV] END colsample_bytree=0.8, learning_rate=0.2, max_depth=8, min_child_weight=1, n_estimators=165, subsample=0.9; total time=   0.2s\n",
      "[CV] END colsample_bytree=0.8, learning_rate=0.2, max_depth=8, min_child_weight=1, n_estimators=165, subsample=0.9; total time=   0.2s\n",
      "[CV] END colsample_bytree=1.0, learning_rate=0.1, max_depth=9, min_child_weight=4, n_estimators=101, subsample=0.8; total time=   0.1s\n",
      "[CV] END colsample_bytree=1.0, learning_rate=0.1, max_depth=9, min_child_weight=4, n_estimators=101, subsample=0.8; total time=   0.2s\n",
      "[CV] END colsample_bytree=1.0, learning_rate=0.1, max_depth=9, min_child_weight=4, n_estimators=101, subsample=0.8; total time=   0.1s\n",
      "[CV] END colsample_bytree=1.0, learning_rate=0.1, max_depth=9, min_child_weight=4, n_estimators=101, subsample=0.8; total time=   0.1s\n",
      "[CV] END colsample_bytree=1.0, learning_rate=0.1, max_depth=9, min_child_weight=4, n_estimators=101, subsample=0.8; total time=   0.1s\n",
      "[CV] END colsample_bytree=0.9, learning_rate=0.2, max_depth=4, min_child_weight=2, n_estimators=196, subsample=0.8; total time=   0.1s\n",
      "[CV] END colsample_bytree=0.9, learning_rate=0.2, max_depth=4, min_child_weight=2, n_estimators=196, subsample=0.8; total time=   0.1s\n",
      "[CV] END colsample_bytree=0.9, learning_rate=0.2, max_depth=4, min_child_weight=2, n_estimators=196, subsample=0.8; total time=   0.1s\n",
      "[CV] END colsample_bytree=0.9, learning_rate=0.2, max_depth=4, min_child_weight=2, n_estimators=196, subsample=0.8; total time=   0.1s\n",
      "[CV] END colsample_bytree=0.9, learning_rate=0.2, max_depth=4, min_child_weight=2, n_estimators=196, subsample=0.8; total time=   0.1s\n",
      "[CV] END colsample_bytree=1.0, learning_rate=0.1, max_depth=6, min_child_weight=2, n_estimators=139, subsample=0.8; total time=   0.1s\n",
      "[CV] END colsample_bytree=1.0, learning_rate=0.1, max_depth=6, min_child_weight=2, n_estimators=139, subsample=0.8; total time=   0.1s\n",
      "[CV] END colsample_bytree=1.0, learning_rate=0.1, max_depth=6, min_child_weight=2, n_estimators=139, subsample=0.8; total time=   0.1s\n",
      "[CV] END colsample_bytree=1.0, learning_rate=0.1, max_depth=6, min_child_weight=2, n_estimators=139, subsample=0.8; total time=   0.1s\n",
      "[CV] END colsample_bytree=1.0, learning_rate=0.1, max_depth=6, min_child_weight=2, n_estimators=139, subsample=0.8; total time=   0.1s\n",
      "[CV] END colsample_bytree=0.9, learning_rate=0.3, max_depth=8, min_child_weight=3, n_estimators=176, subsample=0.8; total time=   0.2s\n",
      "[CV] END colsample_bytree=0.9, learning_rate=0.3, max_depth=8, min_child_weight=3, n_estimators=176, subsample=0.8; total time=   0.2s\n",
      "[CV] END colsample_bytree=0.9, learning_rate=0.3, max_depth=8, min_child_weight=3, n_estimators=176, subsample=0.8; total time=   0.2s\n",
      "[CV] END colsample_bytree=0.9, learning_rate=0.3, max_depth=8, min_child_weight=3, n_estimators=176, subsample=0.8; total time=   0.3s\n",
      "[CV] END colsample_bytree=0.9, learning_rate=0.3, max_depth=8, min_child_weight=3, n_estimators=176, subsample=0.8; total time=   0.2s\n",
      "[CV] END colsample_bytree=0.8, learning_rate=0.01, max_depth=4, min_child_weight=2, n_estimators=50, subsample=1.0; total time=   0.0s\n",
      "[CV] END colsample_bytree=0.8, learning_rate=0.01, max_depth=4, min_child_weight=2, n_estimators=50, subsample=1.0; total time=   0.0s\n",
      "[CV] END colsample_bytree=0.8, learning_rate=0.01, max_depth=4, min_child_weight=2, n_estimators=50, subsample=1.0; total time=   0.0s\n",
      "[CV] END colsample_bytree=0.8, learning_rate=0.01, max_depth=4, min_child_weight=2, n_estimators=50, subsample=1.0; total time=   0.0s\n",
      "[CV] END colsample_bytree=0.8, learning_rate=0.01, max_depth=4, min_child_weight=2, n_estimators=50, subsample=1.0; total time=   0.0s\n",
      "[CV] END colsample_bytree=0.9, learning_rate=0.01, max_depth=7, min_child_weight=1, n_estimators=178, subsample=0.8; total time=   0.2s\n",
      "[CV] END colsample_bytree=0.9, learning_rate=0.01, max_depth=7, min_child_weight=1, n_estimators=178, subsample=0.8; total time=   0.2s\n",
      "[CV] END colsample_bytree=0.9, learning_rate=0.01, max_depth=7, min_child_weight=1, n_estimators=178, subsample=0.8; total time=   0.2s\n",
      "[CV] END colsample_bytree=0.9, learning_rate=0.01, max_depth=7, min_child_weight=1, n_estimators=178, subsample=0.8; total time=   0.2s\n",
      "[CV] END colsample_bytree=0.9, learning_rate=0.01, max_depth=7, min_child_weight=1, n_estimators=178, subsample=0.8; total time=   0.2s\n",
      "[CV] END colsample_bytree=1.0, learning_rate=0.3, max_depth=8, min_child_weight=1, n_estimators=125, subsample=0.9; total time=   0.1s\n",
      "[CV] END colsample_bytree=1.0, learning_rate=0.3, max_depth=8, min_child_weight=1, n_estimators=125, subsample=0.9; total time=   0.1s\n",
      "[CV] END colsample_bytree=1.0, learning_rate=0.3, max_depth=8, min_child_weight=1, n_estimators=125, subsample=0.9; total time=   0.1s\n",
      "[CV] END colsample_bytree=1.0, learning_rate=0.3, max_depth=8, min_child_weight=1, n_estimators=125, subsample=0.9; total time=   0.1s\n",
      "[CV] END colsample_bytree=1.0, learning_rate=0.3, max_depth=8, min_child_weight=1, n_estimators=125, subsample=0.9; total time=   0.1s\n",
      "[CV] END colsample_bytree=1.0, learning_rate=0.3, max_depth=8, min_child_weight=1, n_estimators=78, subsample=0.9; total time=   0.2s\n",
      "[CV] END colsample_bytree=1.0, learning_rate=0.3, max_depth=8, min_child_weight=1, n_estimators=78, subsample=0.9; total time=   0.1s\n",
      "[CV] END colsample_bytree=1.0, learning_rate=0.3, max_depth=8, min_child_weight=1, n_estimators=78, subsample=0.9; total time=   0.1s\n",
      "[CV] END colsample_bytree=1.0, learning_rate=0.3, max_depth=8, min_child_weight=1, n_estimators=78, subsample=0.9; total time=   0.1s\n",
      "[CV] END colsample_bytree=1.0, learning_rate=0.3, max_depth=8, min_child_weight=1, n_estimators=78, subsample=0.9; total time=   0.1s\n",
      "[CV] END colsample_bytree=0.8, learning_rate=0.01, max_depth=8, min_child_weight=2, n_estimators=193, subsample=0.9; total time=   0.2s\n",
      "[CV] END colsample_bytree=0.8, learning_rate=0.01, max_depth=8, min_child_weight=2, n_estimators=193, subsample=0.9; total time=   0.2s\n",
      "[CV] END colsample_bytree=0.8, learning_rate=0.01, max_depth=8, min_child_weight=2, n_estimators=193, subsample=0.9; total time=   0.2s\n",
      "[CV] END colsample_bytree=0.8, learning_rate=0.01, max_depth=8, min_child_weight=2, n_estimators=193, subsample=0.9; total time=   0.2s\n",
      "[CV] END colsample_bytree=0.8, learning_rate=0.01, max_depth=8, min_child_weight=2, n_estimators=193, subsample=0.9; total time=   0.2s\n",
      "[CV] END colsample_bytree=0.9, learning_rate=0.3, max_depth=9, min_child_weight=4, n_estimators=82, subsample=0.9; total time=   0.1s\n",
      "[CV] END colsample_bytree=0.9, learning_rate=0.3, max_depth=9, min_child_weight=4, n_estimators=82, subsample=0.9; total time=   0.1s\n",
      "[CV] END colsample_bytree=0.9, learning_rate=0.3, max_depth=9, min_child_weight=4, n_estimators=82, subsample=0.9; total time=   0.1s\n",
      "[CV] END colsample_bytree=0.9, learning_rate=0.3, max_depth=9, min_child_weight=4, n_estimators=82, subsample=0.9; total time=   0.1s\n",
      "[CV] END colsample_bytree=0.9, learning_rate=0.3, max_depth=9, min_child_weight=4, n_estimators=82, subsample=0.9; total time=   0.1s\n",
      "[CV] END colsample_bytree=0.9, learning_rate=0.3, max_depth=9, min_child_weight=2, n_estimators=59, subsample=0.9; total time=   0.1s\n",
      "[CV] END colsample_bytree=0.9, learning_rate=0.3, max_depth=9, min_child_weight=2, n_estimators=59, subsample=0.9; total time=   0.1s\n",
      "[CV] END colsample_bytree=0.9, learning_rate=0.3, max_depth=9, min_child_weight=2, n_estimators=59, subsample=0.9; total time=   0.1s\n",
      "[CV] END colsample_bytree=0.9, learning_rate=0.3, max_depth=9, min_child_weight=2, n_estimators=59, subsample=0.9; total time=   0.1s\n",
      "[CV] END colsample_bytree=0.9, learning_rate=0.3, max_depth=9, min_child_weight=2, n_estimators=59, subsample=0.9; total time=   0.1s\n",
      "[CV] END colsample_bytree=0.8, learning_rate=0.2, max_depth=4, min_child_weight=4, n_estimators=187, subsample=0.9; total time=   0.1s\n",
      "[CV] END colsample_bytree=0.8, learning_rate=0.2, max_depth=4, min_child_weight=4, n_estimators=187, subsample=0.9; total time=   0.1s\n",
      "[CV] END colsample_bytree=0.8, learning_rate=0.2, max_depth=4, min_child_weight=4, n_estimators=187, subsample=0.9; total time=   0.1s\n",
      "[CV] END colsample_bytree=0.8, learning_rate=0.2, max_depth=4, min_child_weight=4, n_estimators=187, subsample=0.9; total time=   0.1s\n",
      "[CV] END colsample_bytree=0.8, learning_rate=0.2, max_depth=4, min_child_weight=4, n_estimators=187, subsample=0.9; total time=   0.1s\n",
      "[CV] END colsample_bytree=1.0, learning_rate=0.05, max_depth=3, min_child_weight=4, n_estimators=118, subsample=0.8; total time=   0.1s\n",
      "[CV] END colsample_bytree=1.0, learning_rate=0.05, max_depth=3, min_child_weight=4, n_estimators=118, subsample=0.8; total time=   0.1s\n",
      "[CV] END colsample_bytree=1.0, learning_rate=0.05, max_depth=3, min_child_weight=4, n_estimators=118, subsample=0.8; total time=   0.1s\n",
      "[CV] END colsample_bytree=1.0, learning_rate=0.05, max_depth=3, min_child_weight=4, n_estimators=118, subsample=0.8; total time=   0.1s\n",
      "[CV] END colsample_bytree=1.0, learning_rate=0.05, max_depth=3, min_child_weight=4, n_estimators=118, subsample=0.8; total time=   0.1s\n",
      "[CV] END colsample_bytree=1.0, learning_rate=0.05, max_depth=3, min_child_weight=4, n_estimators=177, subsample=1.0; total time=   0.1s\n",
      "[CV] END colsample_bytree=1.0, learning_rate=0.05, max_depth=3, min_child_weight=4, n_estimators=177, subsample=1.0; total time=   0.1s\n",
      "[CV] END colsample_bytree=1.0, learning_rate=0.05, max_depth=3, min_child_weight=4, n_estimators=177, subsample=1.0; total time=   0.1s\n",
      "[CV] END colsample_bytree=1.0, learning_rate=0.05, max_depth=3, min_child_weight=4, n_estimators=177, subsample=1.0; total time=   0.1s\n",
      "[CV] END colsample_bytree=1.0, learning_rate=0.05, max_depth=3, min_child_weight=4, n_estimators=177, subsample=1.0; total time=   0.1s\n",
      "[CV] END colsample_bytree=0.9, learning_rate=0.1, max_depth=6, min_child_weight=1, n_estimators=150, subsample=1.0; total time=   0.1s\n",
      "[CV] END colsample_bytree=0.9, learning_rate=0.1, max_depth=6, min_child_weight=1, n_estimators=150, subsample=1.0; total time=   0.1s\n",
      "[CV] END colsample_bytree=0.9, learning_rate=0.1, max_depth=6, min_child_weight=1, n_estimators=150, subsample=1.0; total time=   0.1s\n",
      "[CV] END colsample_bytree=0.9, learning_rate=0.1, max_depth=6, min_child_weight=1, n_estimators=150, subsample=1.0; total time=   0.1s\n",
      "[CV] END colsample_bytree=0.9, learning_rate=0.1, max_depth=6, min_child_weight=1, n_estimators=150, subsample=1.0; total time=   0.1s\n",
      "[CV] END colsample_bytree=0.8, learning_rate=0.01, max_depth=4, min_child_weight=3, n_estimators=93, subsample=0.8; total time=   0.1s\n",
      "[CV] END colsample_bytree=0.8, learning_rate=0.01, max_depth=4, min_child_weight=3, n_estimators=93, subsample=0.8; total time=   0.1s\n",
      "[CV] END colsample_bytree=0.8, learning_rate=0.01, max_depth=4, min_child_weight=3, n_estimators=93, subsample=0.8; total time=   0.1s\n",
      "[CV] END colsample_bytree=0.8, learning_rate=0.01, max_depth=4, min_child_weight=3, n_estimators=93, subsample=0.8; total time=   0.1s\n",
      "[CV] END colsample_bytree=0.8, learning_rate=0.01, max_depth=4, min_child_weight=3, n_estimators=93, subsample=0.8; total time=   0.1s\n",
      "[CV] END colsample_bytree=0.8, learning_rate=0.2, max_depth=9, min_child_weight=2, n_estimators=179, subsample=0.8; total time=   0.2s\n",
      "[CV] END colsample_bytree=0.8, learning_rate=0.2, max_depth=9, min_child_weight=2, n_estimators=179, subsample=0.8; total time=   0.2s\n",
      "[CV] END colsample_bytree=0.8, learning_rate=0.2, max_depth=9, min_child_weight=2, n_estimators=179, subsample=0.8; total time=   0.2s\n",
      "[CV] END colsample_bytree=0.8, learning_rate=0.2, max_depth=9, min_child_weight=2, n_estimators=179, subsample=0.8; total time=   0.2s\n",
      "[CV] END colsample_bytree=0.8, learning_rate=0.2, max_depth=9, min_child_weight=2, n_estimators=179, subsample=0.8; total time=   0.2s\n",
      "[CV] END colsample_bytree=1.0, learning_rate=0.05, max_depth=5, min_child_weight=3, n_estimators=130, subsample=0.9; total time=   0.1s\n",
      "[CV] END colsample_bytree=1.0, learning_rate=0.05, max_depth=5, min_child_weight=3, n_estimators=130, subsample=0.9; total time=   0.1s\n",
      "[CV] END colsample_bytree=1.0, learning_rate=0.05, max_depth=5, min_child_weight=3, n_estimators=130, subsample=0.9; total time=   0.1s\n",
      "[CV] END colsample_bytree=1.0, learning_rate=0.05, max_depth=5, min_child_weight=3, n_estimators=130, subsample=0.9; total time=   0.1s\n",
      "[CV] END colsample_bytree=1.0, learning_rate=0.05, max_depth=5, min_child_weight=3, n_estimators=130, subsample=0.9; total time=   0.1s\n",
      "[CV] END colsample_bytree=0.8, learning_rate=0.05, max_depth=4, min_child_weight=2, n_estimators=164, subsample=0.8; total time=   0.1s\n",
      "[CV] END colsample_bytree=0.8, learning_rate=0.05, max_depth=4, min_child_weight=2, n_estimators=164, subsample=0.8; total time=   0.1s\n",
      "[CV] END colsample_bytree=0.8, learning_rate=0.05, max_depth=4, min_child_weight=2, n_estimators=164, subsample=0.8; total time=   0.1s\n",
      "[CV] END colsample_bytree=0.8, learning_rate=0.05, max_depth=4, min_child_weight=2, n_estimators=164, subsample=0.8; total time=   0.1s\n",
      "[CV] END colsample_bytree=0.8, learning_rate=0.05, max_depth=4, min_child_weight=2, n_estimators=164, subsample=0.8; total time=   0.2s\n",
      "[CV] END colsample_bytree=1.0, learning_rate=0.2, max_depth=4, min_child_weight=1, n_estimators=163, subsample=0.8; total time=   0.1s\n",
      "[CV] END colsample_bytree=1.0, learning_rate=0.2, max_depth=4, min_child_weight=1, n_estimators=163, subsample=0.8; total time=   0.1s\n",
      "[CV] END colsample_bytree=1.0, learning_rate=0.2, max_depth=4, min_child_weight=1, n_estimators=163, subsample=0.8; total time=   0.1s\n",
      "[CV] END colsample_bytree=1.0, learning_rate=0.2, max_depth=4, min_child_weight=1, n_estimators=163, subsample=0.8; total time=   0.1s\n",
      "[CV] END colsample_bytree=1.0, learning_rate=0.2, max_depth=4, min_child_weight=1, n_estimators=163, subsample=0.8; total time=   0.1s\n",
      "[CV] END colsample_bytree=1.0, learning_rate=0.3, max_depth=6, min_child_weight=1, n_estimators=70, subsample=0.8; total time=   0.1s\n",
      "[CV] END colsample_bytree=1.0, learning_rate=0.3, max_depth=6, min_child_weight=1, n_estimators=70, subsample=0.8; total time=   0.1s\n",
      "[CV] END colsample_bytree=1.0, learning_rate=0.3, max_depth=6, min_child_weight=1, n_estimators=70, subsample=0.8; total time=   0.1s\n",
      "[CV] END colsample_bytree=1.0, learning_rate=0.3, max_depth=6, min_child_weight=1, n_estimators=70, subsample=0.8; total time=   0.1s\n",
      "[CV] END colsample_bytree=1.0, learning_rate=0.3, max_depth=6, min_child_weight=1, n_estimators=70, subsample=0.8; total time=   0.1s\n",
      "[CV] END colsample_bytree=0.8, learning_rate=0.2, max_depth=4, min_child_weight=1, n_estimators=148, subsample=0.9; total time=   0.1s\n",
      "[CV] END colsample_bytree=0.8, learning_rate=0.2, max_depth=4, min_child_weight=1, n_estimators=148, subsample=0.9; total time=   0.1s\n",
      "[CV] END colsample_bytree=0.8, learning_rate=0.2, max_depth=4, min_child_weight=1, n_estimators=148, subsample=0.9; total time=   0.1s\n",
      "[CV] END colsample_bytree=0.8, learning_rate=0.2, max_depth=4, min_child_weight=1, n_estimators=148, subsample=0.9; total time=   0.1s\n",
      "[CV] END colsample_bytree=0.8, learning_rate=0.2, max_depth=4, min_child_weight=1, n_estimators=148, subsample=0.9; total time=   0.1s\n",
      "[CV] END colsample_bytree=0.8, learning_rate=0.3, max_depth=6, min_child_weight=1, n_estimators=62, subsample=1.0; total time=   0.1s\n",
      "[CV] END colsample_bytree=0.8, learning_rate=0.3, max_depth=6, min_child_weight=1, n_estimators=62, subsample=1.0; total time=   0.1s\n",
      "[CV] END colsample_bytree=0.8, learning_rate=0.3, max_depth=6, min_child_weight=1, n_estimators=62, subsample=1.0; total time=   0.1s\n",
      "[CV] END colsample_bytree=0.8, learning_rate=0.3, max_depth=6, min_child_weight=1, n_estimators=62, subsample=1.0; total time=   0.1s\n",
      "[CV] END colsample_bytree=0.8, learning_rate=0.3, max_depth=6, min_child_weight=1, n_estimators=62, subsample=1.0; total time=   0.1s\n",
      "[CV] END colsample_bytree=0.8, learning_rate=0.1, max_depth=3, min_child_weight=2, n_estimators=66, subsample=0.8; total time=   0.0s\n",
      "[CV] END colsample_bytree=0.8, learning_rate=0.1, max_depth=3, min_child_weight=2, n_estimators=66, subsample=0.8; total time=   0.0s\n",
      "[CV] END colsample_bytree=0.8, learning_rate=0.1, max_depth=3, min_child_weight=2, n_estimators=66, subsample=0.8; total time=   0.0s\n",
      "[CV] END colsample_bytree=0.8, learning_rate=0.1, max_depth=3, min_child_weight=2, n_estimators=66, subsample=0.8; total time=   0.0s\n",
      "[CV] END colsample_bytree=0.8, learning_rate=0.1, max_depth=3, min_child_weight=2, n_estimators=66, subsample=0.8; total time=   0.0s\n",
      "[CV] END colsample_bytree=0.9, learning_rate=0.2, max_depth=3, min_child_weight=2, n_estimators=190, subsample=1.0; total time=   0.1s\n",
      "[CV] END colsample_bytree=0.9, learning_rate=0.2, max_depth=3, min_child_weight=2, n_estimators=190, subsample=1.0; total time=   0.1s\n",
      "[CV] END colsample_bytree=0.9, learning_rate=0.2, max_depth=3, min_child_weight=2, n_estimators=190, subsample=1.0; total time=   0.2s\n",
      "[CV] END colsample_bytree=0.9, learning_rate=0.2, max_depth=3, min_child_weight=2, n_estimators=190, subsample=1.0; total time=   0.1s\n",
      "[CV] END colsample_bytree=0.9, learning_rate=0.2, max_depth=3, min_child_weight=2, n_estimators=190, subsample=1.0; total time=   0.1s\n",
      "[CV] END colsample_bytree=1.0, learning_rate=0.01, max_depth=6, min_child_weight=4, n_estimators=196, subsample=0.8; total time=   0.1s\n",
      "[CV] END colsample_bytree=1.0, learning_rate=0.01, max_depth=6, min_child_weight=4, n_estimators=196, subsample=0.8; total time=   0.1s\n",
      "[CV] END colsample_bytree=1.0, learning_rate=0.01, max_depth=6, min_child_weight=4, n_estimators=196, subsample=0.8; total time=   0.2s\n",
      "[CV] END colsample_bytree=1.0, learning_rate=0.01, max_depth=6, min_child_weight=4, n_estimators=196, subsample=0.8; total time=   0.1s\n",
      "[CV] END colsample_bytree=1.0, learning_rate=0.01, max_depth=6, min_child_weight=4, n_estimators=196, subsample=0.8; total time=   0.2s\n",
      "[CV] END colsample_bytree=1.0, learning_rate=0.2, max_depth=8, min_child_weight=3, n_estimators=177, subsample=1.0; total time=   0.2s\n",
      "[CV] END colsample_bytree=1.0, learning_rate=0.2, max_depth=8, min_child_weight=3, n_estimators=177, subsample=1.0; total time=   0.2s\n",
      "[CV] END colsample_bytree=1.0, learning_rate=0.2, max_depth=8, min_child_weight=3, n_estimators=177, subsample=1.0; total time=   0.2s\n",
      "[CV] END colsample_bytree=1.0, learning_rate=0.2, max_depth=8, min_child_weight=3, n_estimators=177, subsample=1.0; total time=   0.2s\n",
      "[CV] END colsample_bytree=1.0, learning_rate=0.2, max_depth=8, min_child_weight=3, n_estimators=177, subsample=1.0; total time=   0.2s\n"
     ]
    },
    {
     "data": {
      "text/html": [
       "<style>#sk-container-id-4 {\n",
       "  /* Definition of color scheme common for light and dark mode */\n",
       "  --sklearn-color-text: black;\n",
       "  --sklearn-color-line: gray;\n",
       "  /* Definition of color scheme for unfitted estimators */\n",
       "  --sklearn-color-unfitted-level-0: #fff5e6;\n",
       "  --sklearn-color-unfitted-level-1: #f6e4d2;\n",
       "  --sklearn-color-unfitted-level-2: #ffe0b3;\n",
       "  --sklearn-color-unfitted-level-3: chocolate;\n",
       "  /* Definition of color scheme for fitted estimators */\n",
       "  --sklearn-color-fitted-level-0: #f0f8ff;\n",
       "  --sklearn-color-fitted-level-1: #d4ebff;\n",
       "  --sklearn-color-fitted-level-2: #b3dbfd;\n",
       "  --sklearn-color-fitted-level-3: cornflowerblue;\n",
       "\n",
       "  /* Specific color for light theme */\n",
       "  --sklearn-color-text-on-default-background: var(--sg-text-color, var(--theme-code-foreground, var(--jp-content-font-color1, black)));\n",
       "  --sklearn-color-background: var(--sg-background-color, var(--theme-background, var(--jp-layout-color0, white)));\n",
       "  --sklearn-color-border-box: var(--sg-text-color, var(--theme-code-foreground, var(--jp-content-font-color1, black)));\n",
       "  --sklearn-color-icon: #696969;\n",
       "\n",
       "  @media (prefers-color-scheme: dark) {\n",
       "    /* Redefinition of color scheme for dark theme */\n",
       "    --sklearn-color-text-on-default-background: var(--sg-text-color, var(--theme-code-foreground, var(--jp-content-font-color1, white)));\n",
       "    --sklearn-color-background: var(--sg-background-color, var(--theme-background, var(--jp-layout-color0, #111)));\n",
       "    --sklearn-color-border-box: var(--sg-text-color, var(--theme-code-foreground, var(--jp-content-font-color1, white)));\n",
       "    --sklearn-color-icon: #878787;\n",
       "  }\n",
       "}\n",
       "\n",
       "#sk-container-id-4 {\n",
       "  color: var(--sklearn-color-text);\n",
       "}\n",
       "\n",
       "#sk-container-id-4 pre {\n",
       "  padding: 0;\n",
       "}\n",
       "\n",
       "#sk-container-id-4 input.sk-hidden--visually {\n",
       "  border: 0;\n",
       "  clip: rect(1px 1px 1px 1px);\n",
       "  clip: rect(1px, 1px, 1px, 1px);\n",
       "  height: 1px;\n",
       "  margin: -1px;\n",
       "  overflow: hidden;\n",
       "  padding: 0;\n",
       "  position: absolute;\n",
       "  width: 1px;\n",
       "}\n",
       "\n",
       "#sk-container-id-4 div.sk-dashed-wrapped {\n",
       "  border: 1px dashed var(--sklearn-color-line);\n",
       "  margin: 0 0.4em 0.5em 0.4em;\n",
       "  box-sizing: border-box;\n",
       "  padding-bottom: 0.4em;\n",
       "  background-color: var(--sklearn-color-background);\n",
       "}\n",
       "\n",
       "#sk-container-id-4 div.sk-container {\n",
       "  /* jupyter's `normalize.less` sets `[hidden] { display: none; }`\n",
       "     but bootstrap.min.css set `[hidden] { display: none !important; }`\n",
       "     so we also need the `!important` here to be able to override the\n",
       "     default hidden behavior on the sphinx rendered scikit-learn.org.\n",
       "     See: https://github.com/scikit-learn/scikit-learn/issues/21755 */\n",
       "  display: inline-block !important;\n",
       "  position: relative;\n",
       "}\n",
       "\n",
       "#sk-container-id-4 div.sk-text-repr-fallback {\n",
       "  display: none;\n",
       "}\n",
       "\n",
       "div.sk-parallel-item,\n",
       "div.sk-serial,\n",
       "div.sk-item {\n",
       "  /* draw centered vertical line to link estimators */\n",
       "  background-image: linear-gradient(var(--sklearn-color-text-on-default-background), var(--sklearn-color-text-on-default-background));\n",
       "  background-size: 2px 100%;\n",
       "  background-repeat: no-repeat;\n",
       "  background-position: center center;\n",
       "}\n",
       "\n",
       "/* Parallel-specific style estimator block */\n",
       "\n",
       "#sk-container-id-4 div.sk-parallel-item::after {\n",
       "  content: \"\";\n",
       "  width: 100%;\n",
       "  border-bottom: 2px solid var(--sklearn-color-text-on-default-background);\n",
       "  flex-grow: 1;\n",
       "}\n",
       "\n",
       "#sk-container-id-4 div.sk-parallel {\n",
       "  display: flex;\n",
       "  align-items: stretch;\n",
       "  justify-content: center;\n",
       "  background-color: var(--sklearn-color-background);\n",
       "  position: relative;\n",
       "}\n",
       "\n",
       "#sk-container-id-4 div.sk-parallel-item {\n",
       "  display: flex;\n",
       "  flex-direction: column;\n",
       "}\n",
       "\n",
       "#sk-container-id-4 div.sk-parallel-item:first-child::after {\n",
       "  align-self: flex-end;\n",
       "  width: 50%;\n",
       "}\n",
       "\n",
       "#sk-container-id-4 div.sk-parallel-item:last-child::after {\n",
       "  align-self: flex-start;\n",
       "  width: 50%;\n",
       "}\n",
       "\n",
       "#sk-container-id-4 div.sk-parallel-item:only-child::after {\n",
       "  width: 0;\n",
       "}\n",
       "\n",
       "/* Serial-specific style estimator block */\n",
       "\n",
       "#sk-container-id-4 div.sk-serial {\n",
       "  display: flex;\n",
       "  flex-direction: column;\n",
       "  align-items: center;\n",
       "  background-color: var(--sklearn-color-background);\n",
       "  padding-right: 1em;\n",
       "  padding-left: 1em;\n",
       "}\n",
       "\n",
       "\n",
       "/* Toggleable style: style used for estimator/Pipeline/ColumnTransformer box that is\n",
       "clickable and can be expanded/collapsed.\n",
       "- Pipeline and ColumnTransformer use this feature and define the default style\n",
       "- Estimators will overwrite some part of the style using the `sk-estimator` class\n",
       "*/\n",
       "\n",
       "/* Pipeline and ColumnTransformer style (default) */\n",
       "\n",
       "#sk-container-id-4 div.sk-toggleable {\n",
       "  /* Default theme specific background. It is overwritten whether we have a\n",
       "  specific estimator or a Pipeline/ColumnTransformer */\n",
       "  background-color: var(--sklearn-color-background);\n",
       "}\n",
       "\n",
       "/* Toggleable label */\n",
       "#sk-container-id-4 label.sk-toggleable__label {\n",
       "  cursor: pointer;\n",
       "  display: block;\n",
       "  width: 100%;\n",
       "  margin-bottom: 0;\n",
       "  padding: 0.5em;\n",
       "  box-sizing: border-box;\n",
       "  text-align: center;\n",
       "}\n",
       "\n",
       "#sk-container-id-4 label.sk-toggleable__label-arrow:before {\n",
       "  /* Arrow on the left of the label */\n",
       "  content: \"▸\";\n",
       "  float: left;\n",
       "  margin-right: 0.25em;\n",
       "  color: var(--sklearn-color-icon);\n",
       "}\n",
       "\n",
       "#sk-container-id-4 label.sk-toggleable__label-arrow:hover:before {\n",
       "  color: var(--sklearn-color-text);\n",
       "}\n",
       "\n",
       "/* Toggleable content - dropdown */\n",
       "\n",
       "#sk-container-id-4 div.sk-toggleable__content {\n",
       "  max-height: 0;\n",
       "  max-width: 0;\n",
       "  overflow: hidden;\n",
       "  text-align: left;\n",
       "  /* unfitted */\n",
       "  background-color: var(--sklearn-color-unfitted-level-0);\n",
       "}\n",
       "\n",
       "#sk-container-id-4 div.sk-toggleable__content.fitted {\n",
       "  /* fitted */\n",
       "  background-color: var(--sklearn-color-fitted-level-0);\n",
       "}\n",
       "\n",
       "#sk-container-id-4 div.sk-toggleable__content pre {\n",
       "  margin: 0.2em;\n",
       "  border-radius: 0.25em;\n",
       "  color: var(--sklearn-color-text);\n",
       "  /* unfitted */\n",
       "  background-color: var(--sklearn-color-unfitted-level-0);\n",
       "}\n",
       "\n",
       "#sk-container-id-4 div.sk-toggleable__content.fitted pre {\n",
       "  /* unfitted */\n",
       "  background-color: var(--sklearn-color-fitted-level-0);\n",
       "}\n",
       "\n",
       "#sk-container-id-4 input.sk-toggleable__control:checked~div.sk-toggleable__content {\n",
       "  /* Expand drop-down */\n",
       "  max-height: 200px;\n",
       "  max-width: 100%;\n",
       "  overflow: auto;\n",
       "}\n",
       "\n",
       "#sk-container-id-4 input.sk-toggleable__control:checked~label.sk-toggleable__label-arrow:before {\n",
       "  content: \"▾\";\n",
       "}\n",
       "\n",
       "/* Pipeline/ColumnTransformer-specific style */\n",
       "\n",
       "#sk-container-id-4 div.sk-label input.sk-toggleable__control:checked~label.sk-toggleable__label {\n",
       "  color: var(--sklearn-color-text);\n",
       "  background-color: var(--sklearn-color-unfitted-level-2);\n",
       "}\n",
       "\n",
       "#sk-container-id-4 div.sk-label.fitted input.sk-toggleable__control:checked~label.sk-toggleable__label {\n",
       "  background-color: var(--sklearn-color-fitted-level-2);\n",
       "}\n",
       "\n",
       "/* Estimator-specific style */\n",
       "\n",
       "/* Colorize estimator box */\n",
       "#sk-container-id-4 div.sk-estimator input.sk-toggleable__control:checked~label.sk-toggleable__label {\n",
       "  /* unfitted */\n",
       "  background-color: var(--sklearn-color-unfitted-level-2);\n",
       "}\n",
       "\n",
       "#sk-container-id-4 div.sk-estimator.fitted input.sk-toggleable__control:checked~label.sk-toggleable__label {\n",
       "  /* fitted */\n",
       "  background-color: var(--sklearn-color-fitted-level-2);\n",
       "}\n",
       "\n",
       "#sk-container-id-4 div.sk-label label.sk-toggleable__label,\n",
       "#sk-container-id-4 div.sk-label label {\n",
       "  /* The background is the default theme color */\n",
       "  color: var(--sklearn-color-text-on-default-background);\n",
       "}\n",
       "\n",
       "/* On hover, darken the color of the background */\n",
       "#sk-container-id-4 div.sk-label:hover label.sk-toggleable__label {\n",
       "  color: var(--sklearn-color-text);\n",
       "  background-color: var(--sklearn-color-unfitted-level-2);\n",
       "}\n",
       "\n",
       "/* Label box, darken color on hover, fitted */\n",
       "#sk-container-id-4 div.sk-label.fitted:hover label.sk-toggleable__label.fitted {\n",
       "  color: var(--sklearn-color-text);\n",
       "  background-color: var(--sklearn-color-fitted-level-2);\n",
       "}\n",
       "\n",
       "/* Estimator label */\n",
       "\n",
       "#sk-container-id-4 div.sk-label label {\n",
       "  font-family: monospace;\n",
       "  font-weight: bold;\n",
       "  display: inline-block;\n",
       "  line-height: 1.2em;\n",
       "}\n",
       "\n",
       "#sk-container-id-4 div.sk-label-container {\n",
       "  text-align: center;\n",
       "}\n",
       "\n",
       "/* Estimator-specific */\n",
       "#sk-container-id-4 div.sk-estimator {\n",
       "  font-family: monospace;\n",
       "  border: 1px dotted var(--sklearn-color-border-box);\n",
       "  border-radius: 0.25em;\n",
       "  box-sizing: border-box;\n",
       "  margin-bottom: 0.5em;\n",
       "  /* unfitted */\n",
       "  background-color: var(--sklearn-color-unfitted-level-0);\n",
       "}\n",
       "\n",
       "#sk-container-id-4 div.sk-estimator.fitted {\n",
       "  /* fitted */\n",
       "  background-color: var(--sklearn-color-fitted-level-0);\n",
       "}\n",
       "\n",
       "/* on hover */\n",
       "#sk-container-id-4 div.sk-estimator:hover {\n",
       "  /* unfitted */\n",
       "  background-color: var(--sklearn-color-unfitted-level-2);\n",
       "}\n",
       "\n",
       "#sk-container-id-4 div.sk-estimator.fitted:hover {\n",
       "  /* fitted */\n",
       "  background-color: var(--sklearn-color-fitted-level-2);\n",
       "}\n",
       "\n",
       "/* Specification for estimator info (e.g. \"i\" and \"?\") */\n",
       "\n",
       "/* Common style for \"i\" and \"?\" */\n",
       "\n",
       ".sk-estimator-doc-link,\n",
       "a:link.sk-estimator-doc-link,\n",
       "a:visited.sk-estimator-doc-link {\n",
       "  float: right;\n",
       "  font-size: smaller;\n",
       "  line-height: 1em;\n",
       "  font-family: monospace;\n",
       "  background-color: var(--sklearn-color-background);\n",
       "  border-radius: 1em;\n",
       "  height: 1em;\n",
       "  width: 1em;\n",
       "  text-decoration: none !important;\n",
       "  margin-left: 1ex;\n",
       "  /* unfitted */\n",
       "  border: var(--sklearn-color-unfitted-level-1) 1pt solid;\n",
       "  color: var(--sklearn-color-unfitted-level-1);\n",
       "}\n",
       "\n",
       ".sk-estimator-doc-link.fitted,\n",
       "a:link.sk-estimator-doc-link.fitted,\n",
       "a:visited.sk-estimator-doc-link.fitted {\n",
       "  /* fitted */\n",
       "  border: var(--sklearn-color-fitted-level-1) 1pt solid;\n",
       "  color: var(--sklearn-color-fitted-level-1);\n",
       "}\n",
       "\n",
       "/* On hover */\n",
       "div.sk-estimator:hover .sk-estimator-doc-link:hover,\n",
       ".sk-estimator-doc-link:hover,\n",
       "div.sk-label-container:hover .sk-estimator-doc-link:hover,\n",
       ".sk-estimator-doc-link:hover {\n",
       "  /* unfitted */\n",
       "  background-color: var(--sklearn-color-unfitted-level-3);\n",
       "  color: var(--sklearn-color-background);\n",
       "  text-decoration: none;\n",
       "}\n",
       "\n",
       "div.sk-estimator.fitted:hover .sk-estimator-doc-link.fitted:hover,\n",
       ".sk-estimator-doc-link.fitted:hover,\n",
       "div.sk-label-container:hover .sk-estimator-doc-link.fitted:hover,\n",
       ".sk-estimator-doc-link.fitted:hover {\n",
       "  /* fitted */\n",
       "  background-color: var(--sklearn-color-fitted-level-3);\n",
       "  color: var(--sklearn-color-background);\n",
       "  text-decoration: none;\n",
       "}\n",
       "\n",
       "/* Span, style for the box shown on hovering the info icon */\n",
       ".sk-estimator-doc-link span {\n",
       "  display: none;\n",
       "  z-index: 9999;\n",
       "  position: relative;\n",
       "  font-weight: normal;\n",
       "  right: .2ex;\n",
       "  padding: .5ex;\n",
       "  margin: .5ex;\n",
       "  width: min-content;\n",
       "  min-width: 20ex;\n",
       "  max-width: 50ex;\n",
       "  color: var(--sklearn-color-text);\n",
       "  box-shadow: 2pt 2pt 4pt #999;\n",
       "  /* unfitted */\n",
       "  background: var(--sklearn-color-unfitted-level-0);\n",
       "  border: .5pt solid var(--sklearn-color-unfitted-level-3);\n",
       "}\n",
       "\n",
       ".sk-estimator-doc-link.fitted span {\n",
       "  /* fitted */\n",
       "  background: var(--sklearn-color-fitted-level-0);\n",
       "  border: var(--sklearn-color-fitted-level-3);\n",
       "}\n",
       "\n",
       ".sk-estimator-doc-link:hover span {\n",
       "  display: block;\n",
       "}\n",
       "\n",
       "/* \"?\"-specific style due to the `<a>` HTML tag */\n",
       "\n",
       "#sk-container-id-4 a.estimator_doc_link {\n",
       "  float: right;\n",
       "  font-size: 1rem;\n",
       "  line-height: 1em;\n",
       "  font-family: monospace;\n",
       "  background-color: var(--sklearn-color-background);\n",
       "  border-radius: 1rem;\n",
       "  height: 1rem;\n",
       "  width: 1rem;\n",
       "  text-decoration: none;\n",
       "  /* unfitted */\n",
       "  color: var(--sklearn-color-unfitted-level-1);\n",
       "  border: var(--sklearn-color-unfitted-level-1) 1pt solid;\n",
       "}\n",
       "\n",
       "#sk-container-id-4 a.estimator_doc_link.fitted {\n",
       "  /* fitted */\n",
       "  border: var(--sklearn-color-fitted-level-1) 1pt solid;\n",
       "  color: var(--sklearn-color-fitted-level-1);\n",
       "}\n",
       "\n",
       "/* On hover */\n",
       "#sk-container-id-4 a.estimator_doc_link:hover {\n",
       "  /* unfitted */\n",
       "  background-color: var(--sklearn-color-unfitted-level-3);\n",
       "  color: var(--sklearn-color-background);\n",
       "  text-decoration: none;\n",
       "}\n",
       "\n",
       "#sk-container-id-4 a.estimator_doc_link.fitted:hover {\n",
       "  /* fitted */\n",
       "  background-color: var(--sklearn-color-fitted-level-3);\n",
       "}\n",
       "</style><div id=\"sk-container-id-4\" class=\"sk-top-container\"><div class=\"sk-text-repr-fallback\"><pre>RandomizedSearchCV(cv=5,\n",
       "                   estimator=XGBClassifier(base_score=None, booster=None,\n",
       "                                           callbacks=None,\n",
       "                                           colsample_bylevel=None,\n",
       "                                           colsample_bynode=None,\n",
       "                                           colsample_bytree=None, device=None,\n",
       "                                           early_stopping_rounds=None,\n",
       "                                           enable_categorical=False,\n",
       "                                           eval_metric=None, feature_types=None,\n",
       "                                           gamma=None, grow_policy=None,\n",
       "                                           importance_type=None,\n",
       "                                           interaction_constraints=None,\n",
       "                                           learning_rate...\n",
       "                   param_distributions={&#x27;colsample_bytree&#x27;: [0.8, 0.9, 1.0],\n",
       "                                        &#x27;learning_rate&#x27;: [0.01, 0.05, 0.1, 0.2,\n",
       "                                                          0.3],\n",
       "                                        &#x27;max_depth&#x27;: &lt;scipy.stats._distn_infrastructure.rv_discrete_frozen object at 0x7f4f57c5c990&gt;,\n",
       "                                        &#x27;min_child_weight&#x27;: [1, 2, 3, 4],\n",
       "                                        &#x27;n_estimators&#x27;: &lt;scipy.stats._distn_infrastructure.rv_discrete_frozen object at 0x7f4f57415f90&gt;,\n",
       "                                        &#x27;subsample&#x27;: [0.8, 0.9, 1.0]},\n",
       "                   random_state=42, scoring=&#x27;accuracy&#x27;, verbose=2)</pre><b>In a Jupyter environment, please rerun this cell to show the HTML representation or trust the notebook. <br />On GitHub, the HTML representation is unable to render, please try loading this page with nbviewer.org.</b></div><div class=\"sk-container\" hidden><div class=\"sk-item sk-dashed-wrapped\"><div class=\"sk-label-container\"><div class=\"sk-label fitted sk-toggleable\"><input class=\"sk-toggleable__control sk-hidden--visually\" id=\"sk-estimator-id-4\" type=\"checkbox\" ><label for=\"sk-estimator-id-4\" class=\"sk-toggleable__label fitted sk-toggleable__label-arrow fitted\">&nbsp;&nbsp;RandomizedSearchCV<a class=\"sk-estimator-doc-link fitted\" rel=\"noreferrer\" target=\"_blank\" href=\"https://scikit-learn.org/1.4/modules/generated/sklearn.model_selection.RandomizedSearchCV.html\">?<span>Documentation for RandomizedSearchCV</span></a><span class=\"sk-estimator-doc-link fitted\">i<span>Fitted</span></span></label><div class=\"sk-toggleable__content fitted\"><pre>RandomizedSearchCV(cv=5,\n",
       "                   estimator=XGBClassifier(base_score=None, booster=None,\n",
       "                                           callbacks=None,\n",
       "                                           colsample_bylevel=None,\n",
       "                                           colsample_bynode=None,\n",
       "                                           colsample_bytree=None, device=None,\n",
       "                                           early_stopping_rounds=None,\n",
       "                                           enable_categorical=False,\n",
       "                                           eval_metric=None, feature_types=None,\n",
       "                                           gamma=None, grow_policy=None,\n",
       "                                           importance_type=None,\n",
       "                                           interaction_constraints=None,\n",
       "                                           learning_rate...\n",
       "                   param_distributions={&#x27;colsample_bytree&#x27;: [0.8, 0.9, 1.0],\n",
       "                                        &#x27;learning_rate&#x27;: [0.01, 0.05, 0.1, 0.2,\n",
       "                                                          0.3],\n",
       "                                        &#x27;max_depth&#x27;: &lt;scipy.stats._distn_infrastructure.rv_discrete_frozen object at 0x7f4f57c5c990&gt;,\n",
       "                                        &#x27;min_child_weight&#x27;: [1, 2, 3, 4],\n",
       "                                        &#x27;n_estimators&#x27;: &lt;scipy.stats._distn_infrastructure.rv_discrete_frozen object at 0x7f4f57415f90&gt;,\n",
       "                                        &#x27;subsample&#x27;: [0.8, 0.9, 1.0]},\n",
       "                   random_state=42, scoring=&#x27;accuracy&#x27;, verbose=2)</pre></div> </div></div><div class=\"sk-parallel\"><div class=\"sk-parallel-item\"><div class=\"sk-item\"><div class=\"sk-label-container\"><div class=\"sk-label fitted sk-toggleable\"><input class=\"sk-toggleable__control sk-hidden--visually\" id=\"sk-estimator-id-5\" type=\"checkbox\" ><label for=\"sk-estimator-id-5\" class=\"sk-toggleable__label fitted sk-toggleable__label-arrow fitted\">estimator: XGBClassifier</label><div class=\"sk-toggleable__content fitted\"><pre>XGBClassifier(base_score=None, booster=None, callbacks=None,\n",
       "              colsample_bylevel=None, colsample_bynode=None,\n",
       "              colsample_bytree=None, device=None, early_stopping_rounds=None,\n",
       "              enable_categorical=False, eval_metric=None, feature_types=None,\n",
       "              gamma=None, grow_policy=None, importance_type=None,\n",
       "              interaction_constraints=None, learning_rate=None, max_bin=None,\n",
       "              max_cat_threshold=None, max_cat_to_onehot=None,\n",
       "              max_delta_step=None, max_depth=None, max_leaves=None,\n",
       "              min_child_weight=None, missing=nan, monotone_constraints=None,\n",
       "              multi_strategy=None, n_estimators=None, n_jobs=None,\n",
       "              num_parallel_tree=None, random_state=42, ...)</pre></div> </div></div><div class=\"sk-serial\"><div class=\"sk-item\"><div class=\"sk-estimator fitted sk-toggleable\"><input class=\"sk-toggleable__control sk-hidden--visually\" id=\"sk-estimator-id-6\" type=\"checkbox\" ><label for=\"sk-estimator-id-6\" class=\"sk-toggleable__label fitted sk-toggleable__label-arrow fitted\">XGBClassifier</label><div class=\"sk-toggleable__content fitted\"><pre>XGBClassifier(base_score=None, booster=None, callbacks=None,\n",
       "              colsample_bylevel=None, colsample_bynode=None,\n",
       "              colsample_bytree=None, device=None, early_stopping_rounds=None,\n",
       "              enable_categorical=False, eval_metric=None, feature_types=None,\n",
       "              gamma=None, grow_policy=None, importance_type=None,\n",
       "              interaction_constraints=None, learning_rate=None, max_bin=None,\n",
       "              max_cat_threshold=None, max_cat_to_onehot=None,\n",
       "              max_delta_step=None, max_depth=None, max_leaves=None,\n",
       "              min_child_weight=None, missing=nan, monotone_constraints=None,\n",
       "              multi_strategy=None, n_estimators=None, n_jobs=None,\n",
       "              num_parallel_tree=None, random_state=42, ...)</pre></div> </div></div></div></div></div></div></div></div></div>"
      ],
      "text/plain": [
       "RandomizedSearchCV(cv=5,\n",
       "                   estimator=XGBClassifier(base_score=None, booster=None,\n",
       "                                           callbacks=None,\n",
       "                                           colsample_bylevel=None,\n",
       "                                           colsample_bynode=None,\n",
       "                                           colsample_bytree=None, device=None,\n",
       "                                           early_stopping_rounds=None,\n",
       "                                           enable_categorical=False,\n",
       "                                           eval_metric=None, feature_types=None,\n",
       "                                           gamma=None, grow_policy=None,\n",
       "                                           importance_type=None,\n",
       "                                           interaction_constraints=None,\n",
       "                                           learning_rate...\n",
       "                   param_distributions={'colsample_bytree': [0.8, 0.9, 1.0],\n",
       "                                        'learning_rate': [0.01, 0.05, 0.1, 0.2,\n",
       "                                                          0.3],\n",
       "                                        'max_depth': <scipy.stats._distn_infrastructure.rv_discrete_frozen object at 0x7f4f57c5c990>,\n",
       "                                        'min_child_weight': [1, 2, 3, 4],\n",
       "                                        'n_estimators': <scipy.stats._distn_infrastructure.rv_discrete_frozen object at 0x7f4f57415f90>,\n",
       "                                        'subsample': [0.8, 0.9, 1.0]},\n",
       "                   random_state=42, scoring='accuracy', verbose=2)"
      ]
     },
     "execution_count": 113,
     "metadata": {},
     "output_type": "execute_result"
    }
   ],
   "source": [
    "rand_search.fit(X_train_sel,y_train)"
   ]
  },
  {
   "cell_type": "code",
   "execution_count": 114,
   "metadata": {},
   "outputs": [
    {
     "name": "stdout",
     "output_type": "stream",
     "text": [
      "{'colsample_bytree': 0.8, 'learning_rate': 0.1, 'max_depth': 3, 'min_child_weight': 2, 'n_estimators': 66, 'subsample': 0.8}\n"
     ]
    }
   ],
   "source": [
    "best_params=rand_search.best_params_\n",
    "print(best_params)"
   ]
  },
  {
   "cell_type": "markdown",
   "metadata": {},
   "source": [
    "**Training optimised boosting model:**"
   ]
  },
  {
   "cell_type": "code",
   "execution_count": 115,
   "metadata": {},
   "outputs": [],
   "source": [
    "model_opt=XGBClassifier(**best_params, random_state=42)"
   ]
  },
  {
   "cell_type": "code",
   "execution_count": 119,
   "metadata": {},
   "outputs": [],
   "source": [
    "model_opt.fit(X_train_sel, y_train)\n",
    "\n",
    "#pickle\n",
    "dump(model_opt, open(f'../models/boost{best_params}.pk', 'wb'))"
   ]
  },
  {
   "cell_type": "code",
   "execution_count": 120,
   "metadata": {},
   "outputs": [
    {
     "name": "stdout",
     "output_type": "stream",
     "text": [
      "Accuracy train:  0.892110777595288\n",
      "Accuracy test:  0.891506228765572\n"
     ]
    }
   ],
   "source": [
    "y_pred_train=model_opt.predict(X_train_sel)\n",
    "y_pred=model_opt.predict(X_test_sel)\n",
    "boost_acc_opt= accuracy_score(y_pred,y_test)\n",
    "print('Accuracy train: ', accuracy_score(y_pred_train,y_train))\n",
    "print('Accuracy test: ', boost_acc_opt)\n",
    "\n"
   ]
  }
 ],
 "metadata": {
  "kernelspec": {
   "display_name": "venv",
   "language": "python",
   "name": "python3"
  },
  "language_info": {
   "codemirror_mode": {
    "name": "ipython",
    "version": 3
   },
   "file_extension": ".py",
   "mimetype": "text/x-python",
   "name": "python",
   "nbconvert_exporter": "python",
   "pygments_lexer": "ipython3",
   "version": "3.11.6"
  }
 },
 "nbformat": 4,
 "nbformat_minor": 2
}
