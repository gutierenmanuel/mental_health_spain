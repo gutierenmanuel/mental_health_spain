{
 "cells": [
  {
   "cell_type": "code",
   "execution_count": 2,
   "metadata": {},
   "outputs": [],
   "source": [
    "import pandas as pd\n",
    "import json\n",
    "#from unidecode import unidecode"
   ]
  },
  {
   "cell_type": "code",
   "execution_count": 9,
   "metadata": {},
   "outputs": [],
   "source": [
    "# Specify the Excel file path\n",
    "excel_file_path = '../data/raw/disreg_enceursalud20_a.xlsx'\n",
    "\n",
    "# List of sheet names\n",
    "sheet_names = ['Tablas1', 'Tablas2', 'Tablas3', 'Tablas4']"
   ]
  },
  {
   "cell_type": "code",
   "execution_count": 10,
   "metadata": {},
   "outputs": [
    {
     "name": "stdout",
     "output_type": "stream",
     "text": [
      "Successfully converted ../data/raw/disreg_enceursalud20_a.xlsx to ../data/json_files/var_keys_dict.json\n"
     ]
    }
   ],
   "source": [
    "# Initialize variables\n",
    "tables = {}\n",
    "\n",
    "# Iterate through sheets\n",
    "for sheet_name in sheet_names:\n",
    "    # Read the Excel sheet and drop the specified column\n",
    "    df = pd.read_excel(excel_file_path, sheet_name).drop('Unnamed: 2', axis=1, errors='ignore')\n",
    "\n",
    "    # Initialize variables\n",
    "    current_table = None\n",
    "    table_data = {}\n",
    "\n",
    "    # Iterate through rows\n",
    "    for index, row in df.iterrows():\n",
    "        # Check if the current row is the start of a new table\n",
    "        if isinstance(row['Unnamed: 0'], str) and not row['Unnamed: 0'].isdigit() and row['Unnamed: 0'] != 'Código ':\n",
    "            # Save the previous table data\n",
    "            if current_table is not None:\n",
    "                tables[current_table] = table_data\n",
    "\n",
    "            # Set the current table name and initialize an empty dictionary for table data\n",
    "            current_table, table_data = row['Unnamed: 0'], {}\n",
    "\n",
    "        # Check if the row contains data (skip rows with NaN values)\n",
    "        if pd.notna(row['Unnamed: 0']) and (isinstance(row['Unnamed: 0'], int) or (isinstance(row['Unnamed: 0'], str) and row['Unnamed: 0'].isdigit())):\n",
    "            # Append the row data to the table_data dictionary\n",
    "            table_data[row['Unnamed: 0']] = row['Unnamed: 1']\n",
    "\n",
    "    # Save the last table data for the current sheet\n",
    "    if current_table is not None:\n",
    "        tables[current_table] = table_data\n",
    "\n",
    "# Save the combined data to a JSON file\n",
    "json_file_path = '../data/json_files/var_keys_dict.json'\n",
    "with open(json_file_path, 'w', encoding='utf-8') as json_file:\n",
    "    json.dump(tables, json_file, indent=2, ensure_ascii=False)\n",
    "\n",
    "print(f'Successfully converted {excel_file_path} to {json_file_path}')"
   ]
  },
  {
   "cell_type": "code",
   "execution_count": 12,
   "metadata": {},
   "outputs": [],
   "source": [
    "df = pd.read_excel(excel_file_path, 'Diseño', usecols=['Variable','Descripción','Diccionario de la variable']).set_index('Variable')\n",
    "\n",
    "#renames the column with a shorter name\n",
    "df.dropna(subset='Diccionario de la variable', inplace=True)\n",
    "df.rename(columns={'Diccionario de la variable':'diccionario'}, inplace=True)\n",
    "\n",
    "#converts the variable dictionary into json format\n",
    "json_file_path = '../data/json_files/var_dict.json'\n",
    "with open(json_file_path, 'w', encoding='utf-8') as json_file:\n",
    "    df.to_json(json_file, orient='index', lines=False, indent=2,force_ascii=False, default_handler=str)"
   ]
  },
  {
   "cell_type": "code",
   "execution_count": 14,
   "metadata": {},
   "outputs": [],
   "source": [
    "# Load JSON strings into dictionaries\n",
    "path1 = '../data/json_files/var_keys_dict.json'\n",
    "path2 = '../data/json_files/var_dict.json'\n",
    "\n",
    "with open(path1, 'r') as json_file: #loads dictionary variables\n",
    "    var_keys_dict = json.load(json_file)\n",
    "\n",
    "with open(path2, 'r') as json_file: #loads json value keys of variables\n",
    "    var_dict = json.load(json_file)\n",
    "\n",
    "# Iterate through the first JSON (var_dict) and replace values\n",
    "for key, value in var_dict.items():\n",
    "    if \"diccionario\" in value and value[\"diccionario\"] in var_keys_dict:\n",
    "        var_dict[key][\"diccionario\"] = var_keys_dict[value[\"diccionario\"]]\n",
    "\n",
    "# Storing the resulting JSON (as full_var_dict)\n",
    "json_file_path = '../data/json_files/full_var_dict.json'\n",
    "with open(json_file_path, 'w', encoding='utf-8') as json_file:\n",
    "    json.dump(var_dict, json_file, indent=2, ensure_ascii=False)"
   ]
  }
 ],
 "metadata": {
  "kernelspec": {
   "display_name": "Python 3",
   "language": "python",
   "name": "python3"
  },
  "language_info": {
   "codemirror_mode": {
    "name": "ipython",
    "version": 3
   },
   "file_extension": ".py",
   "mimetype": "text/x-python",
   "name": "python",
   "nbconvert_exporter": "python",
   "pygments_lexer": "ipython3",
   "version": "3.11.4"
  }
 },
 "nbformat": 4,
 "nbformat_minor": 2
}
