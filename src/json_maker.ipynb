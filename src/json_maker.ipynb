{
 "cells": [
  {
   "cell_type": "markdown",
   "metadata": {},
   "source": [
    "# Creating a Json file containing information of all variables"
   ]
  },
  {
   "cell_type": "markdown",
   "metadata": {},
   "source": [
    "This notebook creates a json dictionary file 'full_var_dict.json' containing the original variable name, a descriptive variable name, as well as a brief description of each of the values inside each variable. The goal of this file is to ease the EDA and to produce graphs easier to read and understand with informative titles and descriptions of the categories of each variable."
   ]
  },
  {
   "cell_type": "code",
   "execution_count": 2,
   "metadata": {},
   "outputs": [
    {
     "name": "stderr",
     "output_type": "stream",
     "text": [
      "/tmp/ipykernel_4045/1177998677.py:1: DeprecationWarning: \n",
      "Pyarrow will become a required dependency of pandas in the next major release of pandas (pandas 3.0),\n",
      "(to allow more performant data types, such as the Arrow string type, and better interoperability with other libraries)\n",
      "but was not found to be installed on your system.\n",
      "If this would cause problems for you,\n",
      "please provide us feedback at https://github.com/pandas-dev/pandas/issues/54466\n",
      "        \n",
      "  import pandas as pd\n"
     ]
    }
   ],
   "source": [
    "import pandas as pd\n",
    "import json"
   ]
  },
  {
   "cell_type": "markdown",
   "metadata": {},
   "source": [
    "The excel file is the original data codebook, obtained from the INE website (e.g., Instituto Nacional de Estadistica), the owner of the data.\n",
    "\n",
    "Tables 1 to 4 explain in detail the meaning of each of the values inside each of the categorical values in the data as well as how missing data is coded for numerical and categorical variables"
   ]
  },
  {
   "cell_type": "code",
   "execution_count": 41,
   "metadata": {},
   "outputs": [],
   "source": [
    "# Specify the Excel file path\n",
    "excel_file_path = '../data/raw/disreg_enceursalud20_a.xlsx'\n",
    "\n",
    "# List of sheet names\n",
    "sheet_names = ['Tablas1', 'Tablas2', 'Tablas3', 'Tablas4']"
   ]
  },
  {
   "cell_type": "markdown",
   "metadata": {},
   "source": [
    "This code iterates trough tables 1 trough 4 and creates one single JSNON 'var_keys_dict' file with the description of each of the categorical values in the data as well as how missing data is coded"
   ]
  },
  {
   "cell_type": "code",
   "execution_count": 42,
   "metadata": {},
   "outputs": [
    {
     "name": "stdout",
     "output_type": "stream",
     "text": [
      "Successfully converted ../data/raw/disreg_enceursalud20_a.xlsx to ../data/json_files/var_keys_dict.json\n"
     ]
    }
   ],
   "source": [
    "# Initialize variables\n",
    "tables = {}\n",
    "\n",
    "# Iterate through sheets\n",
    "for sheet_name in sheet_names:\n",
    "    # Read the Excel sheet and drop the specified column\n",
    "    df = pd.read_excel(excel_file_path, sheet_name).drop('Unnamed: 2', axis=1, errors='ignore')\n",
    "\n",
    "    # Initialize variables\n",
    "    current_table = None\n",
    "    table_data = {}\n",
    "\n",
    "    # Iterate through rows\n",
    "    for index, row in df.iterrows():\n",
    "        # Check if the current row is the start of a new table\n",
    "        if isinstance(row['Unnamed: 0'], str) and not row['Unnamed: 0'].isdigit() and row['Unnamed: 0'] != 'Código ':\n",
    "            # Save the previous table data\n",
    "            if current_table is not None:\n",
    "                tables[current_table] = table_data\n",
    "\n",
    "            # Set the current table name and initialize an empty dictionary for table data\n",
    "            current_table, table_data = row['Unnamed: 0'], {}\n",
    "\n",
    "        # Check if the row contains data (skip rows with NaN values)\n",
    "        if pd.notna(row['Unnamed: 0']) and (isinstance(row['Unnamed: 0'], int) or (isinstance(row['Unnamed: 0'], str) and row['Unnamed: 0'].isdigit())):\n",
    "            # Append the row data to the table_data dictionary\n",
    "            table_data[row['Unnamed: 0']] = row['Unnamed: 1']\n",
    "\n",
    "    # Save the last table data for the current sheet\n",
    "    if current_table is not None:\n",
    "        tables[current_table] = table_data\n",
    "\n",
    "# Save the combined data to a JSON file\n",
    "json_file_path = '../data/json_files/var_keys_dict.json'\n",
    "with open(json_file_path, 'w', encoding='utf-8') as json_file:\n",
    "    json.dump(tables, json_file, indent=2, ensure_ascii=False)\n",
    "\n",
    "print(f'Successfully converted {excel_file_path} to {json_file_path}')"
   ]
  },
  {
   "cell_type": "markdown",
   "metadata": {},
   "source": [
    "This code creates a separate JSON file 'var_dict.json' containing the original variable name in the data with a brief description of the variable. The variable names in the data are short and uninformative. Hence the need of having a dictionary that explains what the variable name means"
   ]
  },
  {
   "cell_type": "code",
   "execution_count": 43,
   "metadata": {},
   "outputs": [],
   "source": [
    "df = pd.read_excel(excel_file_path, 'Diseño', usecols=['Variable','Descripción','Diccionario de la variable']).set_index('Variable')\n",
    "\n",
    "#renames the column with a shorter name\n",
    "df.dropna(subset='Diccionario de la variable', inplace=True)\n",
    "df.rename(columns={'Diccionario de la variable':'diccionario'}, inplace=True)\n",
    "\n",
    "#converts the variable dictionary into json format\n",
    "json_file_path = '../data/json_files/var_dict.json'\n",
    "with open(json_file_path, 'w', encoding='utf-8') as json_file:\n",
    "    df.to_json(json_file, orient='index', lines=False, indent=2,force_ascii=False, default_handler=str)"
   ]
  },
  {
   "cell_type": "markdown",
   "metadata": {},
   "source": [
    "This code opens the two formerly created JSON files and combines them into a single file 'full_var_dict' containing: variable name, description, and description of each of the categorical values and/or missing values for each variable"
   ]
  },
  {
   "cell_type": "code",
   "execution_count": 44,
   "metadata": {},
   "outputs": [],
   "source": [
    "# Load JSON strings into dictionaries\n",
    "path1 = '../data/json_files/var_keys_dict.json'\n",
    "path2 = '../data/json_files/var_dict.json'\n",
    "\n",
    "with open(path1, 'r') as json_file: #loads dictionary variables\n",
    "    var_keys_dict = json.load(json_file)\n",
    "\n",
    "with open(path2, 'r') as json_file: #loads json value keys of variables\n",
    "    var_dict = json.load(json_file)\n",
    "\n",
    "#THESE TWO CONDITIONALS MODIFY THE VARIABLE KEYS TO BINARY FOR THE TRANSFORMED BINARY VARIABLES IN\n",
    "# THE DATA CLEANING NOTEBOOK\n",
    "if 'TSINO' in var_keys_dict:\n",
    "    tsino_data = var_keys_dict['TSINO']\n",
    "    \n",
    "    # Create a new key '0' with the modified values\n",
    "    tsino_data['0'] = f\"{tsino_data['2']}/{tsino_data['8']} - {tsino_data['9']}\"\n",
    "    \n",
    "    # Remove the unnecessary keys\n",
    "    tsino_data.pop('2')\n",
    "    tsino_data.pop('8')\n",
    "    tsino_data.pop('9')\n",
    "\n",
    "if 'T1SINO' in var_keys_dict:\n",
    "    tsino_data = var_keys_dict['T1SINO']\n",
    "    \n",
    "    # Create a new key '0' with the modified values\n",
    "    tsino_data['0'] = f\"{tsino_data['2']}\"\n",
    "    # Remove the unnecessary keys\n",
    "    tsino_data.pop('2')\n",
    "\n",
    "# Iterate through the first JSON (var_dict) and replace values\n",
    "for key, value in var_dict.items():\n",
    "    if \"diccionario\" in value and value[\"diccionario\"] in var_keys_dict:\n",
    "        var_dict[key][\"diccionario\"] = var_keys_dict[value[\"diccionario\"]]\n",
    "\n",
    "# Storing the resulting JSON (as full_var_dict)\n",
    "json_file_path = '../data/json_files/full_var_dict.json'\n",
    "with open(json_file_path, 'w', encoding='utf-8') as json_file:\n",
    "    json.dump(var_dict, json_file, indent=2, ensure_ascii=False)"
   ]
  },
  {
   "cell_type": "markdown",
   "metadata": {},
   "source": [
    "# Final details for preparing JSON final file for deployment"
   ]
  },
  {
   "cell_type": "markdown",
   "metadata": {},
   "source": [
    "Variable 'P87_2a' and 'P87_13a' will be replaced with 'P87_2a_nuevo' and 'P87_13a_nuevo' "
   ]
  },
  {
   "cell_type": "code",
   "execution_count": 12,
   "metadata": {},
   "outputs": [],
   "source": [
    "json_file_path = '../data/json_files/full_var_dict.json'\n",
    "with open(json_file_path, 'r') as json_file_full: #loads full json file \n",
    "    full_var_dict = json.load(json_file_full)\n",
    "\n",
    "if 'P87_2a' in full_var_dict:\n",
    "    full_var_dict['P87_2a_nuevo'] = full_var_dict.pop('P87_2a')\n",
    "#    full_var_dict['P87_2a_nuevo']['Descripción'] = full_var_dict.pop('Medicinas para el estómago y/o las alteraciones digestivas consumidas o recetadas')\n",
    "\n",
    "if 'P87_13a' in full_var_dict:\n",
    "    full_var_dict['P87_13a_nuevo'] = full_var_dict.pop('P87_13a')\n",
    "\n",
    "# Step 3: Write the modified JSON data back to the file\n",
    "with open('your_file.json', 'w') as file:\n",
    "    json.dump(full_var_dict, file, indent=2)"
   ]
  },
  {
   "cell_type": "code",
   "execution_count": 10,
   "metadata": {},
   "outputs": [
    {
     "data": {
      "text/plain": [
       "'Medicinas para el estómago y/o las alteraciones digestivas consumidas'"
      ]
     },
     "execution_count": 10,
     "metadata": {},
     "output_type": "execute_result"
    }
   ],
   "source": [
    "full_var_dict['P87_13a_nuevo']['Descripción']"
   ]
  }
 ],
 "metadata": {
  "kernelspec": {
   "display_name": "Python 3",
   "language": "python",
   "name": "python3"
  },
  "language_info": {
   "codemirror_mode": {
    "name": "ipython",
    "version": 3
   },
   "file_extension": ".py",
   "mimetype": "text/x-python",
   "name": "python",
   "nbconvert_exporter": "python",
   "pygments_lexer": "ipython3",
   "version": "3.11.4"
  }
 },
 "nbformat": 4,
 "nbformat_minor": 2
}
