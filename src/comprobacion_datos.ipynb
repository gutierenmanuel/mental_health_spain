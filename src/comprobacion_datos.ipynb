{
 "cells": [
  {
   "cell_type": "code",
   "execution_count": 4,
   "metadata": {},
   "outputs": [],
   "source": [
    "import pandas as pd \n",
    "\n",
    "dtypes={'K33': object, 'K35':object}\n",
    "\n",
    "df = pd.read_csv('../data/raw/EESEadulto_2020.csv', sep ='\\t', dtype=dtypes)"
   ]
  },
  {
   "cell_type": "code",
   "execution_count": 12,
   "metadata": {},
   "outputs": [
    {
     "name": "stdout",
     "output_type": "stream",
     "text": [
      "<class 'pandas.core.frame.DataFrame'>\n",
      "RangeIndex: 22072 entries, 0 to 22071\n",
      "Columns: 427 entries, CCAA to CUADROS_DEPRESIVOS\n",
      "dtypes: float64(70), int64(150), object(207)\n",
      "memory usage: 71.9+ MB\n"
     ]
    }
   ],
   "source": [
    "df.info()"
   ]
  },
  {
   "cell_type": "markdown",
   "metadata": {},
   "source": [
    "Codigo para comprobar los datos de las columnas filtro"
   ]
  },
  {
   "cell_type": "code",
   "execution_count": null,
   "metadata": {},
   "outputs": [],
   "source": [
    "import pandas as pd\n",
    "\n",
    "columna_filtro = \"\"\n",
    "\n",
    "# Valores específicos en 'columna_filtro' que queremos filtrar\n",
    "valores_especificos = [1, 2]\n",
    "\n",
    "#-------------------\n",
    "\n",
    "# Filtrar el DataFrame para incluir solo las filas donde 'columna_filtro' está en los valores específicos\n",
    "df_filtrado = df[df[columna_filtro].isin(valores_especificos)]\n",
    "\n",
    "# Ahora 'df_filtrado' contiene solo las filas donde 'columna_filtro' está en los valores específicos\n",
    "# y puedes trabajar con la columna con los datos activados de este DataFrame filtrado según sea necesario.\n",
    "print(df_filtrado)\n"
   ]
  }
 ],
 "metadata": {
  "kernelspec": {
   "display_name": "venv",
   "language": "python",
   "name": "python3"
  },
  "language_info": {
   "codemirror_mode": {
    "name": "ipython",
    "version": 3
   },
   "file_extension": ".py",
   "mimetype": "text/x-python",
   "name": "python",
   "nbconvert_exporter": "python",
   "pygments_lexer": "ipython3",
   "version": "3.11.6"
  }
 },
 "nbformat": 4,
 "nbformat_minor": 2
}
