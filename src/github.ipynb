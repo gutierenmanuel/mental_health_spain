{
    "cells": [
        {
            "cell_type": "markdown",
            "metadata": {},
            "source": [
                "### Como manejar Github"
            ]
        },
        {
            "cell_type": "markdown",
            "metadata": {},
            "source": [
                "Primero verificamos que estemos al dia con las actualizaciones cambiando a la rama principal y actualizandola"
            ]
        },
        {
            "cell_type": "code",
            "execution_count": null,
            "metadata": {
                "vscode": {
                    "languageId": "shellscript"
                }
            },
            "outputs": [],
            "source": [
                "git checkout main\n",
                "git pull origin main"
            ]
        },
        {
            "cell_type": "markdown",
            "metadata": {},
            "source": [
                "Luego para CUALQUIER CAMBIO que hagamos, creamos una rama y nos movemos a ella"
            ]
        },
        {
            "cell_type": "code",
            "execution_count": null,
            "metadata": {
                "vscode": {
                    "languageId": "shellscript"
                }
            },
            "outputs": [],
            "source": [
                "git checkout -b nombre_de_la_rama"
            ]
        },
        {
            "cell_type": "markdown",
            "metadata": {},
            "source": [
                "DESARROLLAMOS y confirmamos los cambios"
            ]
        },
        {
            "cell_type": "code",
            "execution_count": null,
            "metadata": {
                "vscode": {
                    "languageId": "shellscript"
                }
            },
            "outputs": [],
            "source": [
                "git add .\n",
                "git commit -m \"Mensaje\"\n"
            ]
        },
        {
            "cell_type": "markdown",
            "metadata": {},
            "source": [
                "Antes de sincronizar con la rama principal nos volvemos a asegurar de que este actualizada"
            ]
        },
        {
            "cell_type": "code",
            "execution_count": null,
            "metadata": {
                "vscode": {
                    "languageId": "shellscript"
                }
            },
            "outputs": [],
            "source": [
                "git checkout main\n",
                "git pull origin main\n"
            ]
        },
        {
            "cell_type": "markdown",
            "metadata": {},
            "source": [
                "Y ahora fusionamos la rama con características en la rama principal."
            ]
        },
        {
            "cell_type": "code",
            "execution_count": null,
            "metadata": {
                "vscode": {
                    "languageId": "shellscript"
                }
            },
            "outputs": [],
            "source": [
                "git merge nombre_de_la_rama -m \"mensaje\""
            ]
        },
        {
            "cell_type": "markdown",
            "metadata": {},
            "source": [
                "Y una vez fusionadas, actualizamos el repositorio remoto"
            ]
        },
        {
            "cell_type": "code",
            "execution_count": null,
            "metadata": {
                "vscode": {
                    "languageId": "shellscript"
                }
            },
            "outputs": [],
            "source": [
                "git push origin main\n"
            ]
        },
        {
            "cell_type": "markdown",
            "metadata": {},
            "source": [
                "### Si modificas sin querer el main: "
            ]
        },
        {
            "cell_type": "markdown",
            "metadata": {},
            "source": [
                "Compruebas los archivos que has modificado, creado o borrado"
            ]
        },
        {
            "cell_type": "code",
            "execution_count": null,
            "metadata": {
                "vscode": {
                    "languageId": "shellscript"
                }
            },
            "outputs": [],
            "source": [
                "git diff --name-only HEAD^ HEAD"
            ]
        },
        {
            "cell_type": "markdown",
            "metadata": {},
            "source": [
                "RESPALDALOS, y devuelve el main a su estado anterior con"
            ]
        },
        {
            "cell_type": "code",
            "execution_count": null,
            "metadata": {
                "vscode": {
                    "languageId": "shellscript"
                }
            },
            "outputs": [],
            "source": [
                "git reset --hard HEAD~1\n"
            ]
        }
    ],
    "metadata": {
        "kernelspec": {
            "display_name": "Python 3.8.13 64-bit ('3.8.13')",
            "language": "python",
            "name": "python3"
        },
        "language_info": {
            "codemirror_mode": {
                "name": "ipython",
                "version": 3
            },
            "file_extension": ".py",
            "mimetype": "text/x-python",
            "name": "python",
            "nbconvert_exporter": "python",
            "pygments_lexer": "ipython3",
            "version": "3.11.4"
        },
        "orig_nbformat": 4,
        "vscode": {
            "interpreter": {
                "hash": "110cc1dee26208153f2972f08a2ad52b6a56238dc66d48e87fb757ef2996db56"
            }
        }
    },
    "nbformat": 4,
    "nbformat_minor": 2
}
